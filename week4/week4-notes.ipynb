{
 "cells": [
  {
   "cell_type": "markdown",
   "metadata": {},
   "source": [
    "# Week 4\n",
    "\n",
    "## Data Feminism Chapters 4 & 5\n",
    "\n",
    "### Topics\n",
    "\n",
    "* Principles: Rethink binaries, embrace pluralism\n",
    "* “What gets counted counts” names two kinds of problems: visibility and invisibility\n",
    "* The problem of scale: the connection between personal troubles and social problems\n",
    "* Who is doing the counting and who is being counted? Positionality!\n",
    "* Counting and consent\n",
    "* Data cleaning as reductionist: what gets lost?\n",
    "* Situated knowledges is pluralist\n",
    "* Data for co-liberation\n"
   ]
  },
  {
   "cell_type": "markdown",
   "metadata": {},
   "source": [
    "### Questions\n",
    "\n",
    "1. How has the binary classification of gender shaped contemporary data practices?\n",
    "2. How has the classification of race shaped contemporary data practices?\n",
    "3. How does “embracing pluralism” change contemporary data practices?\n",
    "4. What are “strangers in the dataset” and why does it matter?\n",
    "5. How is “data for co-liberation” different from “data for good”?\n"
   ]
  },
  {
   "cell_type": "markdown",
   "metadata": {},
   "source": [
    "### How has the binary classification of gender shaped contemporary data practices?\n",
    "\n",
    "\"the way things are\" not questionging how a classification system was constructed.\n",
    "\n",
    "TSA scanning machine operator punches in the gender based on a judgement before the scan begins. The machine's scanning model makes assumptions based on the gender decision which can lead to pat downs.\n",
    "\n",
    "Women's pants pockets are too small and are so for proscribed fashionable reasons that women's clothing should be tighter, form fitting.\n",
    "\n",
    "performances of gender...\n",
    "\n",
    "The option of selecting non-binary gender options is a positive for representaiton, but a negative when it becomes the rationale for exclusion and punishment. Military ban on transgender people."
   ]
  },
  {
   "cell_type": "markdown",
   "metadata": {},
   "source": [
    "### How has the classification of race shaped contemporary data practices?\n",
    "\n",
    "machine learning and data models for everything from car loans to health outcomes creating 'scientific racism' not unlike the eugenics of the 18th century.  face data to identify criminals...\n",
    "\n",
    "US Census and multiple race selection...\n",
    "\n",
    "Colored Conventions data collection project of minutes. And the rules for using the data acknowledges the contextual concern of counting people of color as were people caught in the slave trade.\n",
    "\n",
    "Project also compels the counting of women who were surely present but not recorded in the minutes."
   ]
  },
  {
   "cell_type": "markdown",
   "metadata": {},
   "source": [
    "### How does “embracing pluralism” change contemporary data practices?\n",
    "\n",
    "Ignoring data visualization norms in the interest of representing the minoritized plight. The various map types of San Francisco's Anti-Eviction Mapping Project, AEMP is a good example. Instead of a singular 'true story' the data representations showcase the contradictory realties that exist.\n",
    "\n",
    "By working against 'cleaniness' in the data and "
   ]
  },
  {
   "cell_type": "markdown",
   "metadata": {},
   "source": [
    "### What are “strangers in the dataset” and why does it matter?\n",
    "\n",
    "The early data cleaners were the eugenicists. They're need for cleanliness and tidy datasets, assumes a need for a 'correct order' and it is a 'diversity hiding trick.'\n",
    "\n",
    "'Data does not need cleaning until there are strangers in the dataset.' \n",
    "\n",
    "Outsiders have the potential to commit 'epistemic violence – 'the harm that dominant groups like colonial powers wreak by privileging their ways of knowing over local and Indigenous ways.'\n",
    "\n"
   ]
  },
  {
   "cell_type": "markdown",
   "metadata": {},
   "source": [
    "### How is “data for co-liberation” different from “data for good”?\n",
    "\n",
    "Choosing cleaner data at a larger scale that is realitively easy and quick to purchase vs. more accurate data at a local scale for which one has to engage and build trust with community groups.\n",
    "\n",
    "AEMP involves many desginers, including non-experts making maps for the first time. By building from within and not outsourcing to 'geniuses,' 'wizards,' and 'unicorns.'\n",
    "\n",
    "The idea that the notion of what is 'good' is too fuzzy. Whereas co-liberation is grounded in the belief that there are enduring asymmetrical power dimensions and there necessary work to redress this issue. And in doing this work together those in dominant groups and minoritized ones are 'liberated' through a built trust and mutual understanding.\n",
    "\n",
    "Quantitative data practices are grounded in \"inclusive civic processes, resulting in locally informed, ground-truth insights that derive from multiple perspectives.\"\n",
    "\n",
    "Knowledge transfer and social infrastructure\n",
    "\n"
   ]
  },
  {
   "cell_type": "markdown",
   "metadata": {},
   "source": [
    "### Additional notes\n",
    "\n",
    "* the 'paradox of exposure' double bind of stand to benefit from being counted, but are at risk of being classified. Immigrants and the census are a good example.\n",
    "\n",
    "* FaceBook 'real name' policy\n",
    "\n",
    "* Intersectional second hackathon on breast feeding cutures.\n",
    "\n",
    "* who is doing the counting and who's interests do they serve"
   ]
  }
 ],
 "metadata": {
  "kernelspec": {
   "display_name": "Python 3.10.2 64-bit",
   "language": "python",
   "name": "python3"
  },
  "language_info": {
   "codemirror_mode": {
    "name": "ipython",
    "version": 3
   },
   "file_extension": ".py",
   "mimetype": "text/x-python",
   "name": "python",
   "nbconvert_exporter": "python",
   "pygments_lexer": "ipython3",
   "version": "3.10.2"
  },
  "orig_nbformat": 4,
  "vscode": {
   "interpreter": {
    "hash": "aee8b7b246df8f9039afb4144a1f6fd8d2ca17a180786b69acc140d282b71a49"
   }
  }
 },
 "nbformat": 4,
 "nbformat_minor": 2
}
