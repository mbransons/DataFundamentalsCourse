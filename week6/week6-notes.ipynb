{
 "cells": [
  {
   "cell_type": "markdown",
   "metadata": {},
   "source": [
    "# Working with Data Fundamentals Proposal\n",
    "\n",
    "Project is more of a research proposal rather than an actual analysis and visualization. Thinking about the relationship of the data sources.\n",
    "\n",
    "## Data Feminism\n",
    "According to D'Ignazio & Klein, the seven organizing principles of data feminism are: (1) Examine power; (2) Challenge power; (3) Elevate emotion & embodiment; (4) Rethink binaries & hierarchies; (5) Embrace pluralism; (6) Consider context; and, (7) Make labor visible.\n",
    "\n",
    "## The Proposal\n",
    "\n",
    "Identify the question and then describe teh context. What is gained from this analysis? What are the costs? Pay particular attention to unintended consequences, which may be anticipated from similar kinds of projects.\n",
    "\n",
    "### Structure\n",
    "* Intro paragraph in which the question is identified in context.\n",
    "* A description of the data source (or sources) that can be used to answer the question. This will include considerations about data quality (metods, validity, reliability).\n",
    "* A plan for analysis\n",
    "\n",
    "## The Report\n",
    "The visualization and report will be due at the end of the semester. The structure of the report will be as follows:\n",
    "* Introduction\n",
    "* Critical reflection of the data (application of the seven principles)\n",
    "* Plan for analysis and any preliminary analysis/visualiztion\n"
   ]
  },
  {
   "cell_type": "markdown",
   "metadata": {},
   "source": [
    "## Data Biography Exercise in Class\n",
    "\n",
    "[Housing Data Coalition Website](https://www.housingdatanyc.org/)\n",
    "[NYCDB Github](https://github.com/nycdb/nycdb)\n",
    "\n",
    "\"In the face of the real estate industry’s escalating exploitation of housing data to drive speculation and displacement, HDC seeks to make public data more accessible and actionable for housing justice groups.\"\n",
    "\n",
    "* Where did it come from? Who collected it? When? \n",
    "Members of the HDC regularly collect data on NYC property records and gather a variety of datasets connected to various public agencies that interact with housing in NYC – Department of Buildings, \n",
    "Department of Finance, Department of Housing Preservation and Development, Marshal Evictions, NYC Housing Authority, OATH Hearings Division Case Status, OCA Housing Court.\n",
    "\n",
    "* How was it collected? \n",
    "A variety of public data sources were collected and collated together into a single dataset. There is also a data user guide wiki which describes for each dataset added – provenance, a data dictionary, tables list, and example queries.\n",
    "\n",
    "* Why was it collected?\n",
    "\"Many members are professionally affiliated with housing in New York City -- coming from non-profit organizations that engage in housing research, policy advocacy, tenant organizing, and technical support and capacity-building. Some members are involved in grassroots organizing around housing justice issues, and others bring tech expertise and volunteer time to HDC’s projects. All members share a commitment to furthering housing justice in New York City as outlined in our values statement\": \n",
    "\n",
    "\"HDC members are committed to advancing the right to housing for New Yorkers and ending the displacement of low-income communities of color. We believe that the right to housing includes affordable, dignified housing within the communities that New Yorkers have created, and that this right is especially threatened by real estate speculation. Given the current use of data in the real estate tech industry to enable predatory speculation, we agree that information and data from HDC should not be used for profit. Rather we seek to make data transparent, accessible, and empowering to those who work against displacement.\""
   ]
  }
 ],
 "metadata": {
  "kernelspec": {
   "display_name": "Python 3.9.7 ('base')",
   "language": "python",
   "name": "python3"
  },
  "language_info": {
   "name": "python",
   "version": "3.9.7"
  },
  "orig_nbformat": 4,
  "vscode": {
   "interpreter": {
    "hash": "bffae61b4a647f5c3a2b9689cc2bbc523f2c1227093a073b0d809d31c71c3583"
   }
  }
 },
 "nbformat": 4,
 "nbformat_minor": 2
}
