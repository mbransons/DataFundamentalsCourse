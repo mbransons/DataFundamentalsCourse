{
 "cells": [
  {
   "cell_type": "markdown",
   "metadata": {},
   "source": [
    "# Pew Research Survey Data\n",
    "## Activity\n",
    "\n",
    "1. Download a data file from the Pew Center. Copy the file to your Drive and read it into a data object.\n",
    "2. Create a crosstabulation and a visualization to depict the relationship between a demographic variable and an attitudinal variable.\n",
    "3. Create a linear model to predict the attitudinal variable.\n",
    "4. Interpret the results."
   ]
  },
  {
   "cell_type": "code",
   "execution_count": 5,
   "metadata": {},
   "outputs": [
    {
     "name": "stdout",
     "output_type": "stream",
     "text": [
      "Requirement already satisfied: pyreadstat in /Users/michaelsmith/opt/anaconda3/lib/python3.9/site-packages (1.1.9)\n",
      "Requirement already satisfied: pandas>=1.2.0 in /Users/michaelsmith/opt/anaconda3/lib/python3.9/site-packages (from pyreadstat) (1.3.4)\n",
      "Requirement already satisfied: python-dateutil>=2.7.3 in /Users/michaelsmith/opt/anaconda3/lib/python3.9/site-packages (from pandas>=1.2.0->pyreadstat) (2.8.2)\n",
      "Requirement already satisfied: pytz>=2017.3 in /Users/michaelsmith/opt/anaconda3/lib/python3.9/site-packages (from pandas>=1.2.0->pyreadstat) (2021.3)\n",
      "Requirement already satisfied: numpy>=1.17.3 in /Users/michaelsmith/opt/anaconda3/lib/python3.9/site-packages (from pandas>=1.2.0->pyreadstat) (1.20.3)\n",
      "Requirement already satisfied: six>=1.5 in /Users/michaelsmith/opt/anaconda3/lib/python3.9/site-packages (from python-dateutil>=2.7.3->pandas>=1.2.0->pyreadstat) (1.16.0)\n",
      "Requirement already satisfied: researchpy in /Users/michaelsmith/opt/anaconda3/lib/python3.9/site-packages (0.3.5)\n",
      "Requirement already satisfied: pandas in /Users/michaelsmith/opt/anaconda3/lib/python3.9/site-packages (from researchpy) (1.3.4)\n",
      "Requirement already satisfied: statsmodels in /Users/michaelsmith/opt/anaconda3/lib/python3.9/site-packages (from researchpy) (0.12.2)\n",
      "Requirement already satisfied: scipy in /Users/michaelsmith/opt/anaconda3/lib/python3.9/site-packages (from researchpy) (1.7.1)\n",
      "Requirement already satisfied: numpy in /Users/michaelsmith/opt/anaconda3/lib/python3.9/site-packages (from researchpy) (1.20.3)\n",
      "Requirement already satisfied: patsy in /Users/michaelsmith/opt/anaconda3/lib/python3.9/site-packages (from researchpy) (0.5.2)\n",
      "Requirement already satisfied: python-dateutil>=2.7.3 in /Users/michaelsmith/opt/anaconda3/lib/python3.9/site-packages (from pandas->researchpy) (2.8.2)\n",
      "Requirement already satisfied: pytz>=2017.3 in /Users/michaelsmith/opt/anaconda3/lib/python3.9/site-packages (from pandas->researchpy) (2021.3)\n",
      "Requirement already satisfied: six>=1.5 in /Users/michaelsmith/opt/anaconda3/lib/python3.9/site-packages (from python-dateutil>=2.7.3->pandas->researchpy) (1.16.0)\n"
     ]
    }
   ],
   "source": [
    "!pip install pyreadstat\n",
    "!pip install researchpy"
   ]
  },
  {
   "cell_type": "code",
   "execution_count": 16,
   "metadata": {},
   "outputs": [],
   "source": [
    "import numpy as np\n",
    "import pandas as pd\n",
    "import statsmodels.api as sm\n",
    "import seaborn as sb\n",
    "import math\n",
    "import matplotlib.pyplot as plt \n",
    "import researchpy as rp"
   ]
  },
  {
   "cell_type": "markdown",
   "metadata": {},
   "source": [
    "## [American Trends Panel Wave 42](https://www.pewresearch.org/science/dataset/american-trends-panel-wave-42/)\n",
    "\n",
    "Asking two main questions with specific follow-ups:\n",
    "* PAST – Compared with twenty years ago, do you think developments in science have made\n",
    "people’s lives… Better, Worse, About the same, No answer.\n",
    "\n",
    "* FUTURE – Looking ahead to the next twenty years, do you think developments in science will make\n",
    "people’s lives… Better, Worse, About the same, No answer."
   ]
  },
  {
   "cell_type": "code",
   "execution_count": 31,
   "metadata": {},
   "outputs": [
    {
     "data": {
      "text/html": [
       "<div>\n",
       "<style scoped>\n",
       "    .dataframe tbody tr th:only-of-type {\n",
       "        vertical-align: middle;\n",
       "    }\n",
       "\n",
       "    .dataframe tbody tr th {\n",
       "        vertical-align: top;\n",
       "    }\n",
       "\n",
       "    .dataframe thead th {\n",
       "        text-align: right;\n",
       "    }\n",
       "</style>\n",
       "<table border=\"1\" class=\"dataframe\">\n",
       "  <thead>\n",
       "    <tr style=\"text-align: right;\">\n",
       "      <th></th>\n",
       "      <th>QKEY</th>\n",
       "      <th>Device_Type_W42</th>\n",
       "      <th>LANG_W42</th>\n",
       "      <th>FORM_W42</th>\n",
       "      <th>PAST_W42</th>\n",
       "      <th>FUTURE_W42</th>\n",
       "      <th>DOV_FUTURE_W42</th>\n",
       "      <th>FUTURE_BOE_OE1_W42</th>\n",
       "      <th>FUTURE_BOE_OE2_W42</th>\n",
       "      <th>FUTURE_BOE_OE3_W42</th>\n",
       "      <th>...</th>\n",
       "      <th>F_PARTY_FINAL</th>\n",
       "      <th>F_PARTYLN_FINAL</th>\n",
       "      <th>F_PARTYSUM_FINAL</th>\n",
       "      <th>F_INCOME</th>\n",
       "      <th>F_INCOME_RECODE</th>\n",
       "      <th>F_REG</th>\n",
       "      <th>F_IDEO</th>\n",
       "      <th>F_ACSWEB</th>\n",
       "      <th>F_VOLSUM</th>\n",
       "      <th>WEIGHT_W42</th>\n",
       "    </tr>\n",
       "  </thead>\n",
       "  <tbody>\n",
       "    <tr>\n",
       "      <th>0</th>\n",
       "      <td>100363.0</td>\n",
       "      <td>Mobile phone</td>\n",
       "      <td>English</td>\n",
       "      <td>Form 1</td>\n",
       "      <td>Better</td>\n",
       "      <td>Better</td>\n",
       "      <td>DOV_FUTURE 1</td>\n",
       "      <td>Advances in health care and medicine</td>\n",
       "      <td>Surgical techniques</td>\n",
       "      <td>NaN</td>\n",
       "      <td>...</td>\n",
       "      <td>Democrat</td>\n",
       "      <td>NaN</td>\n",
       "      <td>Dem/Lean Dem</td>\n",
       "      <td>$100,000 to less than $150,000</td>\n",
       "      <td>$75,000+</td>\n",
       "      <td>You are ABSOLUTELY CERTAIN that you are regist...</td>\n",
       "      <td>Liberal</td>\n",
       "      <td>Accesses Internet by paying a cell phone compa...</td>\n",
       "      <td>No</td>\n",
       "      <td>0.575440</td>\n",
       "    </tr>\n",
       "    <tr>\n",
       "      <th>1</th>\n",
       "      <td>101224.0</td>\n",
       "      <td>Mobile phone</td>\n",
       "      <td>English</td>\n",
       "      <td>Form 1</td>\n",
       "      <td>Worse</td>\n",
       "      <td>Worse</td>\n",
       "      <td>DOV_FUTURE 1</td>\n",
       "      <td>No answer</td>\n",
       "      <td>NaN</td>\n",
       "      <td>NaN</td>\n",
       "      <td>...</td>\n",
       "      <td>Republican</td>\n",
       "      <td>NaN</td>\n",
       "      <td>Rep/Lean Rep</td>\n",
       "      <td>$40,000 to less than $50,000</td>\n",
       "      <td>$30-$74,999</td>\n",
       "      <td>You are ABSOLUTELY CERTAIN that you are regist...</td>\n",
       "      <td>Conservative</td>\n",
       "      <td>Accesses Internet by paying a cell phone compa...</td>\n",
       "      <td>Yes</td>\n",
       "      <td>0.271687</td>\n",
       "    </tr>\n",
       "    <tr>\n",
       "      <th>2</th>\n",
       "      <td>101437.0</td>\n",
       "      <td>Desktop</td>\n",
       "      <td>English</td>\n",
       "      <td>Form 2</td>\n",
       "      <td>NaN</td>\n",
       "      <td>NaN</td>\n",
       "      <td>NaN</td>\n",
       "      <td>NaN</td>\n",
       "      <td>NaN</td>\n",
       "      <td>NaN</td>\n",
       "      <td>...</td>\n",
       "      <td>Republican</td>\n",
       "      <td>NaN</td>\n",
       "      <td>Rep/Lean Rep</td>\n",
       "      <td>$10,000 to less than $20,000</td>\n",
       "      <td>&lt;$30,000</td>\n",
       "      <td>You are ABSOLUTELY CERTAIN that you are regist...</td>\n",
       "      <td>Conservative</td>\n",
       "      <td>Accesses Internet by paying a cell phone compa...</td>\n",
       "      <td>No</td>\n",
       "      <td>0.568512</td>\n",
       "    </tr>\n",
       "    <tr>\n",
       "      <th>3</th>\n",
       "      <td>101493.0</td>\n",
       "      <td>Mobile phone</td>\n",
       "      <td>English</td>\n",
       "      <td>Form 2</td>\n",
       "      <td>NaN</td>\n",
       "      <td>NaN</td>\n",
       "      <td>NaN</td>\n",
       "      <td>NaN</td>\n",
       "      <td>NaN</td>\n",
       "      <td>NaN</td>\n",
       "      <td>...</td>\n",
       "      <td>Republican</td>\n",
       "      <td>NaN</td>\n",
       "      <td>Rep/Lean Rep</td>\n",
       "      <td>$75,000 to less than $100,000</td>\n",
       "      <td>$75,000+</td>\n",
       "      <td>You are ABSOLUTELY CERTAIN that you are regist...</td>\n",
       "      <td>Conservative</td>\n",
       "      <td>Accesses Internet by paying a cell phone compa...</td>\n",
       "      <td>No</td>\n",
       "      <td>0.342295</td>\n",
       "    </tr>\n",
       "    <tr>\n",
       "      <th>4</th>\n",
       "      <td>102130.0</td>\n",
       "      <td>Mobile phone</td>\n",
       "      <td>English</td>\n",
       "      <td>Form 1</td>\n",
       "      <td>About the same</td>\n",
       "      <td>Better</td>\n",
       "      <td>DOV_FUTURE 2</td>\n",
       "      <td>NaN</td>\n",
       "      <td>NaN</td>\n",
       "      <td>NaN</td>\n",
       "      <td>...</td>\n",
       "      <td>Independent</td>\n",
       "      <td>Refused</td>\n",
       "      <td>DK/Refused/No lean</td>\n",
       "      <td>Refused</td>\n",
       "      <td>Don't know/Refused</td>\n",
       "      <td>You are ABSOLUTELY CERTAIN that you are regist...</td>\n",
       "      <td>Moderate</td>\n",
       "      <td>Accesses Internet by paying a cell phone compa...</td>\n",
       "      <td>Yes</td>\n",
       "      <td>0.105145</td>\n",
       "    </tr>\n",
       "  </tbody>\n",
       "</table>\n",
       "<p>5 rows × 195 columns</p>\n",
       "</div>"
      ],
      "text/plain": [
       "       QKEY Device_Type_W42 LANG_W42 FORM_W42        PAST_W42 FUTURE_W42  \\\n",
       "0  100363.0    Mobile phone  English   Form 1          Better     Better   \n",
       "1  101224.0    Mobile phone  English   Form 1           Worse      Worse   \n",
       "2  101437.0         Desktop  English   Form 2             NaN        NaN   \n",
       "3  101493.0    Mobile phone  English   Form 2             NaN        NaN   \n",
       "4  102130.0    Mobile phone  English   Form 1  About the same     Better   \n",
       "\n",
       "  DOV_FUTURE_W42                    FUTURE_BOE_OE1_W42   FUTURE_BOE_OE2_W42  \\\n",
       "0   DOV_FUTURE 1  Advances in health care and medicine  Surgical techniques   \n",
       "1   DOV_FUTURE 1                             No answer                  NaN   \n",
       "2            NaN                                   NaN                  NaN   \n",
       "3            NaN                                   NaN                  NaN   \n",
       "4   DOV_FUTURE 2                                   NaN                  NaN   \n",
       "\n",
       "  FUTURE_BOE_OE3_W42  ... F_PARTY_FINAL F_PARTYLN_FINAL    F_PARTYSUM_FINAL  \\\n",
       "0                NaN  ...      Democrat             NaN        Dem/Lean Dem   \n",
       "1                NaN  ...    Republican             NaN        Rep/Lean Rep   \n",
       "2                NaN  ...    Republican             NaN        Rep/Lean Rep   \n",
       "3                NaN  ...    Republican             NaN        Rep/Lean Rep   \n",
       "4                NaN  ...   Independent         Refused  DK/Refused/No lean   \n",
       "\n",
       "                         F_INCOME     F_INCOME_RECODE  \\\n",
       "0  $100,000 to less than $150,000            $75,000+   \n",
       "1    $40,000 to less than $50,000         $30-$74,999   \n",
       "2    $10,000 to less than $20,000            <$30,000   \n",
       "3   $75,000 to less than $100,000            $75,000+   \n",
       "4                         Refused  Don't know/Refused   \n",
       "\n",
       "                                               F_REG        F_IDEO  \\\n",
       "0  You are ABSOLUTELY CERTAIN that you are regist...       Liberal   \n",
       "1  You are ABSOLUTELY CERTAIN that you are regist...  Conservative   \n",
       "2  You are ABSOLUTELY CERTAIN that you are regist...  Conservative   \n",
       "3  You are ABSOLUTELY CERTAIN that you are regist...  Conservative   \n",
       "4  You are ABSOLUTELY CERTAIN that you are regist...      Moderate   \n",
       "\n",
       "                                            F_ACSWEB F_VOLSUM WEIGHT_W42  \n",
       "0  Accesses Internet by paying a cell phone compa...       No   0.575440  \n",
       "1  Accesses Internet by paying a cell phone compa...      Yes   0.271687  \n",
       "2  Accesses Internet by paying a cell phone compa...       No   0.568512  \n",
       "3  Accesses Internet by paying a cell phone compa...       No   0.342295  \n",
       "4  Accesses Internet by paying a cell phone compa...      Yes   0.105145  \n",
       "\n",
       "[5 rows x 195 columns]"
      ]
     },
     "execution_count": 31,
     "metadata": {},
     "output_type": "execute_result"
    }
   ],
   "source": [
    "ATP_W42 = pd.read_spss('data/ATP-W42.sav')\n",
    "ATP_W42.head()"
   ]
  },
  {
   "cell_type": "markdown",
   "metadata": {},
   "source": [
    "## Values for comparison\n",
    "Does political party affiliation impact attitudes on scientific developments' influence on people's lives in the past or future?\n",
    "How about income?"
   ]
  },
  {
   "cell_type": "code",
   "execution_count": 32,
   "metadata": {},
   "outputs": [
    {
     "data": {
      "text/plain": [
       "0               Better\n",
       "1                Worse\n",
       "2                  NaN\n",
       "3                  NaN\n",
       "4       About the same\n",
       "             ...      \n",
       "4459               NaN\n",
       "4460            Better\n",
       "4461               NaN\n",
       "4462            Better\n",
       "4463               NaN\n",
       "Name: PAST_W42, Length: 4464, dtype: category\n",
       "Categories (4, object): ['About the same', 'Better', 'Refused', 'Worse']"
      ]
     },
     "execution_count": 32,
     "metadata": {},
     "output_type": "execute_result"
    }
   ],
   "source": [
    "# PAST Compared with twenty years ago, do you think developments in science have made people’s lives…\n",
    "# Better, Worse, About the same, No answer\n",
    "ATP_W42['PAST_W42']"
   ]
  },
  {
   "cell_type": "code",
   "execution_count": 33,
   "metadata": {},
   "outputs": [
    {
     "name": "stderr",
     "output_type": "stream",
     "text": [
      "/var/folders/n3/7lr2xtgs72g16rs2rfk0gvgw0000gn/T/ipykernel_46539/1227186890.py:2: PerformanceWarning: DataFrame is highly fragmented.  This is usually the result of calling `frame.insert` many times, which has poor performance.  Consider joining all columns at once using pd.concat(axis=1) instead.  To get a de-fragmented frame, use `newframe = frame.copy()`\n",
      "  ATP_W42['PAST_W42r'] = np.where(ATP_W42['PAST_W42'].str.contains('Refused'), np.nan, ATP_W42['PAST_W42'])\n"
     ]
    },
    {
     "data": {
      "text/plain": [
       "0               Better\n",
       "1                Worse\n",
       "2                  NaN\n",
       "3                  NaN\n",
       "4       About the same\n",
       "             ...      \n",
       "4459               NaN\n",
       "4460            Better\n",
       "4461               NaN\n",
       "4462            Better\n",
       "4463               NaN\n",
       "Name: PAST_W42r, Length: 4464, dtype: object"
      ]
     },
     "execution_count": 33,
     "metadata": {},
     "output_type": "execute_result"
    }
   ],
   "source": [
    "# PAST\n",
    "# Substituting 'Refused' values with NaN\n",
    "ATP_W42['PAST_W42r'] = np.where(ATP_W42['PAST_W42'].str.contains('Refused'), np.nan, ATP_W42['PAST_W42'])\n",
    "ATP_W42['PAST_W42r']"
   ]
  },
  {
   "cell_type": "code",
   "execution_count": 34,
   "metadata": {},
   "outputs": [
    {
     "data": {
      "text/plain": [
       "0       Better\n",
       "1        Worse\n",
       "2          NaN\n",
       "3          NaN\n",
       "4       Better\n",
       "         ...  \n",
       "4459       NaN\n",
       "4460    Better\n",
       "4461       NaN\n",
       "4462    Better\n",
       "4463       NaN\n",
       "Name: FUTURE_W42, Length: 4464, dtype: category\n",
       "Categories (4, object): ['About the same', 'Better', 'Refused', 'Worse']"
      ]
     },
     "execution_count": 34,
     "metadata": {},
     "output_type": "execute_result"
    }
   ],
   "source": [
    "# FUTURE Looking ahead to the next twenty years, do you think developments in science will make people’s lives…\n",
    "# Better, Worse, About the same, No answer\n",
    "ATP_W42['FUTURE_W42']"
   ]
  },
  {
   "cell_type": "code",
   "execution_count": 35,
   "metadata": {},
   "outputs": [
    {
     "name": "stderr",
     "output_type": "stream",
     "text": [
      "/var/folders/n3/7lr2xtgs72g16rs2rfk0gvgw0000gn/T/ipykernel_46539/1747425837.py:2: PerformanceWarning: DataFrame is highly fragmented.  This is usually the result of calling `frame.insert` many times, which has poor performance.  Consider joining all columns at once using pd.concat(axis=1) instead.  To get a de-fragmented frame, use `newframe = frame.copy()`\n",
      "  ATP_W42['FUTURE_W42r'] = np.where(ATP_W42['FUTURE_W42'].str.contains('Refused'), np.nan, ATP_W42['FUTURE_W42'])\n"
     ]
    },
    {
     "data": {
      "text/plain": [
       "0       Better\n",
       "1        Worse\n",
       "2          NaN\n",
       "3          NaN\n",
       "4       Better\n",
       "         ...  \n",
       "4459       NaN\n",
       "4460    Better\n",
       "4461       NaN\n",
       "4462    Better\n",
       "4463       NaN\n",
       "Name: FUTURE_W42r, Length: 4464, dtype: object"
      ]
     },
     "execution_count": 35,
     "metadata": {},
     "output_type": "execute_result"
    }
   ],
   "source": [
    "# FUTURE\n",
    "ATP_W42['FUTURE_W42r'] = np.where(ATP_W42['FUTURE_W42'].str.contains('Refused'), np.nan, ATP_W42['FUTURE_W42'])\n",
    "ATP_W42['FUTURE_W42r']"
   ]
  },
  {
   "cell_type": "code",
   "execution_count": 36,
   "metadata": {},
   "outputs": [
    {
     "data": {
      "text/plain": [
       "0             Democrat\n",
       "1           Republican\n",
       "2           Republican\n",
       "3           Republican\n",
       "4          Independent\n",
       "             ...      \n",
       "4459    Something else\n",
       "4460          Democrat\n",
       "4461       Independent\n",
       "4462          Democrat\n",
       "4463    Something else\n",
       "Name: F_PARTY_FINAL, Length: 4464, dtype: category\n",
       "Categories (5, object): ['Democrat', 'Independent', 'Refused', 'Republican', 'Something else']"
      ]
     },
     "execution_count": 36,
     "metadata": {},
     "output_type": "execute_result"
    }
   ],
   "source": [
    "ATP_W42['F_PARTY_FINAL']"
   ]
  },
  {
   "cell_type": "code",
   "execution_count": 37,
   "metadata": {},
   "outputs": [
    {
     "name": "stderr",
     "output_type": "stream",
     "text": [
      "/var/folders/n3/7lr2xtgs72g16rs2rfk0gvgw0000gn/T/ipykernel_46539/942172251.py:2: PerformanceWarning: DataFrame is highly fragmented.  This is usually the result of calling `frame.insert` many times, which has poor performance.  Consider joining all columns at once using pd.concat(axis=1) instead.  To get a de-fragmented frame, use `newframe = frame.copy()`\n",
      "  ATP_W42['F_PARTY_FINALr'] = np.where(ATP_W42['F_PARTY_FINAL'].str.contains('Refused'), np.nan, ATP_W42['F_PARTY_FINAL'])\n"
     ]
    },
    {
     "data": {
      "text/plain": [
       "0             Democrat\n",
       "1           Republican\n",
       "2           Republican\n",
       "3           Republican\n",
       "4          Independent\n",
       "             ...      \n",
       "4459    Something else\n",
       "4460          Democrat\n",
       "4461       Independent\n",
       "4462          Democrat\n",
       "4463    Something else\n",
       "Name: F_PARTY_FINALr, Length: 4464, dtype: object"
      ]
     },
     "execution_count": 37,
     "metadata": {},
     "output_type": "execute_result"
    }
   ],
   "source": [
    "# PARTY\n",
    "ATP_W42['F_PARTY_FINALr'] = np.where(ATP_W42['F_PARTY_FINAL'].str.contains('Refused'), np.nan, ATP_W42['F_PARTY_FINAL'])\n",
    "ATP_W42['F_PARTY_FINALr']"
   ]
  },
  {
   "cell_type": "code",
   "execution_count": 38,
   "metadata": {},
   "outputs": [
    {
     "data": {
      "text/plain": [
       "0       $100,000 to less than $150,000\n",
       "1         $40,000 to less than $50,000\n",
       "2         $10,000 to less than $20,000\n",
       "3        $75,000 to less than $100,000\n",
       "4                              Refused\n",
       "                     ...              \n",
       "4459      $10,000 to less than $20,000\n",
       "4460      $20,000 to less than $30,000\n",
       "4461     $75,000 to less than $100,000\n",
       "4462    $100,000 to less than $150,000\n",
       "4463     $75,000 to less than $100,000\n",
       "Name: F_INCOME, Length: 4464, dtype: category\n",
       "Categories (10, object): ['$10,000 to less than $20,000', '$100,000 to less than $150,000', '$150,000 or more', '$20,000 to less than $30,000', ..., '$50,000 to less than $75,000', '$75,000 to less than $100,000', 'Less than $10,000', 'Refused']"
      ]
     },
     "execution_count": 38,
     "metadata": {},
     "output_type": "execute_result"
    }
   ],
   "source": [
    "ATP_W42['F_INCOME']"
   ]
  },
  {
   "cell_type": "code",
   "execution_count": 39,
   "metadata": {},
   "outputs": [
    {
     "name": "stderr",
     "output_type": "stream",
     "text": [
      "/var/folders/n3/7lr2xtgs72g16rs2rfk0gvgw0000gn/T/ipykernel_46539/549022954.py:1: PerformanceWarning: DataFrame is highly fragmented.  This is usually the result of calling `frame.insert` many times, which has poor performance.  Consider joining all columns at once using pd.concat(axis=1) instead.  To get a de-fragmented frame, use `newframe = frame.copy()`\n",
      "  ATP_W42['F_INCOMEr'] = np.where(ATP_W42['F_INCOME'].str.contains('Refused'), np.nan, ATP_W42['F_INCOME'])\n"
     ]
    },
    {
     "data": {
      "text/plain": [
       "0       $100,000 to less than $150,000\n",
       "1         $40,000 to less than $50,000\n",
       "2         $10,000 to less than $20,000\n",
       "3        $75,000 to less than $100,000\n",
       "4                                  NaN\n",
       "                     ...              \n",
       "4459      $10,000 to less than $20,000\n",
       "4460      $20,000 to less than $30,000\n",
       "4461     $75,000 to less than $100,000\n",
       "4462    $100,000 to less than $150,000\n",
       "4463     $75,000 to less than $100,000\n",
       "Name: F_INCOMEr, Length: 4464, dtype: object"
      ]
     },
     "execution_count": 39,
     "metadata": {},
     "output_type": "execute_result"
    }
   ],
   "source": [
    "ATP_W42['F_INCOMEr'] = np.where(ATP_W42['F_INCOME'].str.contains('Refused'), np.nan, ATP_W42['F_INCOME'])\n",
    "ATP_W42['F_INCOMEr']"
   ]
  },
  {
   "cell_type": "markdown",
   "metadata": {},
   "source": [
    "### Attitudes toward Past and Future Scientific Developments Influenced by Political Party Affiliation\n",
    "\n",
    "There does not appear to be significant correlation between attitudes toward science's impact on the past or future with respect to party affliation. 85-88% of Democrats, Republicans, and Independents believed science has made people's lives better in the past twenty years, as well, 82-87% believe science will make people's lives better in the next twenty years. "
   ]
  },
  {
   "cell_type": "code",
   "execution_count": 40,
   "metadata": {},
   "outputs": [
    {
     "data": {
      "text/html": [
       "<div>\n",
       "<style scoped>\n",
       "    .dataframe tbody tr th:only-of-type {\n",
       "        vertical-align: middle;\n",
       "    }\n",
       "\n",
       "    .dataframe tbody tr th {\n",
       "        vertical-align: top;\n",
       "    }\n",
       "\n",
       "    .dataframe thead tr th {\n",
       "        text-align: left;\n",
       "    }\n",
       "\n",
       "    .dataframe thead tr:last-of-type th {\n",
       "        text-align: right;\n",
       "    }\n",
       "</style>\n",
       "<table border=\"1\" class=\"dataframe\">\n",
       "  <thead>\n",
       "    <tr>\n",
       "      <th></th>\n",
       "      <th colspan=\"5\" halign=\"left\">F_PARTY_FINALr</th>\n",
       "    </tr>\n",
       "    <tr>\n",
       "      <th>F_PARTY_FINALr</th>\n",
       "      <th>Democrat</th>\n",
       "      <th>Independent</th>\n",
       "      <th>Republican</th>\n",
       "      <th>Something else</th>\n",
       "      <th>All</th>\n",
       "    </tr>\n",
       "    <tr>\n",
       "      <th>PAST_W42r</th>\n",
       "      <th></th>\n",
       "      <th></th>\n",
       "      <th></th>\n",
       "      <th></th>\n",
       "      <th></th>\n",
       "    </tr>\n",
       "  </thead>\n",
       "  <tbody>\n",
       "    <tr>\n",
       "      <th>About the same</th>\n",
       "      <td>9.49</td>\n",
       "      <td>9.70</td>\n",
       "      <td>9.64</td>\n",
       "      <td>16.23</td>\n",
       "      <td>10.40</td>\n",
       "    </tr>\n",
       "    <tr>\n",
       "      <th>Better</th>\n",
       "      <td>87.64</td>\n",
       "      <td>85.45</td>\n",
       "      <td>87.31</td>\n",
       "      <td>78.11</td>\n",
       "      <td>85.86</td>\n",
       "    </tr>\n",
       "    <tr>\n",
       "      <th>Worse</th>\n",
       "      <td>2.87</td>\n",
       "      <td>4.85</td>\n",
       "      <td>3.05</td>\n",
       "      <td>5.66</td>\n",
       "      <td>3.74</td>\n",
       "    </tr>\n",
       "    <tr>\n",
       "      <th>All</th>\n",
       "      <td>100.00</td>\n",
       "      <td>100.00</td>\n",
       "      <td>100.00</td>\n",
       "      <td>100.00</td>\n",
       "      <td>100.00</td>\n",
       "    </tr>\n",
       "  </tbody>\n",
       "</table>\n",
       "</div>"
      ],
      "text/plain": [
       "               F_PARTY_FINALr                                              \n",
       "F_PARTY_FINALr       Democrat Independent Republican Something else     All\n",
       "PAST_W42r                                                                  \n",
       "About the same           9.49        9.70       9.64          16.23   10.40\n",
       "Better                  87.64       85.45      87.31          78.11   85.86\n",
       "Worse                    2.87        4.85       3.05           5.66    3.74\n",
       "All                    100.00      100.00     100.00         100.00  100.00"
      ]
     },
     "execution_count": 40,
     "metadata": {},
     "output_type": "execute_result"
    }
   ],
   "source": [
    "# PARTY TO PAST\n",
    "crosstab, sigtab = rp.crosstab(ATP_W42['PAST_W42r'], ATP_W42['F_PARTY_FINALr'], prop='col', test='chi-square')\n",
    "crosstab"
   ]
  },
  {
   "cell_type": "code",
   "execution_count": 45,
   "metadata": {},
   "outputs": [
    {
     "data": {
      "text/html": [
       "<div>\n",
       "<style scoped>\n",
       "    .dataframe tbody tr th:only-of-type {\n",
       "        vertical-align: middle;\n",
       "    }\n",
       "\n",
       "    .dataframe tbody tr th {\n",
       "        vertical-align: top;\n",
       "    }\n",
       "\n",
       "    .dataframe thead th {\n",
       "        text-align: right;\n",
       "    }\n",
       "</style>\n",
       "<table border=\"1\" class=\"dataframe\">\n",
       "  <thead>\n",
       "    <tr style=\"text-align: right;\">\n",
       "      <th></th>\n",
       "      <th>Chi-square test</th>\n",
       "      <th>results</th>\n",
       "    </tr>\n",
       "  </thead>\n",
       "  <tbody>\n",
       "    <tr>\n",
       "      <th>0</th>\n",
       "      <td>Pearson Chi-square ( 16.0) =</td>\n",
       "      <td>68.3484</td>\n",
       "    </tr>\n",
       "    <tr>\n",
       "      <th>1</th>\n",
       "      <td>p-value =</td>\n",
       "      <td>0.0000</td>\n",
       "    </tr>\n",
       "    <tr>\n",
       "      <th>2</th>\n",
       "      <td>Cramer's V =</td>\n",
       "      <td>0.1266</td>\n",
       "    </tr>\n",
       "  </tbody>\n",
       "</table>\n",
       "</div>"
      ],
      "text/plain": [
       "                 Chi-square test  results\n",
       "0  Pearson Chi-square ( 16.0) =   68.3484\n",
       "1                     p-value =    0.0000\n",
       "2                  Cramer's V =    0.1266"
      ]
     },
     "execution_count": 45,
     "metadata": {},
     "output_type": "execute_result"
    }
   ],
   "source": [
    "sigtab"
   ]
  },
  {
   "cell_type": "code",
   "execution_count": 47,
   "metadata": {},
   "outputs": [
    {
     "data": {
      "image/png": "[encoded data removed]",
      "text/plain": [
       "<Figure size 653.375x432 with 1 Axes>"
      ]
     },
     "metadata": {
      "needs_background": "light"
     },
     "output_type": "display_data"
    }
   ],
   "source": [
    "p = sb.displot(ATP_W42, x='PAST_W42r', hue='F_PARTY_FINALr', multiple=\"stack\", height=6, aspect=1.25)\n",
    "plt.title('Attitude toward Past Scientific Developments Influenced by Political Party Affiliation')\n",
    "plt.show()"
   ]
  },
  {
   "cell_type": "code",
   "execution_count": 48,
   "metadata": {},
   "outputs": [
    {
     "data": {
      "text/html": [
       "<div>\n",
       "<style scoped>\n",
       "    .dataframe tbody tr th:only-of-type {\n",
       "        vertical-align: middle;\n",
       "    }\n",
       "\n",
       "    .dataframe tbody tr th {\n",
       "        vertical-align: top;\n",
       "    }\n",
       "\n",
       "    .dataframe thead tr th {\n",
       "        text-align: left;\n",
       "    }\n",
       "\n",
       "    .dataframe thead tr:last-of-type th {\n",
       "        text-align: right;\n",
       "    }\n",
       "</style>\n",
       "<table border=\"1\" class=\"dataframe\">\n",
       "  <thead>\n",
       "    <tr>\n",
       "      <th></th>\n",
       "      <th colspan=\"5\" halign=\"left\">F_PARTY_FINALr</th>\n",
       "    </tr>\n",
       "    <tr>\n",
       "      <th>F_PARTY_FINALr</th>\n",
       "      <th>Democrat</th>\n",
       "      <th>Independent</th>\n",
       "      <th>Republican</th>\n",
       "      <th>Something else</th>\n",
       "      <th>All</th>\n",
       "    </tr>\n",
       "    <tr>\n",
       "      <th>FUTURE_W42r</th>\n",
       "      <th></th>\n",
       "      <th></th>\n",
       "      <th></th>\n",
       "      <th></th>\n",
       "      <th></th>\n",
       "    </tr>\n",
       "  </thead>\n",
       "  <tbody>\n",
       "    <tr>\n",
       "      <th>About the same</th>\n",
       "      <td>7.99</td>\n",
       "      <td>11.21</td>\n",
       "      <td>10.87</td>\n",
       "      <td>13.31</td>\n",
       "      <td>10.19</td>\n",
       "    </tr>\n",
       "    <tr>\n",
       "      <th>Better</th>\n",
       "      <td>87.02</td>\n",
       "      <td>81.31</td>\n",
       "      <td>82.34</td>\n",
       "      <td>79.85</td>\n",
       "      <td>83.50</td>\n",
       "    </tr>\n",
       "    <tr>\n",
       "      <th>Worse</th>\n",
       "      <td>4.99</td>\n",
       "      <td>7.48</td>\n",
       "      <td>6.79</td>\n",
       "      <td>6.84</td>\n",
       "      <td>6.31</td>\n",
       "    </tr>\n",
       "    <tr>\n",
       "      <th>All</th>\n",
       "      <td>100.00</td>\n",
       "      <td>100.00</td>\n",
       "      <td>100.00</td>\n",
       "      <td>100.00</td>\n",
       "      <td>100.00</td>\n",
       "    </tr>\n",
       "  </tbody>\n",
       "</table>\n",
       "</div>"
      ],
      "text/plain": [
       "               F_PARTY_FINALr                                              \n",
       "F_PARTY_FINALr       Democrat Independent Republican Something else     All\n",
       "FUTURE_W42r                                                                \n",
       "About the same           7.99       11.21      10.87          13.31   10.19\n",
       "Better                  87.02       81.31      82.34          79.85   83.50\n",
       "Worse                    4.99        7.48       6.79           6.84    6.31\n",
       "All                    100.00      100.00     100.00         100.00  100.00"
      ]
     },
     "execution_count": 48,
     "metadata": {},
     "output_type": "execute_result"
    }
   ],
   "source": [
    "# PARTY TO FUTURE\n",
    "crosstab, sigtab = rp.crosstab(ATP_W42['FUTURE_W42r'], ATP_W42['F_PARTY_FINALr'], prop='col', test='chi-square')\n",
    "crosstab"
   ]
  },
  {
   "cell_type": "code",
   "execution_count": 49,
   "metadata": {},
   "outputs": [
    {
     "data": {
      "text/html": [
       "<div>\n",
       "<style scoped>\n",
       "    .dataframe tbody tr th:only-of-type {\n",
       "        vertical-align: middle;\n",
       "    }\n",
       "\n",
       "    .dataframe tbody tr th {\n",
       "        vertical-align: top;\n",
       "    }\n",
       "\n",
       "    .dataframe thead th {\n",
       "        text-align: right;\n",
       "    }\n",
       "</style>\n",
       "<table border=\"1\" class=\"dataframe\">\n",
       "  <thead>\n",
       "    <tr style=\"text-align: right;\">\n",
       "      <th></th>\n",
       "      <th>Chi-square test</th>\n",
       "      <th>results</th>\n",
       "    </tr>\n",
       "  </thead>\n",
       "  <tbody>\n",
       "    <tr>\n",
       "      <th>0</th>\n",
       "      <td>Pearson Chi-square ( 6.0) =</td>\n",
       "      <td>12.8261</td>\n",
       "    </tr>\n",
       "    <tr>\n",
       "      <th>1</th>\n",
       "      <td>p-value =</td>\n",
       "      <td>0.0459</td>\n",
       "    </tr>\n",
       "    <tr>\n",
       "      <th>2</th>\n",
       "      <td>Cramer's V =</td>\n",
       "      <td>0.0541</td>\n",
       "    </tr>\n",
       "  </tbody>\n",
       "</table>\n",
       "</div>"
      ],
      "text/plain": [
       "                Chi-square test  results\n",
       "0  Pearson Chi-square ( 6.0) =   12.8261\n",
       "1                    p-value =    0.0459\n",
       "2                 Cramer's V =    0.0541"
      ]
     },
     "execution_count": 49,
     "metadata": {},
     "output_type": "execute_result"
    }
   ],
   "source": [
    "sigtab"
   ]
  },
  {
   "cell_type": "code",
   "execution_count": 50,
   "metadata": {},
   "outputs": [
    {
     "data": {
      "image/png": "[encoded data removed]",
      "text/plain": [
       "<Figure size 653.375x432 with 1 Axes>"
      ]
     },
     "metadata": {
      "needs_background": "light"
     },
     "output_type": "display_data"
    }
   ],
   "source": [
    "p = sb.displot(ATP_W42, x='FUTURE_W42r', hue='F_PARTY_FINALr', multiple=\"stack\", height=6, aspect=1.25)\n",
    "plt.title('Attitude toward Future Scientific Developments Influenced by Political Party Affiliation')\n",
    "plt.show()"
   ]
  },
  {
   "cell_type": "markdown",
   "metadata": {},
   "source": [
    "### Attitudes toward Past and Future Scientific Developments Influenced by Income\n",
    "\n",
    "With income, we can see a steady decline in positive attitudes toward the influence of science on the past and future as personal income declines. 92% of those with an income of $150,000 or greater believed that due to science things have gotten better in the past twenty years. As the income brackets decrease there is a steady decrease in this attitude down to 72% for those with a personal income of $10,000 or lower. Similar attitude changes across income brackets are seen toward the future of science's influcence starting at 92% for the highest income bracket and down to 66% for the lowest income bracket."
   ]
  },
  {
   "cell_type": "code",
   "execution_count": 75,
   "metadata": {},
   "outputs": [
    {
     "data": {
      "text/html": [
       "<div>\n",
       "<style scoped>\n",
       "    .dataframe tbody tr th:only-of-type {\n",
       "        vertical-align: middle;\n",
       "    }\n",
       "\n",
       "    .dataframe tbody tr th {\n",
       "        vertical-align: top;\n",
       "    }\n",
       "\n",
       "    .dataframe thead th {\n",
       "        text-align: right;\n",
       "    }\n",
       "</style>\n",
       "<table border=\"1\" class=\"dataframe\">\n",
       "  <thead>\n",
       "    <tr style=\"text-align: right;\">\n",
       "      <th>F_INCOMEr</th>\n",
       "      <th>$150,000 or more</th>\n",
       "      <th>$100,000 to less than $150,000</th>\n",
       "      <th>$75,000 to less than $100,000</th>\n",
       "      <th>$50,000 to less than $75,000</th>\n",
       "      <th>$40,000 to less than $50,000</th>\n",
       "      <th>$30,000 to less than $40,000</th>\n",
       "      <th>$20,000 to less than $30,000</th>\n",
       "      <th>$10,000 to less than $20,000</th>\n",
       "      <th>Less than $10,000</th>\n",
       "    </tr>\n",
       "    <tr>\n",
       "      <th>PAST_W42r</th>\n",
       "      <th></th>\n",
       "      <th></th>\n",
       "      <th></th>\n",
       "      <th></th>\n",
       "      <th></th>\n",
       "      <th></th>\n",
       "      <th></th>\n",
       "      <th></th>\n",
       "      <th></th>\n",
       "    </tr>\n",
       "  </thead>\n",
       "  <tbody>\n",
       "    <tr>\n",
       "      <th>About the same</th>\n",
       "      <td>5.53</td>\n",
       "      <td>3.49</td>\n",
       "      <td>5.74</td>\n",
       "      <td>10.34</td>\n",
       "      <td>9.50</td>\n",
       "      <td>14.49</td>\n",
       "      <td>12.79</td>\n",
       "      <td>14.98</td>\n",
       "      <td>19.08</td>\n",
       "    </tr>\n",
       "    <tr>\n",
       "      <th>Better</th>\n",
       "      <td>91.96</td>\n",
       "      <td>92.64</td>\n",
       "      <td>90.98</td>\n",
       "      <td>87.27</td>\n",
       "      <td>87.78</td>\n",
       "      <td>81.31</td>\n",
       "      <td>84.02</td>\n",
       "      <td>79.74</td>\n",
       "      <td>72.25</td>\n",
       "    </tr>\n",
       "    <tr>\n",
       "      <th>Worse</th>\n",
       "      <td>2.51</td>\n",
       "      <td>3.88</td>\n",
       "      <td>3.28</td>\n",
       "      <td>2.39</td>\n",
       "      <td>2.71</td>\n",
       "      <td>4.21</td>\n",
       "      <td>3.20</td>\n",
       "      <td>5.29</td>\n",
       "      <td>8.67</td>\n",
       "    </tr>\n",
       "    <tr>\n",
       "      <th>All</th>\n",
       "      <td>100.00</td>\n",
       "      <td>100.00</td>\n",
       "      <td>100.00</td>\n",
       "      <td>100.00</td>\n",
       "      <td>100.00</td>\n",
       "      <td>100.00</td>\n",
       "      <td>100.00</td>\n",
       "      <td>100.00</td>\n",
       "      <td>100.00</td>\n",
       "    </tr>\n",
       "  </tbody>\n",
       "</table>\n",
       "</div>"
      ],
      "text/plain": [
       "F_INCOMEr       $150,000 or more  $100,000 to less than $150,000  \\\n",
       "PAST_W42r                                                          \n",
       "About the same              5.53                            3.49   \n",
       "Better                     91.96                           92.64   \n",
       "Worse                       2.51                            3.88   \n",
       "All                       100.00                          100.00   \n",
       "\n",
       "F_INCOMEr       $75,000 to less than $100,000  $50,000 to less than $75,000  \\\n",
       "PAST_W42r                                                                     \n",
       "About the same                           5.74                         10.34   \n",
       "Better                                  90.98                         87.27   \n",
       "Worse                                    3.28                          2.39   \n",
       "All                                    100.00                        100.00   \n",
       "\n",
       "F_INCOMEr       $40,000 to less than $50,000  $30,000 to less than $40,000  \\\n",
       "PAST_W42r                                                                    \n",
       "About the same                          9.50                         14.49   \n",
       "Better                                 87.78                         81.31   \n",
       "Worse                                   2.71                          4.21   \n",
       "All                                   100.00                        100.00   \n",
       "\n",
       "F_INCOMEr       $20,000 to less than $30,000  $10,000 to less than $20,000  \\\n",
       "PAST_W42r                                                                    \n",
       "About the same                         12.79                         14.98   \n",
       "Better                                 84.02                         79.74   \n",
       "Worse                                   3.20                          5.29   \n",
       "All                                   100.00                        100.00   \n",
       "\n",
       "F_INCOMEr       Less than $10,000  \n",
       "PAST_W42r                          \n",
       "About the same              19.08  \n",
       "Better                      72.25  \n",
       "Worse                        8.67  \n",
       "All                        100.00  "
      ]
     },
     "execution_count": 75,
     "metadata": {},
     "output_type": "execute_result"
    }
   ],
   "source": [
    "# INCOME TO PAST\n",
    "income = ['$150,000 or more', '$100,000 to less than $150,000', '$75,000 to less than $100,000', '$50,000 to less than $75,000', '$40,000 to less than $50,000', '$30,000 to less than $40,000', '$20,000 to less than $30,000', '$10,000 to less than $20,000',  'Less than $10,000']\n",
    "crosstab, sigtab = rp.crosstab(ATP_W42['PAST_W42r'], ATP_W42['F_INCOMEr'], prop='col', test='chi-square')\n",
    "table = crosstab['F_INCOMEr']\n",
    "table = table[income]\n",
    "table"
   ]
  },
  {
   "cell_type": "code",
   "execution_count": 52,
   "metadata": {},
   "outputs": [
    {
     "data": {
      "text/html": [
       "<div>\n",
       "<style scoped>\n",
       "    .dataframe tbody tr th:only-of-type {\n",
       "        vertical-align: middle;\n",
       "    }\n",
       "\n",
       "    .dataframe tbody tr th {\n",
       "        vertical-align: top;\n",
       "    }\n",
       "\n",
       "    .dataframe thead th {\n",
       "        text-align: right;\n",
       "    }\n",
       "</style>\n",
       "<table border=\"1\" class=\"dataframe\">\n",
       "  <thead>\n",
       "    <tr style=\"text-align: right;\">\n",
       "      <th></th>\n",
       "      <th>Chi-square test</th>\n",
       "      <th>results</th>\n",
       "    </tr>\n",
       "  </thead>\n",
       "  <tbody>\n",
       "    <tr>\n",
       "      <th>0</th>\n",
       "      <td>Pearson Chi-square ( 16.0) =</td>\n",
       "      <td>68.3484</td>\n",
       "    </tr>\n",
       "    <tr>\n",
       "      <th>1</th>\n",
       "      <td>p-value =</td>\n",
       "      <td>0.0000</td>\n",
       "    </tr>\n",
       "    <tr>\n",
       "      <th>2</th>\n",
       "      <td>Cramer's V =</td>\n",
       "      <td>0.1266</td>\n",
       "    </tr>\n",
       "  </tbody>\n",
       "</table>\n",
       "</div>"
      ],
      "text/plain": [
       "                 Chi-square test  results\n",
       "0  Pearson Chi-square ( 16.0) =   68.3484\n",
       "1                     p-value =    0.0000\n",
       "2                  Cramer's V =    0.1266"
      ]
     },
     "execution_count": 52,
     "metadata": {},
     "output_type": "execute_result"
    }
   ],
   "source": [
    "sigtab"
   ]
  },
  {
   "cell_type": "code",
   "execution_count": 79,
   "metadata": {},
   "outputs": [
    {
     "data": {
      "image/png": "[encoded data removed]",
      "text/plain": [
       "<Figure size 1440x720 with 1 Axes>"
      ]
     },
     "metadata": {
      "needs_background": "light"
     },
     "output_type": "display_data"
    }
   ],
   "source": [
    "f = plt.figure(figsize=[20,10])\n",
    "ax = f.add_subplot(111)\n",
    "barplot = table.plot.bar(rot=0, ax=ax)"
   ]
  },
  {
   "cell_type": "code",
   "execution_count": 80,
   "metadata": {},
   "outputs": [
    {
     "data": {
      "text/html": [
       "<div>\n",
       "<style scoped>\n",
       "    .dataframe tbody tr th:only-of-type {\n",
       "        vertical-align: middle;\n",
       "    }\n",
       "\n",
       "    .dataframe tbody tr th {\n",
       "        vertical-align: top;\n",
       "    }\n",
       "\n",
       "    .dataframe thead th {\n",
       "        text-align: right;\n",
       "    }\n",
       "</style>\n",
       "<table border=\"1\" class=\"dataframe\">\n",
       "  <thead>\n",
       "    <tr style=\"text-align: right;\">\n",
       "      <th>F_INCOMEr</th>\n",
       "      <th>$150,000 or more</th>\n",
       "      <th>$100,000 to less than $150,000</th>\n",
       "      <th>$75,000 to less than $100,000</th>\n",
       "      <th>$50,000 to less than $75,000</th>\n",
       "      <th>$40,000 to less than $50,000</th>\n",
       "      <th>$30,000 to less than $40,000</th>\n",
       "      <th>$20,000 to less than $30,000</th>\n",
       "      <th>$10,000 to less than $20,000</th>\n",
       "      <th>Less than $10,000</th>\n",
       "    </tr>\n",
       "    <tr>\n",
       "      <th>FUTURE_W42r</th>\n",
       "      <th></th>\n",
       "      <th></th>\n",
       "      <th></th>\n",
       "      <th></th>\n",
       "      <th></th>\n",
       "      <th></th>\n",
       "      <th></th>\n",
       "      <th></th>\n",
       "      <th></th>\n",
       "    </tr>\n",
       "  </thead>\n",
       "  <tbody>\n",
       "    <tr>\n",
       "      <th>About the same</th>\n",
       "      <td>6.06</td>\n",
       "      <td>6.98</td>\n",
       "      <td>7.38</td>\n",
       "      <td>9.55</td>\n",
       "      <td>9.95</td>\n",
       "      <td>10.75</td>\n",
       "      <td>12.84</td>\n",
       "      <td>12.83</td>\n",
       "      <td>19.88</td>\n",
       "    </tr>\n",
       "    <tr>\n",
       "      <th>Better</th>\n",
       "      <td>91.41</td>\n",
       "      <td>87.60</td>\n",
       "      <td>88.11</td>\n",
       "      <td>85.41</td>\n",
       "      <td>83.71</td>\n",
       "      <td>83.18</td>\n",
       "      <td>80.73</td>\n",
       "      <td>78.32</td>\n",
       "      <td>66.08</td>\n",
       "    </tr>\n",
       "    <tr>\n",
       "      <th>Worse</th>\n",
       "      <td>2.53</td>\n",
       "      <td>5.43</td>\n",
       "      <td>4.51</td>\n",
       "      <td>5.04</td>\n",
       "      <td>6.33</td>\n",
       "      <td>6.07</td>\n",
       "      <td>6.42</td>\n",
       "      <td>8.85</td>\n",
       "      <td>14.04</td>\n",
       "    </tr>\n",
       "    <tr>\n",
       "      <th>All</th>\n",
       "      <td>100.00</td>\n",
       "      <td>100.00</td>\n",
       "      <td>100.00</td>\n",
       "      <td>100.00</td>\n",
       "      <td>100.00</td>\n",
       "      <td>100.00</td>\n",
       "      <td>100.00</td>\n",
       "      <td>100.00</td>\n",
       "      <td>100.00</td>\n",
       "    </tr>\n",
       "  </tbody>\n",
       "</table>\n",
       "</div>"
      ],
      "text/plain": [
       "F_INCOMEr       $150,000 or more  $100,000 to less than $150,000  \\\n",
       "FUTURE_W42r                                                        \n",
       "About the same              6.06                            6.98   \n",
       "Better                     91.41                           87.60   \n",
       "Worse                       2.53                            5.43   \n",
       "All                       100.00                          100.00   \n",
       "\n",
       "F_INCOMEr       $75,000 to less than $100,000  $50,000 to less than $75,000  \\\n",
       "FUTURE_W42r                                                                   \n",
       "About the same                           7.38                          9.55   \n",
       "Better                                  88.11                         85.41   \n",
       "Worse                                    4.51                          5.04   \n",
       "All                                    100.00                        100.00   \n",
       "\n",
       "F_INCOMEr       $40,000 to less than $50,000  $30,000 to less than $40,000  \\\n",
       "FUTURE_W42r                                                                  \n",
       "About the same                          9.95                         10.75   \n",
       "Better                                 83.71                         83.18   \n",
       "Worse                                   6.33                          6.07   \n",
       "All                                   100.00                        100.00   \n",
       "\n",
       "F_INCOMEr       $20,000 to less than $30,000  $10,000 to less than $20,000  \\\n",
       "FUTURE_W42r                                                                  \n",
       "About the same                         12.84                         12.83   \n",
       "Better                                 80.73                         78.32   \n",
       "Worse                                   6.42                          8.85   \n",
       "All                                   100.00                        100.00   \n",
       "\n",
       "F_INCOMEr       Less than $10,000  \n",
       "FUTURE_W42r                        \n",
       "About the same              19.88  \n",
       "Better                      66.08  \n",
       "Worse                       14.04  \n",
       "All                        100.00  "
      ]
     },
     "execution_count": 80,
     "metadata": {},
     "output_type": "execute_result"
    }
   ],
   "source": [
    "# INCOME TO FUTURE\n",
    "crosstab, sigtab = rp.crosstab(ATP_W42['FUTURE_W42r'], ATP_W42['F_INCOMEr'], prop='col', test='chi-square')\n",
    "crosstab\n",
    "table = crosstab['F_INCOMEr']\n",
    "table = table[income]\n",
    "table"
   ]
  },
  {
   "cell_type": "code",
   "execution_count": 82,
   "metadata": {},
   "outputs": [
    {
     "data": {
      "text/html": [
       "<div>\n",
       "<style scoped>\n",
       "    .dataframe tbody tr th:only-of-type {\n",
       "        vertical-align: middle;\n",
       "    }\n",
       "\n",
       "    .dataframe tbody tr th {\n",
       "        vertical-align: top;\n",
       "    }\n",
       "\n",
       "    .dataframe thead th {\n",
       "        text-align: right;\n",
       "    }\n",
       "</style>\n",
       "<table border=\"1\" class=\"dataframe\">\n",
       "  <thead>\n",
       "    <tr style=\"text-align: right;\">\n",
       "      <th></th>\n",
       "      <th>Chi-square test</th>\n",
       "      <th>results</th>\n",
       "    </tr>\n",
       "  </thead>\n",
       "  <tbody>\n",
       "    <tr>\n",
       "      <th>0</th>\n",
       "      <td>Pearson Chi-square ( 16.0) =</td>\n",
       "      <td>61.9524</td>\n",
       "    </tr>\n",
       "    <tr>\n",
       "      <th>1</th>\n",
       "      <td>p-value =</td>\n",
       "      <td>0.0000</td>\n",
       "    </tr>\n",
       "    <tr>\n",
       "      <th>2</th>\n",
       "      <td>Cramer's V =</td>\n",
       "      <td>0.1207</td>\n",
       "    </tr>\n",
       "  </tbody>\n",
       "</table>\n",
       "</div>"
      ],
      "text/plain": [
       "                 Chi-square test  results\n",
       "0  Pearson Chi-square ( 16.0) =   61.9524\n",
       "1                     p-value =    0.0000\n",
       "2                  Cramer's V =    0.1207"
      ]
     },
     "execution_count": 82,
     "metadata": {},
     "output_type": "execute_result"
    }
   ],
   "source": [
    "sigtab"
   ]
  },
  {
   "cell_type": "code",
   "execution_count": 81,
   "metadata": {},
   "outputs": [
    {
     "data": {
      "image/png": "[encoded data removed]",
      "text/plain": [
       "<Figure size 1440x720 with 1 Axes>"
      ]
     },
     "metadata": {
      "needs_background": "light"
     },
     "output_type": "display_data"
    }
   ],
   "source": [
    "f = plt.figure(figsize=[20,10])\n",
    "ax = f.add_subplot(111)\n",
    "barplot = table.plot.bar(rot=0, ax=ax)"
   ]
  },
  {
   "cell_type": "code",
   "execution_count": 86,
   "metadata": {},
   "outputs": [
    {
     "data": {
      "text/html": [
       "<div>\n",
       "<style scoped>\n",
       "    .dataframe tbody tr th:only-of-type {\n",
       "        vertical-align: middle;\n",
       "    }\n",
       "\n",
       "    .dataframe tbody tr th {\n",
       "        vertical-align: top;\n",
       "    }\n",
       "\n",
       "    .dataframe thead th {\n",
       "        text-align: right;\n",
       "    }\n",
       "</style>\n",
       "<table border=\"1\" class=\"dataframe\">\n",
       "  <thead>\n",
       "    <tr style=\"text-align: right;\">\n",
       "      <th></th>\n",
       "      <th>PAST_W42</th>\n",
       "      <th>FUTURE_W42</th>\n",
       "      <th>F_AGECAT</th>\n",
       "      <th>F_SEX</th>\n",
       "      <th>F_EDUCCAT</th>\n",
       "      <th>F_HISP</th>\n",
       "      <th>F_RACECMB</th>\n",
       "      <th>F_BORN</th>\n",
       "      <th>F_ATTEND</th>\n",
       "      <th>F_PARTY_FINAL</th>\n",
       "      <th>F_INCOME</th>\n",
       "      <th>F_IDEO</th>\n",
       "    </tr>\n",
       "  </thead>\n",
       "  <tbody>\n",
       "    <tr>\n",
       "      <th>0</th>\n",
       "      <td>1.0</td>\n",
       "      <td>1.0</td>\n",
       "      <td>2.0</td>\n",
       "      <td>2.0</td>\n",
       "      <td>1.0</td>\n",
       "      <td>2.0</td>\n",
       "      <td>1.0</td>\n",
       "      <td>2.0</td>\n",
       "      <td>4.0</td>\n",
       "      <td>2.0</td>\n",
       "      <td>8.0</td>\n",
       "      <td>4.0</td>\n",
       "    </tr>\n",
       "    <tr>\n",
       "      <th>1</th>\n",
       "      <td>2.0</td>\n",
       "      <td>2.0</td>\n",
       "      <td>4.0</td>\n",
       "      <td>1.0</td>\n",
       "      <td>3.0</td>\n",
       "      <td>2.0</td>\n",
       "      <td>1.0</td>\n",
       "      <td>1.0</td>\n",
       "      <td>1.0</td>\n",
       "      <td>1.0</td>\n",
       "      <td>5.0</td>\n",
       "      <td>2.0</td>\n",
       "    </tr>\n",
       "    <tr>\n",
       "      <th>2</th>\n",
       "      <td>NaN</td>\n",
       "      <td>NaN</td>\n",
       "      <td>3.0</td>\n",
       "      <td>2.0</td>\n",
       "      <td>2.0</td>\n",
       "      <td>2.0</td>\n",
       "      <td>1.0</td>\n",
       "      <td>1.0</td>\n",
       "      <td>2.0</td>\n",
       "      <td>1.0</td>\n",
       "      <td>2.0</td>\n",
       "      <td>2.0</td>\n",
       "    </tr>\n",
       "    <tr>\n",
       "      <th>3</th>\n",
       "      <td>NaN</td>\n",
       "      <td>NaN</td>\n",
       "      <td>3.0</td>\n",
       "      <td>1.0</td>\n",
       "      <td>2.0</td>\n",
       "      <td>1.0</td>\n",
       "      <td>1.0</td>\n",
       "      <td>2.0</td>\n",
       "      <td>6.0</td>\n",
       "      <td>1.0</td>\n",
       "      <td>7.0</td>\n",
       "      <td>2.0</td>\n",
       "    </tr>\n",
       "    <tr>\n",
       "      <th>4</th>\n",
       "      <td>3.0</td>\n",
       "      <td>1.0</td>\n",
       "      <td>3.0</td>\n",
       "      <td>2.0</td>\n",
       "      <td>1.0</td>\n",
       "      <td>2.0</td>\n",
       "      <td>4.0</td>\n",
       "      <td>2.0</td>\n",
       "      <td>1.0</td>\n",
       "      <td>3.0</td>\n",
       "      <td>99.0</td>\n",
       "      <td>3.0</td>\n",
       "    </tr>\n",
       "    <tr>\n",
       "      <th>...</th>\n",
       "      <td>...</td>\n",
       "      <td>...</td>\n",
       "      <td>...</td>\n",
       "      <td>...</td>\n",
       "      <td>...</td>\n",
       "      <td>...</td>\n",
       "      <td>...</td>\n",
       "      <td>...</td>\n",
       "      <td>...</td>\n",
       "      <td>...</td>\n",
       "      <td>...</td>\n",
       "      <td>...</td>\n",
       "    </tr>\n",
       "    <tr>\n",
       "      <th>4459</th>\n",
       "      <td>NaN</td>\n",
       "      <td>NaN</td>\n",
       "      <td>2.0</td>\n",
       "      <td>2.0</td>\n",
       "      <td>1.0</td>\n",
       "      <td>2.0</td>\n",
       "      <td>1.0</td>\n",
       "      <td>NaN</td>\n",
       "      <td>6.0</td>\n",
       "      <td>4.0</td>\n",
       "      <td>2.0</td>\n",
       "      <td>4.0</td>\n",
       "    </tr>\n",
       "    <tr>\n",
       "      <th>4460</th>\n",
       "      <td>1.0</td>\n",
       "      <td>1.0</td>\n",
       "      <td>4.0</td>\n",
       "      <td>2.0</td>\n",
       "      <td>3.0</td>\n",
       "      <td>2.0</td>\n",
       "      <td>1.0</td>\n",
       "      <td>2.0</td>\n",
       "      <td>4.0</td>\n",
       "      <td>2.0</td>\n",
       "      <td>3.0</td>\n",
       "      <td>3.0</td>\n",
       "    </tr>\n",
       "    <tr>\n",
       "      <th>4461</th>\n",
       "      <td>NaN</td>\n",
       "      <td>NaN</td>\n",
       "      <td>3.0</td>\n",
       "      <td>2.0</td>\n",
       "      <td>2.0</td>\n",
       "      <td>2.0</td>\n",
       "      <td>1.0</td>\n",
       "      <td>NaN</td>\n",
       "      <td>6.0</td>\n",
       "      <td>3.0</td>\n",
       "      <td>7.0</td>\n",
       "      <td>3.0</td>\n",
       "    </tr>\n",
       "    <tr>\n",
       "      <th>4462</th>\n",
       "      <td>1.0</td>\n",
       "      <td>1.0</td>\n",
       "      <td>3.0</td>\n",
       "      <td>1.0</td>\n",
       "      <td>1.0</td>\n",
       "      <td>2.0</td>\n",
       "      <td>1.0</td>\n",
       "      <td>2.0</td>\n",
       "      <td>2.0</td>\n",
       "      <td>2.0</td>\n",
       "      <td>8.0</td>\n",
       "      <td>4.0</td>\n",
       "    </tr>\n",
       "    <tr>\n",
       "      <th>4463</th>\n",
       "      <td>NaN</td>\n",
       "      <td>NaN</td>\n",
       "      <td>4.0</td>\n",
       "      <td>1.0</td>\n",
       "      <td>2.0</td>\n",
       "      <td>2.0</td>\n",
       "      <td>1.0</td>\n",
       "      <td>1.0</td>\n",
       "      <td>5.0</td>\n",
       "      <td>4.0</td>\n",
       "      <td>7.0</td>\n",
       "      <td>1.0</td>\n",
       "    </tr>\n",
       "  </tbody>\n",
       "</table>\n",
       "<p>4464 rows × 12 columns</p>\n",
       "</div>"
      ],
      "text/plain": [
       "      PAST_W42  FUTURE_W42  F_AGECAT  F_SEX  F_EDUCCAT  F_HISP  F_RACECMB  \\\n",
       "0          1.0         1.0       2.0    2.0        1.0     2.0        1.0   \n",
       "1          2.0         2.0       4.0    1.0        3.0     2.0        1.0   \n",
       "2          NaN         NaN       3.0    2.0        2.0     2.0        1.0   \n",
       "3          NaN         NaN       3.0    1.0        2.0     1.0        1.0   \n",
       "4          3.0         1.0       3.0    2.0        1.0     2.0        4.0   \n",
       "...        ...         ...       ...    ...        ...     ...        ...   \n",
       "4459       NaN         NaN       2.0    2.0        1.0     2.0        1.0   \n",
       "4460       1.0         1.0       4.0    2.0        3.0     2.0        1.0   \n",
       "4461       NaN         NaN       3.0    2.0        2.0     2.0        1.0   \n",
       "4462       1.0         1.0       3.0    1.0        1.0     2.0        1.0   \n",
       "4463       NaN         NaN       4.0    1.0        2.0     2.0        1.0   \n",
       "\n",
       "      F_BORN  F_ATTEND  F_PARTY_FINAL  F_INCOME  F_IDEO  \n",
       "0        2.0       4.0            2.0       8.0     4.0  \n",
       "1        1.0       1.0            1.0       5.0     2.0  \n",
       "2        1.0       2.0            1.0       2.0     2.0  \n",
       "3        2.0       6.0            1.0       7.0     2.0  \n",
       "4        2.0       1.0            3.0      99.0     3.0  \n",
       "...      ...       ...            ...       ...     ...  \n",
       "4459     NaN       6.0            4.0       2.0     4.0  \n",
       "4460     2.0       4.0            2.0       3.0     3.0  \n",
       "4461     NaN       6.0            3.0       7.0     3.0  \n",
       "4462     2.0       2.0            2.0       8.0     4.0  \n",
       "4463     1.0       5.0            4.0       7.0     1.0  \n",
       "\n",
       "[4464 rows x 12 columns]"
      ]
     },
     "execution_count": 86,
     "metadata": {},
     "output_type": "execute_result"
    }
   ],
   "source": [
    "Science_df = pd.read_spss('data/ATP-W42.sav', usecols=['PAST_W42', 'FUTURE_W42', 'F_AGECAT', 'F_SEX', 'F_EDUCCAT', 'F_HISP', 'F_RACECMB', 'F_ATTEND', 'F_BORN', 'F_PARTY_FINAL', 'F_INCOME', 'F_IDEO'], convert_categoricals=False)\n",
    "Science_df"
   ]
  },
  {
   "cell_type": "markdown",
   "metadata": {},
   "source": [
    "### Predicting attitudes toward the past and future influence of science on people's lives based on various demographic variables\n",
    "\n",
    "Less than 1% of the variation of people's attitudes toward the influence of science on the past and future can be explained by the combination of demographic variables studied – young, women, college education, black, latinx, churchgoer, born-again christians, and republicans. \n",
    "\n",
    "The are some positive and negative attitudinal variations between demographics with 'church goers' being the most skeptical of science's influence and 'republicans' being the most positive."
   ]
  },
  {
   "cell_type": "code",
   "execution_count": 87,
   "metadata": {},
   "outputs": [],
   "source": [
    "# Create some binary vectors to identify demographic characteristics to model.\n",
    "# You can do this manually:\n",
    "Science_df['young'] = 0\n",
    "Science_df.loc[Science_df['F_AGECAT'] == 1, ['young']] = 1 \n",
    "\n",
    "Science_df['women'] = 0\n",
    "Science_df.loc[Science_df['F_SEX'] == 2, ['women']] = 1 \n",
    "\n",
    "Science_df['college'] = 0\n",
    "Science_df.loc[Science_df['F_EDUCCAT'] == 1, ['college']] = 1 \n",
    "\n",
    "Science_df['black'] = 0\n",
    "Science_df.loc[Science_df['F_RACECMB'] == 2, ['black']] = 1 \n",
    "\n",
    "Science_df['latinx'] = 0\n",
    "Science_df.loc[Science_df['F_HISP'] == 1, ['latinx']] = 1 \n",
    "\n",
    "Science_df['churchgoer'] = 0\n",
    "Science_df.loc[Science_df['F_ATTEND'] < 3, ['churchgoer']] = 1 \n",
    "\n",
    "Science_df['bornagain'] = 0\n",
    "Science_df.loc[Science_df['F_BORN'] == 1, ['bornagain']] = 1 \n",
    "\n",
    "Science_df['republican'] = 0\n",
    "Science_df.loc[Science_df['F_PARTY_FINAL'] == 1, ['republican']] = 1 "
   ]
  },
  {
   "cell_type": "code",
   "execution_count": 93,
   "metadata": {},
   "outputs": [
    {
     "name": "stdout",
     "output_type": "stream",
     "text": [
      "                            OLS Regression Results                            \n",
      "==============================================================================\n",
      "Dep. Variable:               PAST_W42   R-squared:                       0.006\n",
      "Model:                            OLS   Adj. R-squared:                  0.002\n",
      "Method:                 Least Squares   F-statistic:                     1.590\n",
      "Date:                Wed, 19 Oct 2022   Prob (F-statistic):              0.113\n",
      "Time:                        14:06:49   Log-Likelihood:                -6027.8\n",
      "No. Observations:                2226   AIC:                         1.208e+04\n",
      "Df Residuals:                    2216   BIC:                         1.213e+04\n",
      "Df Model:                           9                                         \n",
      "Covariance Type:            nonrobust                                         \n",
      "==============================================================================\n",
      "                 coef    std err          t      P>|t|      [0.025      0.975]\n",
      "------------------------------------------------------------------------------\n",
      "const          1.3239      0.167      7.924      0.000       0.996       1.652\n",
      "young         -0.1730      0.210     -0.823      0.411      -0.585       0.239\n",
      "women          0.2753      0.157      1.756      0.079      -0.032       0.583\n",
      "college       -0.1829      0.164     -1.112      0.266      -0.505       0.140\n",
      "black          0.3135      0.249      1.257      0.209      -0.175       0.802\n",
      "latinx        -0.1835      0.219     -0.838      0.402      -0.613       0.246\n",
      "churchgoer     0.3610      0.198      1.821      0.069      -0.028       0.750\n",
      "bornagain     -0.1055      0.201     -0.526      0.599      -0.499       0.288\n",
      "republican    -0.2160      0.187     -1.158      0.247      -0.582       0.150\n",
      "F_INCOME      -0.0022      0.004     -0.539      0.590      -0.010       0.006\n",
      "==============================================================================\n",
      "Omnibus:                     5497.282   Durbin-Watson:                   1.992\n",
      "Prob(Omnibus):                  0.000   Jarque-Bera (JB):         44339275.687\n",
      "Skew:                          25.870   Prob(JB):                         0.00\n",
      "Kurtosis:                     692.474   Cond. No.                         75.5\n",
      "==============================================================================\n",
      "\n",
      "Notes:\n",
      "[1] Standard Errors assume that the covariance matrix of the errors is correctly specified.\n"
     ]
    },
    {
     "name": "stderr",
     "output_type": "stream",
     "text": [
      "/Users/michaelsmith/opt/anaconda3/lib/python3.9/site-packages/statsmodels/tsa/tsatools.py:142: FutureWarning: In a future version of pandas all arguments of concat except for the argument 'objs' will be keyword-only\n",
      "  x = pd.concat(x[::order], 1)\n"
     ]
    }
   ],
   "source": [
    "# Linear model to predict belief in postive influence of science on the past\n",
    "Y = Science_df['PAST_W42'] # A higher score indicates more skepticism of science's positive influence on the past\n",
    "X = Science_df[['young', 'women', 'college', 'black', 'latinx', 'churchgoer', 'bornagain', 'republican', 'F_INCOME']]\n",
    "X = sm.add_constant(X)\n",
    "model0 = sm.OLS(Y, X, missing='drop').fit()\n",
    "print(model0.summary())"
   ]
  },
  {
   "cell_type": "code",
   "execution_count": 91,
   "metadata": {},
   "outputs": [
    {
     "name": "stdout",
     "output_type": "stream",
     "text": [
      "                            OLS Regression Results                            \n",
      "==============================================================================\n",
      "Dep. Variable:             FUTURE_W42   R-squared:                       0.006\n",
      "Model:                            OLS   Adj. R-squared:                  0.002\n",
      "Method:                 Least Squares   F-statistic:                     1.400\n",
      "Date:                Wed, 19 Oct 2022   Prob (F-statistic):              0.182\n",
      "Time:                        13:26:35   Log-Likelihood:                -7225.8\n",
      "No. Observations:                2226   AIC:                         1.447e+04\n",
      "Df Residuals:                    2216   BIC:                         1.453e+04\n",
      "Df Model:                           9                                         \n",
      "Covariance Type:            nonrobust                                         \n",
      "==============================================================================\n",
      "                 coef    std err          t      P>|t|      [0.025      0.975]\n",
      "------------------------------------------------------------------------------\n",
      "const          1.5838      0.286      5.534      0.000       1.023       2.145\n",
      "young         -0.1276      0.360     -0.354      0.723      -0.834       0.579\n",
      "women          0.1596      0.268      0.595      0.552      -0.367       0.686\n",
      "college       -0.5283      0.282     -1.876      0.061      -1.081       0.024\n",
      "black         -0.1674      0.427     -0.392      0.695      -1.005       0.670\n",
      "latinx         0.0775      0.375      0.207      0.836      -0.658       0.813\n",
      "churchgoer     0.5456      0.339      1.607      0.108      -0.120       1.211\n",
      "bornagain      0.4154      0.344      1.208      0.227      -0.259       1.090\n",
      "republican    -0.2917      0.319     -0.913      0.361      -0.918       0.335\n",
      "F_INCOME       0.0042      0.007      0.587      0.557      -0.010       0.018\n",
      "==============================================================================\n",
      "Omnibus:                     4332.134   Durbin-Watson:                   1.999\n",
      "Prob(Omnibus):                  0.000   Jarque-Bera (JB):          5222377.449\n",
      "Skew:                          15.293   Prob(JB):                         0.00\n",
      "Kurtosis:                     238.309   Cond. No.                         75.5\n",
      "==============================================================================\n",
      "\n",
      "Notes:\n",
      "[1] Standard Errors assume that the covariance matrix of the errors is correctly specified.\n"
     ]
    },
    {
     "name": "stderr",
     "output_type": "stream",
     "text": [
      "/Users/michaelsmith/opt/anaconda3/lib/python3.9/site-packages/statsmodels/tsa/tsatools.py:142: FutureWarning: In a future version of pandas all arguments of concat except for the argument 'objs' will be keyword-only\n",
      "  x = pd.concat(x[::order], 1)\n"
     ]
    }
   ],
   "source": [
    "# Linear model to predict belief in postive influence of science on the future\n",
    "Y = Science_df['FUTURE_W42'] # A higher score indicates more skepticism of science's positive influence on the future\n",
    "X = Science_df[['young', 'women', 'college', 'black', 'latinx', 'churchgoer', 'bornagain', 'republican', 'F_INCOME']]\n",
    "X = sm.add_constant(X)\n",
    "model0 = sm.OLS(Y, X, missing='drop').fit()\n",
    "print(model0.summary())"
   ]
  }
 ],
 "metadata": {
  "kernelspec": {
   "display_name": "Python 3.9.7 ('base')",
   "language": "python",
   "name": "python3"
  },
  "language_info": {
   "codemirror_mode": {
    "name": "ipython",
    "version": 3
   },
   "file_extension": ".py",
   "mimetype": "text/x-python",
   "name": "python",
   "nbconvert_exporter": "python",
   "pygments_lexer": "ipython3",
   "version": "3.9.7"
  },
  "orig_nbformat": 4,
  "vscode": {
   "interpreter": {
    "hash": "bffae61b4a647f5c3a2b9689cc2bbc523f2c1227093a073b0d809d31c71c3583"
   }
  }
 },
 "nbformat": 4,
 "nbformat_minor": 2
}
