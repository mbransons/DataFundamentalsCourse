{
 "cells": [
  {
   "cell_type": "markdown",
   "metadata": {},
   "source": [
    "# The Costs of Connection, Preface, 1-2"
   ]
  },
  {
   "cell_type": "markdown",
   "metadata": {},
   "source": [
    "## Preface\n",
    "\n",
    "* \"Human experience, potentially every layer and aspect of it, is becoming the target of profitable extraction. We call this condition colonization by data.\"\n",
    "\n",
    "* \"...although the modes, intensities, scales, and contexts of today's dispossession are distinctive, teh underlying function remains teh same as under historical colonialsm: to acquire larege-scale resources from which economic value can be extracted\"\n",
    "\n",
    "* Possible because: embedded computer systems are everywhere in everyday life; they are essential parts of our lives / interactions socially and economically; and the aggregated power gathered through these systems is not just physical it is over information, communication, and 'truth' itself.\n",
    "\n",
    "* With regular capture of data about people, \"capitalism extends its capacity to exploit life by assimilating new or reconfigured human activities (whether regarded as labor or not) as its direct inputs.\"\n",
    "\n",
    "* Value statement – meaning discoverd in \"the effort to trace the 'inner connection' of what's happening with data.\" Looking for \"hidden and not-so-hidden costs.\""
   ]
  },
  {
   "cell_type": "markdown",
   "metadata": {},
   "source": [
    "## Chapter 1\n",
    "\n",
    "* \"therefore, our proposal is simple: that just as industrial capitalism, according to Marx, changed society by transforming the universal human activity of work intoa social form with an abstract dimension (via the commodification of labor), so capitalism today,in the expansionary phase wel call data colonialism, is transforming human nature (that is, preexisting streams of human life in all its diversity) into a newly abstracted social form (data) that is also ripe for commodification.\n",
    "\n",
    "* \"Data colonialism is the *how*, the extractivist processes through which life gets newly appropriated by capitalism. The social quantification sector is the *who*, the consortium of private and public players who engage in data colonialism to achieve their financial and political goals. And the Cloud Empire is the *what*, the overall organizations of resources and imagination that emerges from the practices of data colonialism.\"\n",
    "\n"
   ]
  },
  {
   "cell_type": "markdown",
   "metadata": {},
   "source": [
    "## Chapter 2\n",
    "\n",
    "* \"Our point is that through datafication, social interactions in all their forms become a domain in which market power can be exercised and value can be extracted, sometimes through extended means of labor and other times without any apparent activity on the part of those dominated but always under the rubric of a kind of appropriation and exploitation.\""
   ]
  },
  {
   "cell_type": "markdown",
   "metadata": {},
   "source": [
    "## Questions for Discussion\n",
    "\n",
    "1. What is being colonized in “data colonialism”?\n",
    "\n",
    "2. What role do social norms play in social quantification?\n",
    "\n",
    "3. What do the authors mean when they say that “the social quantification sector poses as a ‘green’ form of capitalism”?\n",
    "\n",
    "4. How does “the cloud” function as an episteme?\n",
    "\n",
    "5. How is unpaid and underpaid labor an essential part of data colonialism?\n",
    "\n",
    "6. How is datafication generating data about work processes and how does this change the experience of work?\n"
   ]
  },
  {
   "cell_type": "markdown",
   "metadata": {},
   "source": [
    "### 1. What is being colonized in “data colonialism”?\n",
    "Everyone's data that is freely produced and companies are repacking somehow into profit.\n",
    "\n",
    "What's 'new' is that geography and land-based 'battle grounds' do not exist. People do not necessarily know that the extraction of resources is even happening, because the systems of extraction are woven into our everyday social life. \n",
    "\n",
    "Why might be call it 'colonialism?' There of course is not the violence of old colonialism, but the data colonialists use similar techniques of pushing the power of inevitability. Describing that The Cloud Empire is saving us. \"Move fast and Break things.\" \"Build and ask for forgiveness later.\" It's the righteous and natural order of things to simply participate and feed into the system – it's useful! Pleasant!"
   ]
  },
  {
   "cell_type": "markdown",
   "metadata": {},
   "source": [
    "### 2. What role do social norms play in social quantification?\n"
   ]
  },
  {
   "cell_type": "markdown",
   "metadata": {},
   "source": [
    "### 5. How is unpaid and underpaid labor an essential part of data colonialism?\n",
    "unpaid labor and status 'reward' \n",
    "\n",
    "Claiming ownership over data \n",
    "\n",
    "Amazon warehouse workers that \n",
    "\n",
    "Open source software development community as a part of unpaid labor. "
   ]
  }
 ],
 "metadata": {
  "kernelspec": {
   "display_name": "Python 3.9.7 ('base')",
   "language": "python",
   "name": "python3"
  },
  "language_info": {
   "name": "python",
   "version": "3.9.7"
  },
  "orig_nbformat": 4,
  "vscode": {
   "interpreter": {
    "hash": "bffae61b4a647f5c3a2b9689cc2bbc523f2c1227093a073b0d809d31c71c3583"
   }
  }
 },
 "nbformat": 4,
 "nbformat_minor": 2
}
