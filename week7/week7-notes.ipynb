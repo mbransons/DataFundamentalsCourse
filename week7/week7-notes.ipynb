{
 "cells": [
  {
   "cell_type": "markdown",
   "metadata": {},
   "source": [
    "# The Costs of Connection, Preface, 1-2"
   ]
  },
  {
   "cell_type": "markdown",
   "metadata": {},
   "source": [
    "## Preface\n",
    "\n",
    "* \"Human experience, potentially every layer and aspect of it, is becoming the target of profitable extraction. We call this condition colonization by data.\"\n",
    "\n",
    "* \"...although the modes, intensities, scales, and contexts of today's dispossession are distinctive, teh underlying function remains teh same as under historical colonialsm: to acquire larege-scale resources from which economic value can be extracted\"\n",
    "\n",
    "* Possible because: embedded computer systems are everywhere in everyday life; they are essential parts of our lives / interactions socially and economically; and the aggregated power gathered through these systems is not just physical it is over information, communication, and 'truth' itself.\n",
    "\n",
    "* With regular capture of data about people, \"capitalism extends its capacity to exploit life by assimilating new or reconfigured human activities (whether regarded as labor or not) as its direct inputs.\"\n",
    "\n",
    "* Value statement – meaning discoverd in \"the effort to trace the 'inner connection' of what's happenign with data.\" Looking for \"hidden and not-so-hidden costs.\""
   ]
  }
 ],
 "metadata": {
  "kernelspec": {
   "display_name": "Python 3.9.7 ('base')",
   "language": "python",
   "name": "python3"
  },
  "language_info": {
   "name": "python",
   "version": "3.9.7"
  },
  "orig_nbformat": 4,
  "vscode": {
   "interpreter": {
    "hash": "bffae61b4a647f5c3a2b9689cc2bbc523f2c1227093a073b0d809d31c71c3583"
   }
  }
 },
 "nbformat": 4,
 "nbformat_minor": 2
}
