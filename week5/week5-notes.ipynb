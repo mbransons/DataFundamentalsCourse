{
 "cells": [
  {
   "cell_type": "markdown",
   "metadata": {},
   "source": [
    "# Week 5\n",
    "\n",
    "## Data Feminism Chapters 6 & 7\n",
    "\n",
    "### Topics\n",
    "\n",
    "*Principles: consider context, make labor visible\n",
    "*Context is both methodological and social\n",
    "*Information (data) exists in a social and political ecosystem that shapes how and what gets counted as well as what gets published\n",
    "*Analyzing context means asking what is missing: subjugated knowledge\n",
    "*Data biographies\n",
    "*Data collection and curation is labor\n",
    "*Different kinds of data: invisible forms of labor"
   ]
  },
  {
   "cell_type": "markdown",
   "metadata": {},
   "source": [
    "### Questions\n",
    "\n",
    "1. What is knowledge infrastructure?\n",
    "2. Who are the “data creatives”?\n",
    "3. What do the authors mean when they say that understanding context requires more theory, not less?\n",
    "4. What is the data supply chain?\n",
    "5. What is data production studies?\n",
    "6. What do the authors mean by “show your work”?"
   ]
  },
  {
   "cell_type": "markdown",
   "metadata": {},
   "source": [
    "### What is knowledge infrastructure?\n",
    "\n",
    "Knowledge is situated (coined by Donna Haraway) – a feminist approach insists on connecting data back to the context in which they were produced.\n",
    "\n",
    "... understanding data in relation to the \"knowledge infrastructure\" from which they originate (Christine Borgman). It is \"an ecology of people, practices, technologies, institutions, material objects, and relationships.\" In short, it is the context that makes data possible.\n",
    "\n",
    "The problem of publishing data without any context. Something we're seeing with goverment \"open data\" projects which often include little to no provenance or documentation. Or \"Zombie Data\" which has no particular purpose in mind.\n"
   ]
  },
  {
   "cell_type": "markdown",
   "metadata": {},
   "source": [
    "### Who are the \"data creatives\"?\n",
    "\n",
    "Big Dick Data is a formal, academic term that we, the authors, have coined to denote big data projects that are characterized by patriarchal, cis-masculinist, totalizing fantasies of world domination as enacted through data capture and analysis.\n",
    "\n",
    "Those that are able to \"context hop\" – are able to creatively mine and combine data to produce new insights, as well as work across diverse domains.\n",
    "\n"
   ]
  },
  {
   "cell_type": "markdown",
   "metadata": {},
   "source": [
    "### What do the authors mean when they say that understanding context requires more theory, not less?\n",
    "\n",
    "imbalances of power in \"data setting\" those that chose which and what data to present, especially without context. And then letting the numbers \"speak for themselves\" which excludes the story of how they were generated in the first place and obscure falsehoods.\n",
    "\n",
    "There needs to be more attention paid to how datasets are already \"cooked.\" Data are created in contexts and when those contexts are not placed at the forfront of their presentation – allowing for the understood gaps in the information gathered and not gathered – there is an assertion of authority and mastery without addressing complexity of what the data represents.\n",
    "\n",
    "A wonderful example of more theory applied to contexts of data gathering involved data analysts (Desmond Patton of Columbia) working with African American teenagers to help design a coding algorithm of tweets of Black men in Chicago. Created a \"deep listening\" method they called the contextual analysis of social media to help student coders mitigate their own bias and get closer to the intended meaning of each tweet. \n",
    "\n",
    "Patton also described how data science publications were slow to recognize the value of the work on data context.\n",
    "\n",
    "Letting the numbers \"speak for themselves\" is emphatically not more ethical or more democratic than representing the context from which they emerge as this leads to misinterpreted numbers and results being lost. \n",
    "\n",
    "Also \"data user guides\" which are simple, written documents that each contain a narrative portrait of a dataset. They describe the purpose and applicatoin of the data; the history, format, and standars; the organizational context; other analyses and stores that ave used the dataset; and the limitations and ethical implications of the dataset.\n",
    "\n",
    "Important to consider the cooking process that produces \"raw\" data. For example social media platforms like Instagram and Reddit make data sets available to researchers but do not declare how they are created, and what descisions are made to create these samples. What's included/excluded.\n",
    "\n",
    "Trying to explore and analyze what is missing can tell a lot. Analysis of Thomas Jefferson letters to look for \"The Image of Absence\" by Lauren F. Klein. Sorting through social connections to illuminate the presence of Jefferson's enslaved staff in the various interactions described in his letters.\n",
    "\n",
    "[Word embeddings quantify 100 years of gender and ethnic stereotypes](https://www.pnas.org/doi/10.1073/pnas.1720347115) – would be interesting to see if this study could be applied to film dialogue by studying srts. Referenced on pp. 161-162 of Data Feminism.\n",
    "\n",
    "Heather Krause speaks of \"data biographies\" which answer the questions about particular datasets – \n",
    "\n",
    "* Where did it come from? Who collected it? When? \n",
    "\n",
    "* How was it collected? \n",
    "\n",
    "* Why was it collected?"
   ]
  },
  {
   "cell_type": "markdown",
   "metadata": {},
   "source": [
    "### What is the data supply chain?\n",
    "\n",
    "The invisible labor involved in data work. Crowdsourcing of Netflix algorithms, Wikipedians creating and editing articles, Github only recognizes the developer as a contributor, excluding those that support the process such managers, designers, and more.\n",
    "\n",
    "Mechanical Turk workers on Amazon. Unequal classes of employees such as Google book scanners and Facebook post moderators. The parallel to Christine Darden's \"women computers\" of NASA is uncanny.\n",
    "\n",
    "The deomgraphics of Silicon Valley tech workers remain steadily young, white, and male, these global \"ghost workers\" are often older women of color, and always required to accept precarioius labor conditions.\n"
   ]
  },
  {
   "cell_type": "markdown",
   "metadata": {},
   "source": [
    "### What is data production studies?\n",
    "\n",
    "Explicit study of the labor of data science – examining the and challenging power by tracing visualizations and algorithms and bots back to their human and material soruces. \n",
    "\n",
    "Media scholar Miranda Banks asserted that \"production studies is a feminist methodology\" because it pays particular attention ot the power differenctials involved in the media production process.\n",
    "\n",
    "Example study by tech researcher Kate Crawford and design scholar Vladlan Joler – describe and diagram the human labor, data dependencise ansd material resources that contribute to a single Amazon Echo."
   ]
  },
  {
   "cell_type": "markdown",
   "metadata": {},
   "source": [
    "### What do the authors mean by \"show your work\"?\n",
    "\n",
    "giving credit to the broad range of work that goes into data production, especially the unrecognized always hidden labor often performed by women and people of color that is underwaged and undervalued.\n",
    "\n",
    "[Anatomy of an AI system](https://anatomyof.ai/)\n",
    "\n",
    "Collaborators' Bill of Rights – a 2011 response to the proliferation of types of positions, at widely divergent ranks, that were being asked to contribute to data-based (and other digital) projects.\n",
    "\n",
    "[A Brief Visual History of MARC Cataloging at the Library of Congress](https://sappingattention.blogspot.com/2017/05/a-brief-visual-history-of-marc.html)\n",
    "\n",
    "Emotional Labor – projecting a feeling while working.\n",
    "Affective Labor – feelings experienced while working.\n",
    "\n",
    "Care Work\n",
    "\n",
    "Maintainers – work of keeping systems functioning into the future.\n",
    "\n"
   ]
  }
 ],
 "metadata": {
  "kernelspec": {
   "display_name": "Python 3.10.2 64-bit",
   "language": "python",
   "name": "python3"
  },
  "language_info": {
   "name": "python",
   "version": "3.10.2"
  },
  "orig_nbformat": 4,
  "vscode": {
   "interpreter": {
    "hash": "aee8b7b246df8f9039afb4144a1f6fd8d2ca17a180786b69acc140d282b71a49"
   }
  }
 },
 "nbformat": 4,
 "nbformat_minor": 2
}
