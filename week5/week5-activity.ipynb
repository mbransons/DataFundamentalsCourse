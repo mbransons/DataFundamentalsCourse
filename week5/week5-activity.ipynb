{
 "cells": [
  {
   "cell_type": "markdown",
   "metadata": {},
   "source": [
    "## Linear Models, part II: Logistic Regression\n",
    "\n",
    "1. Find and read into a DataFrame a suitable dataset. You may use the global social indictors data from the example here. You may need to combine files, as shown here.\n",
    "\n",
    "2. Identify a dependent variable to explain. Create a binary variable of this measure, if needed. Explain why you chose this variable or recoded in the way you did.\n",
    "\n",
    "3. Build a model to explain the DV. You can use the odds (anti-log of the coefficients) or the marginal effects to test for the unique effects of each predictor.\n",
    "\n",
    "4. Explain the results."
   ]
  },
  {
   "cell_type": "code",
   "execution_count": 1,
   "metadata": {},
   "outputs": [],
   "source": [
    "import pandas as pd\n",
    "import numpy as np\n",
    "import statsmodels.api as sm\n",
    "import seaborn as sb\n",
    "import math"
   ]
  },
  {
   "cell_type": "code",
   "execution_count": 6,
   "metadata": {},
   "outputs": [],
   "source": [
    "GlobalIndicators1 = pd.read_excel('http://data.shortell.nyc/files/HumanDevelopment.xlsx', index_col='Country', na_values=['NA'])\n",
    "GlobalIndicators2 = pd.read_excel('http://data.shortell.nyc/files/GenderDevelopment.xlsx', index_col='Country', na_values=['NA'])\n",
    "GlobalIndicators3 = pd.read_excel('http://data.shortell.nyc/files/GenderInequality.xlsx', index_col='Country', na_values=['NA'])"
   ]
  },
  {
   "cell_type": "code",
   "execution_count": 28,
   "metadata": {},
   "outputs": [
    {
     "data": {
      "text/plain": [
       "Index(['HDI Rank', 'Human Development Index (HDI)', 'Life Expectancy at Birth',\n",
       "       'Expected Years of Education', 'Mean Years of Education',\n",
       "       'Gross National Income (GNI) per Capita',\n",
       "       'GNI per Capita Rank Minus HDI Rank', 'GDI Rank',\n",
       "       'Gender Development Index (GDI)', 'Human Development Index (Female)',\n",
       "       'Human Development Index (Male)', 'Life Expectancy at Birth (Female)',\n",
       "       'Life Expectancy at Birth (Male)',\n",
       "       'Expected Years of Education (Female)',\n",
       "       'Expected Years of Education (Male)',\n",
       "       'Mean Years of Education (Female)', 'Mean Years of Education (Male)',\n",
       "       'Estimated Gross National Income per Capita (Female)',\n",
       "       'Estimated Gross National Income per Capita (Male)', 'GII Rank',\n",
       "       'Gender Inequality Index (GII)', 'Maternal Mortality Ratio',\n",
       "       'Adolescent Birth Rate', 'Percent Representation in Parliament',\n",
       "       'Population with Secondary Education (Female)',\n",
       "       'Population with Secondary Education (Male)',\n",
       "       'Labour Force Participation Rate (Female)',\n",
       "       'Labour Force Participation Rate (Male)'],\n",
       "      dtype='object')"
      ]
     },
     "execution_count": 28,
     "metadata": {},
     "output_type": "execute_result"
    }
   ],
   "source": [
    "GlobalIndicatorsTotal = pd.concat([GlobalIndicators1, GlobalIndicators2, GlobalIndicators3], axis=1)\n",
    "GlobalIndicatorsTotal.columns"
   ]
  },
  {
   "cell_type": "code",
   "execution_count": 29,
   "metadata": {},
   "outputs": [
    {
     "data": {
      "text/plain": [
       "count    161.000000\n",
       "mean       0.930714\n",
       "std        0.072619\n",
       "min        0.600000\n",
       "25%        0.896000\n",
       "50%        0.950000\n",
       "75%        0.980000\n",
       "max        1.030000\n",
       "Name: Gender Development Index (GDI), dtype: float64"
      ]
     },
     "execution_count": 29,
     "metadata": {},
     "output_type": "execute_result"
    }
   ],
   "source": [
    "\n",
    "# The GDI is the ratio of the HDIs calculated separately for females and males using the same methodology as in the HDI. It is a direct measure of gender gap, showing the female HDI as a percentage of the male HDI. \n",
    "GlobalIndicatorsTotal['Gender Development Index (GDI)'].describe()"
   ]
  },
  {
   "cell_type": "code",
   "execution_count": 30,
   "metadata": {},
   "outputs": [
    {
     "data": {
      "text/plain": [
       "Country\n",
       "Norway                      0\n",
       "Australia                   0\n",
       "Switzerland                 0\n",
       "Denmark                     0\n",
       "Netherlands                 0\n",
       "                           ..\n",
       "Burundi                     0\n",
       "Chad                        1\n",
       "Eritrea                     0\n",
       "Central African Republic    1\n",
       "Niger                       1\n",
       "Name: GII Binary, Length: 188, dtype: int64"
      ]
     },
     "execution_count": 30,
     "metadata": {},
     "output_type": "execute_result"
    }
   ],
   "source": [
    "GlobalIndicatorsTotal['GII Binary'] = 0\n",
    "# Sets all countries with a gender gap within one standard of deviation (.930714 - .072619) as true \n",
    "GlobalIndicatorsTotal.loc[GlobalIndicatorsTotal['Gender Development Index (GDI)'] < 0.8581, ['GII Binary']] = 1\n",
    "GlobalIndicatorsTotal['GII Binary']"
   ]
  },
  {
   "cell_type": "code",
   "execution_count": 31,
   "metadata": {},
   "outputs": [
    {
     "name": "stdout",
     "output_type": "stream",
     "text": [
      "Optimization terminated successfully.\n",
      "         Current function value: 0.165027\n",
      "         Iterations 11\n",
      "                           Logit Regression Results                           \n",
      "==============================================================================\n",
      "Dep. Variable:             GII Binary   No. Observations:                  156\n",
      "Model:                          Logit   Df Residuals:                      151\n",
      "Method:                           MLE   Df Model:                            4\n",
      "Date:                Wed, 02 Nov 2022   Pseudo R-squ.:                  0.5943\n",
      "Time:                        14:03:24   Log-Likelihood:                -25.744\n",
      "converged:                       True   LL-Null:                       -63.464\n",
      "Covariance Type:            nonrobust   LLR p-value:                 1.608e-15\n",
      "=======================================================================================================================\n",
      "                                                          coef    std err          z      P>|z|      [0.025      0.975]\n",
      "-----------------------------------------------------------------------------------------------------------------------\n",
      "Percent Representation in Parliament                   -0.0297      0.030     -0.998      0.318      -0.088       0.029\n",
      "Population with Secondary Education (Female)           -0.0200      0.021     -0.960      0.337      -0.061       0.021\n",
      "Labour Force Participation Rate (Female)                0.0351      0.015      2.280      0.023       0.005       0.065\n",
      "Estimated Gross National Income per Capita (Female)    -0.0027      0.001     -3.385      0.001      -0.004      -0.001\n",
      "Gross National Income (GNI) per Capita                  0.0010      0.000      3.378      0.001       0.000       0.002\n",
      "=======================================================================================================================\n",
      "\n",
      "Possibly complete quasi-separation: A fraction 0.49 of observations can be\n",
      "perfectly predicted. This might indicate that there is complete\n",
      "quasi-separation. In this case some parameters will not be identified.\n"
     ]
    }
   ],
   "source": [
    "Y = GlobalIndicatorsTotal['GII Binary']\n",
    "X = GlobalIndicatorsTotal[['Percent Representation in Parliament', 'Population with Secondary Education (Female)', 'Labour Force Participation Rate (Female)', 'Estimated Gross National Income per Capita (Female)', 'Gross National Income (GNI) per Capita']]\n",
    "model0 = sm.Logit(Y, X, missing='drop').fit()\n",
    "print(model0.summary())"
   ]
  },
  {
   "cell_type": "code",
   "execution_count": null,
   "metadata": {},
   "outputs": [],
   "source": [
    "print(1/math.exp(model0.params[0]), 1/math.exp(model0.params[1]), math.exp(model0.params[2]), 1/math.exp(model0.params[3]), math.exp(1000*model0.params[4]))"
   ]
  },
  {
   "cell_type": "code",
   "execution_count": 33,
   "metadata": {},
   "outputs": [
    {
     "name": "stdout",
     "output_type": "stream",
     "text": [
      "        Logit Marginal Effects       \n",
      "=====================================\n",
      "Dep. Variable:             GII Binary\n",
      "Method:                          dydx\n",
      "At:                           overall\n",
      "=======================================================================================================================\n",
      "                                                         dy/dx    std err          z      P>|z|      [0.025      0.975]\n",
      "-----------------------------------------------------------------------------------------------------------------------\n",
      "Percent Representation in Parliament                   -0.0016      0.002     -1.032      0.302      -0.005       0.001\n",
      "Population with Secondary Education (Female)           -0.0011      0.001     -0.975      0.330      -0.003       0.001\n",
      "Labour Force Participation Rate (Female)                0.0019      0.001      2.729      0.006       0.001       0.003\n",
      "Estimated Gross National Income per Capita (Female)    -0.0001   2.48e-05     -5.990      0.000      -0.000   -9.97e-05\n",
      "Gross National Income (GNI) per Capita               5.406e-05   9.19e-06      5.879      0.000     3.6e-05    7.21e-05\n",
      "=======================================================================================================================\n"
     ]
    }
   ],
   "source": [
    "model0_marginals = model0.get_margeff()\n",
    "print(model0_marginals.summary())"
   ]
  },
  {
   "cell_type": "code",
   "execution_count": 34,
   "metadata": {},
   "outputs": [
    {
     "name": "stdout",
     "output_type": "stream",
     "text": [
      "[[129.   5.]\n",
      " [ 10.  12.]]\n"
     ]
    }
   ],
   "source": [
    "model0_pred = model0.pred_table()\n",
    "print(model0_pred) # Correct predictions are on the diagonal of the 2d array."
   ]
  },
  {
   "cell_type": "code",
   "execution_count": 36,
   "metadata": {},
   "outputs": [
    {
     "name": "stdout",
     "output_type": "stream",
     "text": [
      "0.9626865671641791 0.5454545454545454\n"
     ]
    }
   ],
   "source": [
    "correct_i = 129 / (129 + 5) # The proportion of correct predictions of 0.\n",
    "correct_j = 12 / (12 + 10) # The proportion of correct predictions of 1.\n",
    "print(correct_i, correct_j)"
   ]
  },
  {
   "cell_type": "markdown",
   "metadata": {},
   "source": [
    "I believe this model is showing that it does a very good job of predicting which countries have a low Gender Development Index (GDI) based on these countries' - 'Percent Representation in Parliament', 'Population with Secondary Education (Female)', 'Labour Force Participation Rate (Female)', 'Estimated Gross National Income per Capita (Female)', and 'Gross National Income (GNI) per Capita.' \n",
    "\n",
    "But inversely the model basically does a coin flip's chance of predicting which countries have a high GDI based on the same indicators.\n",
    "\n",
    "This makes some sense considering that only 25% of the countries' GDI are below 89%. Yet there is still high variability within the tested X values within those countries."
   ]
  }
 ],
 "metadata": {
  "kernelspec": {
   "display_name": "Python 3.9.7 ('base')",
   "language": "python",
   "name": "python3"
  },
  "language_info": {
   "codemirror_mode": {
    "name": "ipython",
    "version": 3
   },
   "file_extension": ".py",
   "mimetype": "text/x-python",
   "name": "python",
   "nbconvert_exporter": "python",
   "pygments_lexer": "ipython3",
   "version": "3.9.7"
  },
  "orig_nbformat": 4,
  "vscode": {
   "interpreter": {
    "hash": "bffae61b4a647f5c3a2b9689cc2bbc523f2c1227093a073b0d809d31c71c3583"
   }
  }
 },
 "nbformat": 4,
 "nbformat_minor": 2
}
