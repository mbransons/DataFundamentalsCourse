{
 "cells": [
  {
   "cell_type": "markdown",
   "metadata": {},
   "source": [
    "# Week 8 – The Costs of Connection\n",
    "\n",
    "* Interlude, 3, 4\n"
   ]
  },
  {
   "cell_type": "markdown",
   "metadata": {},
   "source": [
    "### Decoloniality vs. Post-colonialism\n",
    "\n",
    "* Reminds me of the comparison made in Data Feminism between data ethics and data justice.\n",
    "\n",
    "* Post-colonialism speaks to the inability to unintertwine the modern capitalist world economy with the colonial past. It's an effort to make the eurocentric dominant world view to become accountable for its past. But it can be seen as stuck focusing to much on the source of power that created problem.\n",
    "\n",
    "* Where decolonialism posits the need to acknowledge the differences in power and actively working to dismantle them. It needs to be a co-liberal goal, one where we are actively working to be inclusive and civic-oriented. Not looking for a pluriversal not a universal worldview.\n",
    "\n",
    "* So what's the path to resistance??? The ideas of what we need to do to stop it will not come from the usual sources..."
   ]
  },
  {
   "cell_type": "markdown",
   "metadata": {},
   "source": [
    "### How is social quantification reshaping social life?\n",
    "\n",
    "* companies aggregating data and using to their advantage to commericalize. We are somewhat stuck with the EULAs and SRRs that allow them to use data as they wish.\n",
    "\n",
    "* Human autonomy is reduced by the fact that there are fewer choices for social engagement. Or social lives have been 'platformed.'\n",
    "\n",
    "* How we emotionally respond to the negative news more strongly (negativity bias) to the positive, as a result negative interactions are emphasized. They are surfaced at a higher rate and the negative echo chamber ensues.\n",
    "\n",
    "* New surveillance and constant communication... \n"
   ]
  },
  {
   "cell_type": "markdown",
   "metadata": {},
   "source": [
    "### How are value extration and knowledge related?\n",
    "\n",
    "* Value of scale and quantifying every interaction can be quantized and only large institutions have the capacity to make the data into something refined and sellable.\n",
    "\n",
    "* Data is like a natural resource, that should be mined and refined. We must do something with that resource because it's there and we can do something with it. \n",
    "\n",
    "* We don't have a relationship to our digital traces as belonging to 'us' they are just to be used by whomever has access to it, without compensation."
   ]
  },
  {
   "cell_type": "markdown",
   "metadata": {},
   "source": [
    "### Drawing a connection to historical colonialism, how do the colonialized understand the power relations that permit data extraction?\n",
    "\n",
    "* Eurocentric point of view that the use of data is for some 'greater good' and you should just accept that. And if you don't accept it, then you will be excluded. \n",
    "\n",
    "* The historical perspective of colonialism there is a 'super-structure' or a natural order, for example ordained by a Christian god. Modern data practices don't have an explicit violence to back-up this natural order, but EULAs and SSRs define a control over data that the company explicitly own and you have no rights to them. \n",
    "\n",
    "* People internalize the 'stable social order' and accept these practices of data collection as normal. The companies are the 'natural' owners of these data because they've created the tools that allow us to interact."
   ]
  },
  {
   "cell_type": "markdown",
   "metadata": {},
   "source": [
    "### What is being colonized in data colonialism?\n",
    "\n",
    "* The data is the new natural resource that is being 'discovered' in new territories and gathered into a centralized space to be be commodified.\n",
    "\n",
    "* 'we are proposing that data colonialism represents a transformation that will *eventually* result in a new mode of production...over time, a complete reorganization of social relations and a transformation of what counts as economic resources.'\n",
    "\n",
    "* what is work and not work is being erased, the entirety of social life is subject of datafication and economic extraction.\n",
    "\n",
    "* it's a bit of a 'Black Mirror' styled bit of science fiction propositioning. Very apocalyptic in it's suggesting a trajectory that we can't necessarily see but we're going there..."
   ]
  }
 ],
 "metadata": {
  "kernelspec": {
   "display_name": "Python 3.9.7 ('base')",
   "language": "python",
   "name": "python3"
  },
  "language_info": {
   "name": "python",
   "version": "3.9.7"
  },
  "orig_nbformat": 4,
  "vscode": {
   "interpreter": {
    "hash": "bffae61b4a647f5c3a2b9689cc2bbc523f2c1227093a073b0d809d31c71c3583"
   }
  }
 },
 "nbformat": 4,
 "nbformat_minor": 2
}
