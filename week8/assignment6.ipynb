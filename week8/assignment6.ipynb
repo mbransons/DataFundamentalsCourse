{
  "nbformat": 4,
  "nbformat_minor": 0,
  "metadata": {
    "colab": {
      "provenance": []
    },
    "kernelspec": {
      "name": "python3",
      "display_name": "Python 3"
    }
  },
  "cells": [
    {
      "cell_type": "markdown",
      "metadata": {
        "id": "Xy-5BFZTSD88"
      },
      "source": [
        "# Telling a Story with Data\n",
        "\n",
        "In this notebook, I'll show you how to use the tools we've learned to pose a sociological question, find and read appropriate data, and then do a series of analyses that form an answer to the question. Through this process, we'll keep the principles of *Data Feminism* in mind.\n",
        "\n"
      ]
    },
    {
      "cell_type": "markdown",
      "metadata": {
        "id": "CErN33JRU8fP"
      },
      "source": [
        "The data source I identified as relevant to my question is IPUMS at the University of Minnesota: https://usa.ipums.org/usa/index.shtml\n",
        "\n",
        "IPUMS is a form of US Census data that is made available to researchers, with identifying information removed. IPUMS used to stand for \"Integrated Public Use Microdata Series\" but now people just consider it the name of a data source. It allows us to ask many different kinds of questions about the US population, including individual adults and households. It is a popular data source for many kinds of sociological research.\n",
        "\n"
      ]
    },
    {
      "cell_type": "code",
      "metadata": {
        "id": "b6kTWy09caYT",
        "colab": {
          "base_uri": "https://localhost:8080/"
        },
        "outputId": "9a1a1456-20ed-42e2-ae92-d40a32c1c4c6"
      },
      "source": [
        "# Code block 1: Libraries\n",
        "import pandas as pd\n",
        "import numpy as np\n",
        "import statsmodels.api as sm\n",
        "import seaborn as sb\n",
        "import matplotlib.pyplot as plt \n",
        "import math\n"
      ],
      "execution_count": null,
      "outputs": [
        {
          "output_type": "stream",
          "text": [
            "/usr/local/lib/python3.6/dist-packages/statsmodels/tools/_testing.py:19: FutureWarning: pandas.util.testing is deprecated. Use the functions in the public API at pandas.testing instead.\n",
            "  import pandas.util.testing as tm\n"
          ],
          "name": "stderr"
        }
      ]
    },
    {
      "cell_type": "code",
      "metadata": {
        "id": "5xFmrDK71a4O",
        "colab": {
          "base_uri": "https://localhost:8080/"
        },
        "outputId": "b9286b29-40b2-4751-9fd5-16ab368aeabf"
      },
      "source": [
        "# Code block 1b: Install library\n",
        "!pip install researchpy"
      ],
      "execution_count": null,
      "outputs": [
        {
          "output_type": "stream",
          "text": [
            "Collecting researchpy\n",
            "  Downloading https://files.pythonhosted.org/packages/4b/a3/b16ea25a5416f7c35824b2fc3ee1cdc9f9d8ab6d9fc4119679504d43b8a8/researchpy-0.2.3-py3-none-any.whl\n",
            "Requirement already satisfied: scipy in /usr/local/lib/python3.6/dist-packages (from researchpy) (1.4.1)\n",
            "Requirement already satisfied: statsmodels in /usr/local/lib/python3.6/dist-packages (from researchpy) (0.10.2)\n",
            "Requirement already satisfied: pandas in /usr/local/lib/python3.6/dist-packages (from researchpy) (1.1.4)\n",
            "Requirement already satisfied: numpy in /usr/local/lib/python3.6/dist-packages (from researchpy) (1.18.5)\n",
            "Requirement already satisfied: patsy>=0.4.0 in /usr/local/lib/python3.6/dist-packages (from statsmodels->researchpy) (0.5.1)\n",
            "Requirement already satisfied: pytz>=2017.2 in /usr/local/lib/python3.6/dist-packages (from pandas->researchpy) (2018.9)\n",
            "Requirement already satisfied: python-dateutil>=2.7.3 in /usr/local/lib/python3.6/dist-packages (from pandas->researchpy) (2.8.1)\n",
            "Requirement already satisfied: six in /usr/local/lib/python3.6/dist-packages (from patsy>=0.4.0->statsmodels->researchpy) (1.15.0)\n",
            "Installing collected packages: researchpy\n",
            "Successfully installed researchpy-0.2.3\n"
          ],
          "name": "stdout"
        }
      ]
    },
    {
      "cell_type": "code",
      "metadata": {
        "id": "Gr7G7ef11fcn"
      },
      "source": [
        "# Code block 1c: Importing the new library\n",
        "import researchpy as rp"
      ],
      "execution_count": null,
      "outputs": []
    },
    {
      "cell_type": "code",
      "metadata": {
        "id": "o5khpCFnzZRu"
      },
      "source": [
        "# Code block 2: Reading the data\n",
        "IPUMS_df = pd.read_csv('/content/drive/MyDrive/Data/usa_00003.csv')\n"
      ],
      "execution_count": null,
      "outputs": []
    },
    {
      "cell_type": "code",
      "metadata": {
        "id": "Wn5Kk1e8R4Rw",
        "colab": {
          "base_uri": "https://localhost:8080/",
          "height": 253
        },
        "outputId": "48662ded-da14-4faa-de1a-6faf1888b51a"
      },
      "source": [
        "IPUMS_df.head()"
      ],
      "execution_count": null,
      "outputs": [
        {
          "output_type": "execute_result",
          "data": {
            "text/html": [
              "<div>\n",
              "<style scoped>\n",
              "    .dataframe tbody tr th:only-of-type {\n",
              "        vertical-align: middle;\n",
              "    }\n",
              "\n",
              "    .dataframe tbody tr th {\n",
              "        vertical-align: top;\n",
              "    }\n",
              "\n",
              "    .dataframe thead th {\n",
              "        text-align: right;\n",
              "    }\n",
              "</style>\n",
              "<table border=\"1\" class=\"dataframe\">\n",
              "  <thead>\n",
              "    <tr style=\"text-align: right;\">\n",
              "      <th></th>\n",
              "      <th>YEAR</th>\n",
              "      <th>SAMPLE</th>\n",
              "      <th>SERIAL</th>\n",
              "      <th>CBSERIAL</th>\n",
              "      <th>HHWT</th>\n",
              "      <th>CLUSTER</th>\n",
              "      <th>REGION</th>\n",
              "      <th>STATEICP</th>\n",
              "      <th>STATEFIP</th>\n",
              "      <th>COUNTYICP</th>\n",
              "      <th>COUNTYFIP</th>\n",
              "      <th>DENSITY</th>\n",
              "      <th>METRO</th>\n",
              "      <th>MET2013</th>\n",
              "      <th>MET2013ERR</th>\n",
              "      <th>METPOP10</th>\n",
              "      <th>PCTMETRO</th>\n",
              "      <th>CITY</th>\n",
              "      <th>CITYERR</th>\n",
              "      <th>CITYPOP</th>\n",
              "      <th>PUMA</th>\n",
              "      <th>STRATA</th>\n",
              "      <th>GQ</th>\n",
              "      <th>GQTYPE</th>\n",
              "      <th>GQTYPED</th>\n",
              "      <th>FARM</th>\n",
              "      <th>OWNERSHP</th>\n",
              "      <th>OWNERSHPD</th>\n",
              "      <th>MORTGAGE</th>\n",
              "      <th>MORTGAG2</th>\n",
              "      <th>FARMPROD</th>\n",
              "      <th>ACREHOUS</th>\n",
              "      <th>MORTAMT1</th>\n",
              "      <th>MORTAMT2</th>\n",
              "      <th>TAXINCL</th>\n",
              "      <th>INSINCL</th>\n",
              "      <th>PROPINSR</th>\n",
              "      <th>PROPTX99</th>\n",
              "      <th>OWNCOST</th>\n",
              "      <th>RENT</th>\n",
              "      <th>...</th>\n",
              "      <th>CLASSWKRD</th>\n",
              "      <th>OCC2010</th>\n",
              "      <th>INDNAICS</th>\n",
              "      <th>WKSWORK1</th>\n",
              "      <th>WKSWORK2</th>\n",
              "      <th>UHRSWORK</th>\n",
              "      <th>WRKLSTWK</th>\n",
              "      <th>LOOKING</th>\n",
              "      <th>INCTOT</th>\n",
              "      <th>FTOTINC</th>\n",
              "      <th>INCWAGE</th>\n",
              "      <th>INCBUS00</th>\n",
              "      <th>INCSS</th>\n",
              "      <th>INCWELFR</th>\n",
              "      <th>INCINVST</th>\n",
              "      <th>INCRETIR</th>\n",
              "      <th>INCSUPP</th>\n",
              "      <th>INCOTHER</th>\n",
              "      <th>INCEARN</th>\n",
              "      <th>POVERTY</th>\n",
              "      <th>OCCSCORE</th>\n",
              "      <th>SEI</th>\n",
              "      <th>HWSEI</th>\n",
              "      <th>PRESGL</th>\n",
              "      <th>MIGRATE1</th>\n",
              "      <th>MIGRATE1D</th>\n",
              "      <th>MIGCOUNTY1</th>\n",
              "      <th>VETDISAB</th>\n",
              "      <th>DIFFREM</th>\n",
              "      <th>DIFFPHYS</th>\n",
              "      <th>DIFFMOB</th>\n",
              "      <th>DIFFCARE</th>\n",
              "      <th>DIFFSENS</th>\n",
              "      <th>DIFFEYE</th>\n",
              "      <th>DIFFHEAR</th>\n",
              "      <th>PWTYPE</th>\n",
              "      <th>CARPOOL</th>\n",
              "      <th>RIDERS</th>\n",
              "      <th>TRANTIME</th>\n",
              "      <th>DEPARTS</th>\n",
              "    </tr>\n",
              "  </thead>\n",
              "  <tbody>\n",
              "    <tr>\n",
              "      <th>0</th>\n",
              "      <td>2019</td>\n",
              "      <td>201901</td>\n",
              "      <td>5</td>\n",
              "      <td>2019010000205</td>\n",
              "      <td>1065.3</td>\n",
              "      <td>2019000000051</td>\n",
              "      <td>32</td>\n",
              "      <td>41</td>\n",
              "      <td>1</td>\n",
              "      <td>970</td>\n",
              "      <td>97</td>\n",
              "      <td>2341.6</td>\n",
              "      <td>4</td>\n",
              "      <td>33660</td>\n",
              "      <td>1</td>\n",
              "      <td>412992</td>\n",
              "      <td>100.0</td>\n",
              "      <td>0</td>\n",
              "      <td>0</td>\n",
              "      <td>0</td>\n",
              "      <td>2701</td>\n",
              "      <td>270101</td>\n",
              "      <td>3</td>\n",
              "      <td>1</td>\n",
              "      <td>100</td>\n",
              "      <td>1</td>\n",
              "      <td>0</td>\n",
              "      <td>0</td>\n",
              "      <td>0</td>\n",
              "      <td>0</td>\n",
              "      <td>0</td>\n",
              "      <td>0</td>\n",
              "      <td>0</td>\n",
              "      <td>0</td>\n",
              "      <td>0</td>\n",
              "      <td>0</td>\n",
              "      <td>0</td>\n",
              "      <td>0</td>\n",
              "      <td>99999</td>\n",
              "      <td>0</td>\n",
              "      <td>...</td>\n",
              "      <td>0</td>\n",
              "      <td>9920</td>\n",
              "      <td>0</td>\n",
              "      <td>0</td>\n",
              "      <td>0</td>\n",
              "      <td>0</td>\n",
              "      <td>3</td>\n",
              "      <td>3</td>\n",
              "      <td>0</td>\n",
              "      <td>9999999</td>\n",
              "      <td>0</td>\n",
              "      <td>0</td>\n",
              "      <td>0</td>\n",
              "      <td>0</td>\n",
              "      <td>0.0</td>\n",
              "      <td>0.0</td>\n",
              "      <td>0.0</td>\n",
              "      <td>0.0</td>\n",
              "      <td>0.0</td>\n",
              "      <td>0.0</td>\n",
              "      <td>0.0</td>\n",
              "      <td>0.0</td>\n",
              "      <td>0.00</td>\n",
              "      <td>0.0</td>\n",
              "      <td>2.0</td>\n",
              "      <td>23.0</td>\n",
              "      <td>97.0</td>\n",
              "      <td>0.0</td>\n",
              "      <td>1.0</td>\n",
              "      <td>1.0</td>\n",
              "      <td>1.0</td>\n",
              "      <td>1.0</td>\n",
              "      <td>1.0</td>\n",
              "      <td>1.0</td>\n",
              "      <td>1.0</td>\n",
              "      <td>0.0</td>\n",
              "      <td>0.0</td>\n",
              "      <td>0.0</td>\n",
              "      <td>0.0</td>\n",
              "      <td>0.0</td>\n",
              "    </tr>\n",
              "    <tr>\n",
              "      <th>1</th>\n",
              "      <td>2019</td>\n",
              "      <td>201901</td>\n",
              "      <td>25</td>\n",
              "      <td>2019010001133</td>\n",
              "      <td>1346.7</td>\n",
              "      <td>2019000000251</td>\n",
              "      <td>32</td>\n",
              "      <td>41</td>\n",
              "      <td>1</td>\n",
              "      <td>0</td>\n",
              "      <td>0</td>\n",
              "      <td>86.9</td>\n",
              "      <td>1</td>\n",
              "      <td>0</td>\n",
              "      <td>0</td>\n",
              "      <td>62817</td>\n",
              "      <td>0.0</td>\n",
              "      <td>0</td>\n",
              "      <td>0</td>\n",
              "      <td>0</td>\n",
              "      <td>400</td>\n",
              "      <td>40001</td>\n",
              "      <td>3</td>\n",
              "      <td>1</td>\n",
              "      <td>100</td>\n",
              "      <td>1</td>\n",
              "      <td>0</td>\n",
              "      <td>0</td>\n",
              "      <td>0</td>\n",
              "      <td>0</td>\n",
              "      <td>0</td>\n",
              "      <td>0</td>\n",
              "      <td>0</td>\n",
              "      <td>0</td>\n",
              "      <td>0</td>\n",
              "      <td>0</td>\n",
              "      <td>0</td>\n",
              "      <td>0</td>\n",
              "      <td>99999</td>\n",
              "      <td>0</td>\n",
              "      <td>...</td>\n",
              "      <td>22</td>\n",
              "      <td>4220</td>\n",
              "      <td>5313</td>\n",
              "      <td>0</td>\n",
              "      <td>0</td>\n",
              "      <td>0</td>\n",
              "      <td>3</td>\n",
              "      <td>3</td>\n",
              "      <td>0</td>\n",
              "      <td>9999999</td>\n",
              "      <td>0</td>\n",
              "      <td>0</td>\n",
              "      <td>0</td>\n",
              "      <td>0</td>\n",
              "      <td>0.0</td>\n",
              "      <td>0.0</td>\n",
              "      <td>0.0</td>\n",
              "      <td>0.0</td>\n",
              "      <td>0.0</td>\n",
              "      <td>0.0</td>\n",
              "      <td>19.0</td>\n",
              "      <td>9.0</td>\n",
              "      <td>19.56</td>\n",
              "      <td>16.1</td>\n",
              "      <td>3.0</td>\n",
              "      <td>31.0</td>\n",
              "      <td>0.0</td>\n",
              "      <td>1.0</td>\n",
              "      <td>1.0</td>\n",
              "      <td>1.0</td>\n",
              "      <td>1.0</td>\n",
              "      <td>1.0</td>\n",
              "      <td>1.0</td>\n",
              "      <td>1.0</td>\n",
              "      <td>1.0</td>\n",
              "      <td>0.0</td>\n",
              "      <td>0.0</td>\n",
              "      <td>0.0</td>\n",
              "      <td>0.0</td>\n",
              "      <td>0.0</td>\n",
              "    </tr>\n",
              "    <tr>\n",
              "      <th>2</th>\n",
              "      <td>2019</td>\n",
              "      <td>201901</td>\n",
              "      <td>45</td>\n",
              "      <td>2019010002777</td>\n",
              "      <td>241.2</td>\n",
              "      <td>2019000000451</td>\n",
              "      <td>32</td>\n",
              "      <td>41</td>\n",
              "      <td>1</td>\n",
              "      <td>0</td>\n",
              "      <td>0</td>\n",
              "      <td>224.6</td>\n",
              "      <td>4</td>\n",
              "      <td>26620</td>\n",
              "      <td>5</td>\n",
              "      <td>417593</td>\n",
              "      <td>100.0</td>\n",
              "      <td>0</td>\n",
              "      <td>0</td>\n",
              "      <td>0</td>\n",
              "      <td>200</td>\n",
              "      <td>20001</td>\n",
              "      <td>4</td>\n",
              "      <td>5</td>\n",
              "      <td>500</td>\n",
              "      <td>1</td>\n",
              "      <td>0</td>\n",
              "      <td>0</td>\n",
              "      <td>0</td>\n",
              "      <td>0</td>\n",
              "      <td>0</td>\n",
              "      <td>0</td>\n",
              "      <td>0</td>\n",
              "      <td>0</td>\n",
              "      <td>0</td>\n",
              "      <td>0</td>\n",
              "      <td>0</td>\n",
              "      <td>0</td>\n",
              "      <td>99999</td>\n",
              "      <td>0</td>\n",
              "      <td>...</td>\n",
              "      <td>0</td>\n",
              "      <td>9920</td>\n",
              "      <td>0</td>\n",
              "      <td>0</td>\n",
              "      <td>0</td>\n",
              "      <td>0</td>\n",
              "      <td>1</td>\n",
              "      <td>1</td>\n",
              "      <td>10100</td>\n",
              "      <td>9999999</td>\n",
              "      <td>0</td>\n",
              "      <td>0</td>\n",
              "      <td>10100</td>\n",
              "      <td>0</td>\n",
              "      <td>0.0</td>\n",
              "      <td>0.0</td>\n",
              "      <td>0.0</td>\n",
              "      <td>0.0</td>\n",
              "      <td>0.0</td>\n",
              "      <td>77.0</td>\n",
              "      <td>0.0</td>\n",
              "      <td>0.0</td>\n",
              "      <td>0.00</td>\n",
              "      <td>0.0</td>\n",
              "      <td>1.0</td>\n",
              "      <td>10.0</td>\n",
              "      <td>0.0</td>\n",
              "      <td>0.0</td>\n",
              "      <td>2.0</td>\n",
              "      <td>2.0</td>\n",
              "      <td>2.0</td>\n",
              "      <td>1.0</td>\n",
              "      <td>1.0</td>\n",
              "      <td>1.0</td>\n",
              "      <td>1.0</td>\n",
              "      <td>0.0</td>\n",
              "      <td>0.0</td>\n",
              "      <td>0.0</td>\n",
              "      <td>0.0</td>\n",
              "      <td>0.0</td>\n",
              "    </tr>\n",
              "    <tr>\n",
              "      <th>3</th>\n",
              "      <td>2019</td>\n",
              "      <td>201901</td>\n",
              "      <td>65</td>\n",
              "      <td>2019010004483</td>\n",
              "      <td>1326.6</td>\n",
              "      <td>2019000000651</td>\n",
              "      <td>32</td>\n",
              "      <td>41</td>\n",
              "      <td>1</td>\n",
              "      <td>970</td>\n",
              "      <td>97</td>\n",
              "      <td>2341.6</td>\n",
              "      <td>4</td>\n",
              "      <td>33660</td>\n",
              "      <td>1</td>\n",
              "      <td>412992</td>\n",
              "      <td>100.0</td>\n",
              "      <td>0</td>\n",
              "      <td>0</td>\n",
              "      <td>0</td>\n",
              "      <td>2701</td>\n",
              "      <td>270101</td>\n",
              "      <td>3</td>\n",
              "      <td>1</td>\n",
              "      <td>100</td>\n",
              "      <td>1</td>\n",
              "      <td>0</td>\n",
              "      <td>0</td>\n",
              "      <td>0</td>\n",
              "      <td>0</td>\n",
              "      <td>0</td>\n",
              "      <td>0</td>\n",
              "      <td>0</td>\n",
              "      <td>0</td>\n",
              "      <td>0</td>\n",
              "      <td>0</td>\n",
              "      <td>0</td>\n",
              "      <td>0</td>\n",
              "      <td>99999</td>\n",
              "      <td>0</td>\n",
              "      <td>...</td>\n",
              "      <td>0</td>\n",
              "      <td>9920</td>\n",
              "      <td>0</td>\n",
              "      <td>0</td>\n",
              "      <td>0</td>\n",
              "      <td>0</td>\n",
              "      <td>3</td>\n",
              "      <td>3</td>\n",
              "      <td>0</td>\n",
              "      <td>9999999</td>\n",
              "      <td>0</td>\n",
              "      <td>0</td>\n",
              "      <td>0</td>\n",
              "      <td>0</td>\n",
              "      <td>0.0</td>\n",
              "      <td>0.0</td>\n",
              "      <td>0.0</td>\n",
              "      <td>0.0</td>\n",
              "      <td>0.0</td>\n",
              "      <td>0.0</td>\n",
              "      <td>0.0</td>\n",
              "      <td>0.0</td>\n",
              "      <td>0.00</td>\n",
              "      <td>0.0</td>\n",
              "      <td>1.0</td>\n",
              "      <td>10.0</td>\n",
              "      <td>0.0</td>\n",
              "      <td>0.0</td>\n",
              "      <td>1.0</td>\n",
              "      <td>1.0</td>\n",
              "      <td>1.0</td>\n",
              "      <td>1.0</td>\n",
              "      <td>1.0</td>\n",
              "      <td>1.0</td>\n",
              "      <td>1.0</td>\n",
              "      <td>0.0</td>\n",
              "      <td>0.0</td>\n",
              "      <td>0.0</td>\n",
              "      <td>0.0</td>\n",
              "      <td>0.0</td>\n",
              "    </tr>\n",
              "    <tr>\n",
              "      <th>4</th>\n",
              "      <td>2019</td>\n",
              "      <td>201901</td>\n",
              "      <td>86</td>\n",
              "      <td>2019010005917</td>\n",
              "      <td>381.9</td>\n",
              "      <td>2019000000861</td>\n",
              "      <td>32</td>\n",
              "      <td>41</td>\n",
              "      <td>1</td>\n",
              "      <td>730</td>\n",
              "      <td>73</td>\n",
              "      <td>2731.2</td>\n",
              "      <td>4</td>\n",
              "      <td>13820</td>\n",
              "      <td>6</td>\n",
              "      <td>1128047</td>\n",
              "      <td>100.0</td>\n",
              "      <td>0</td>\n",
              "      <td>0</td>\n",
              "      <td>0</td>\n",
              "      <td>1301</td>\n",
              "      <td>130101</td>\n",
              "      <td>3</td>\n",
              "      <td>1</td>\n",
              "      <td>100</td>\n",
              "      <td>1</td>\n",
              "      <td>0</td>\n",
              "      <td>0</td>\n",
              "      <td>0</td>\n",
              "      <td>0</td>\n",
              "      <td>0</td>\n",
              "      <td>0</td>\n",
              "      <td>0</td>\n",
              "      <td>0</td>\n",
              "      <td>0</td>\n",
              "      <td>0</td>\n",
              "      <td>0</td>\n",
              "      <td>0</td>\n",
              "      <td>99999</td>\n",
              "      <td>0</td>\n",
              "      <td>...</td>\n",
              "      <td>0</td>\n",
              "      <td>9920</td>\n",
              "      <td>0</td>\n",
              "      <td>0</td>\n",
              "      <td>0</td>\n",
              "      <td>0</td>\n",
              "      <td>3</td>\n",
              "      <td>3</td>\n",
              "      <td>12900</td>\n",
              "      <td>9999999</td>\n",
              "      <td>0</td>\n",
              "      <td>0</td>\n",
              "      <td>12900</td>\n",
              "      <td>0</td>\n",
              "      <td>0.0</td>\n",
              "      <td>0.0</td>\n",
              "      <td>0.0</td>\n",
              "      <td>0.0</td>\n",
              "      <td>0.0</td>\n",
              "      <td>0.0</td>\n",
              "      <td>0.0</td>\n",
              "      <td>0.0</td>\n",
              "      <td>0.00</td>\n",
              "      <td>0.0</td>\n",
              "      <td>1.0</td>\n",
              "      <td>10.0</td>\n",
              "      <td>0.0</td>\n",
              "      <td>0.0</td>\n",
              "      <td>1.0</td>\n",
              "      <td>2.0</td>\n",
              "      <td>2.0</td>\n",
              "      <td>2.0</td>\n",
              "      <td>1.0</td>\n",
              "      <td>1.0</td>\n",
              "      <td>1.0</td>\n",
              "      <td>0.0</td>\n",
              "      <td>0.0</td>\n",
              "      <td>0.0</td>\n",
              "      <td>0.0</td>\n",
              "      <td>0.0</td>\n",
              "    </tr>\n",
              "  </tbody>\n",
              "</table>\n",
              "<p>5 rows × 175 columns</p>\n",
              "</div>"
            ],
            "text/plain": [
              "   YEAR  SAMPLE  SERIAL       CBSERIAL  ...  CARPOOL  RIDERS  TRANTIME  DEPARTS\n",
              "0  2019  201901       5  2019010000205  ...      0.0     0.0       0.0      0.0\n",
              "1  2019  201901      25  2019010001133  ...      0.0     0.0       0.0      0.0\n",
              "2  2019  201901      45  2019010002777  ...      0.0     0.0       0.0      0.0\n",
              "3  2019  201901      65  2019010004483  ...      0.0     0.0       0.0      0.0\n",
              "4  2019  201901      86  2019010005917  ...      0.0     0.0       0.0      0.0\n",
              "\n",
              "[5 rows x 175 columns]"
            ]
          },
          "metadata": {
            "tags": []
          },
          "execution_count": 5
        }
      ]
    },
    {
      "cell_type": "markdown",
      "metadata": {
        "id": "AIn-4o9XnfK2"
      },
      "source": [
        "Here are parts of the codebook that I'll use for this analysis.\n",
        "\n",
        "```\n",
        "# This is formatted as code\n",
        "CINETHH\t\tAccess to internet\n",
        "0\t\tN/A (GQ)\n",
        "1\t\tYes, with a subscription to an Internet Service\n",
        "2\t\tYes, without a subscription to an Internet Service\n",
        "3\t\tNo Internet access at this house, apartment, or mobile home\n",
        "```\n",
        "\n",
        "```\n",
        "# This is formatted as code\n",
        "CISMRTPHN\t\tSmartphone\n",
        "0\t\tN/A (GQ)\n",
        "1\t\tYes\n",
        "2\t\tNo\n",
        "```\n",
        "\n",
        "```\n",
        "# This is formatted as code\n",
        "RACE\t\tRace [general version]\n",
        "1\t\tWhite\n",
        "2\t\tBlack/African American/Negro\n",
        "3\t\tAmerican Indian or Alaska Native\n",
        "4\t\tChinese\n",
        "5\t\tJapanese\n",
        "6\t\tOther Asian or Pacific Islander\n",
        "7\t\tOther race, nec\n",
        "8\t\tTwo major races\n",
        "9\t\tThree or more major races\n",
        "```\n",
        "\n",
        "```\n",
        "# This is formatted as code\n",
        "EDUC\t\tEducational attainment [general version]\n",
        "00\t\tN/A or no schooling\n",
        "01\t\tNursery school to grade 4\n",
        "02\t\tGrade 5, 6, 7, or 8\n",
        "03\t\tGrade 9\n",
        "04\t\tGrade 10\n",
        "05\t\tGrade 11\n",
        "06\t\tGrade 12\n",
        "07\t\t1 year of college\n",
        "08\t\t2 years of college\n",
        "09\t\t3 years of college\n",
        "10\t\t4 years of college\n",
        "11\t\t5+ years of college\n",
        "```\n",
        "\n",
        "\n",
        "\n",
        "\n"
      ]
    },
    {
      "cell_type": "markdown",
      "metadata": {
        "id": "SztSgnoQ36F_"
      },
      "source": [
        "Using the national sample that IPUMS represents--and aware of its limitations--I want to investigate how race and class related to technology use. I have two variables that measure technology use in the dataset: internet access and smartphone use. I am using an educational attainment variable, recoded, as the proxy for social class. I am mindful of the problematic way that the US Census measures race, but I'll begin there."
      ]
    },
    {
      "cell_type": "code",
      "metadata": {
        "id": "FmrHwNudXfcA",
        "colab": {
          "base_uri": "https://localhost:8080/",
          "height": 266
        },
        "outputId": "f1f3276a-218c-40d1-9c33-d65a6b320a82"
      },
      "source": [
        "# Code block 3: Analysis\n",
        "crosstab, sigtab = rp.crosstab(IPUMS_df.CINETHH, IPUMS_df.EDUC, prop='col', test='chi-square')\n",
        "crosstab"
      ],
      "execution_count": null,
      "outputs": [
        {
          "output_type": "execute_result",
          "data": {
            "text/html": [
              "<div>\n",
              "<style scoped>\n",
              "    .dataframe tbody tr th:only-of-type {\n",
              "        vertical-align: middle;\n",
              "    }\n",
              "\n",
              "    .dataframe tbody tr th {\n",
              "        vertical-align: top;\n",
              "    }\n",
              "\n",
              "    .dataframe thead tr th {\n",
              "        text-align: left;\n",
              "    }\n",
              "\n",
              "    .dataframe thead tr:last-of-type th {\n",
              "        text-align: right;\n",
              "    }\n",
              "</style>\n",
              "<table border=\"1\" class=\"dataframe\">\n",
              "  <thead>\n",
              "    <tr>\n",
              "      <th></th>\n",
              "      <th colspan=\"12\" halign=\"left\">EDUC</th>\n",
              "    </tr>\n",
              "    <tr>\n",
              "      <th>EDUC</th>\n",
              "      <th>0</th>\n",
              "      <th>1</th>\n",
              "      <th>2</th>\n",
              "      <th>3</th>\n",
              "      <th>4</th>\n",
              "      <th>5</th>\n",
              "      <th>6</th>\n",
              "      <th>7</th>\n",
              "      <th>8</th>\n",
              "      <th>10</th>\n",
              "      <th>11</th>\n",
              "      <th>All</th>\n",
              "    </tr>\n",
              "    <tr>\n",
              "      <th>CINETHH</th>\n",
              "      <th></th>\n",
              "      <th></th>\n",
              "      <th></th>\n",
              "      <th></th>\n",
              "      <th></th>\n",
              "      <th></th>\n",
              "      <th></th>\n",
              "      <th></th>\n",
              "      <th></th>\n",
              "      <th></th>\n",
              "      <th></th>\n",
              "      <th></th>\n",
              "    </tr>\n",
              "  </thead>\n",
              "  <tbody>\n",
              "    <tr>\n",
              "      <th>0</th>\n",
              "      <td>5.38</td>\n",
              "      <td>2.21</td>\n",
              "      <td>7.14</td>\n",
              "      <td>13.16</td>\n",
              "      <td>17.92</td>\n",
              "      <td>16.85</td>\n",
              "      <td>13.91</td>\n",
              "      <td>17.23</td>\n",
              "      <td>6.58</td>\n",
              "      <td>3.97</td>\n",
              "      <td>3.00</td>\n",
              "      <td>9.96</td>\n",
              "    </tr>\n",
              "    <tr>\n",
              "      <th>1</th>\n",
              "      <td>84.50</td>\n",
              "      <td>90.53</td>\n",
              "      <td>81.20</td>\n",
              "      <td>73.68</td>\n",
              "      <td>68.40</td>\n",
              "      <td>70.65</td>\n",
              "      <td>73.56</td>\n",
              "      <td>74.16</td>\n",
              "      <td>86.98</td>\n",
              "      <td>92.55</td>\n",
              "      <td>94.31</td>\n",
              "      <td>80.98</td>\n",
              "    </tr>\n",
              "    <tr>\n",
              "      <th>2</th>\n",
              "      <td>2.12</td>\n",
              "      <td>0.86</td>\n",
              "      <td>2.38</td>\n",
              "      <td>2.96</td>\n",
              "      <td>2.61</td>\n",
              "      <td>1.09</td>\n",
              "      <td>2.02</td>\n",
              "      <td>2.56</td>\n",
              "      <td>1.74</td>\n",
              "      <td>1.04</td>\n",
              "      <td>1.03</td>\n",
              "      <td>1.82</td>\n",
              "    </tr>\n",
              "    <tr>\n",
              "      <th>3</th>\n",
              "      <td>8.00</td>\n",
              "      <td>6.40</td>\n",
              "      <td>9.27</td>\n",
              "      <td>10.20</td>\n",
              "      <td>11.07</td>\n",
              "      <td>11.41</td>\n",
              "      <td>10.50</td>\n",
              "      <td>6.05</td>\n",
              "      <td>4.70</td>\n",
              "      <td>2.44</td>\n",
              "      <td>1.65</td>\n",
              "      <td>7.24</td>\n",
              "    </tr>\n",
              "    <tr>\n",
              "      <th>All</th>\n",
              "      <td>100.00</td>\n",
              "      <td>100.00</td>\n",
              "      <td>100.00</td>\n",
              "      <td>100.00</td>\n",
              "      <td>100.00</td>\n",
              "      <td>100.00</td>\n",
              "      <td>100.00</td>\n",
              "      <td>100.00</td>\n",
              "      <td>100.00</td>\n",
              "      <td>100.00</td>\n",
              "      <td>100.00</td>\n",
              "      <td>100.00</td>\n",
              "    </tr>\n",
              "  </tbody>\n",
              "</table>\n",
              "</div>"
            ],
            "text/plain": [
              "           EDUC                          ...                                \n",
              "EDUC          0       1       2       3  ...       8      10      11     All\n",
              "CINETHH                                  ...                                \n",
              "0          5.38    2.21    7.14   13.16  ...    6.58    3.97    3.00    9.96\n",
              "1         84.50   90.53   81.20   73.68  ...   86.98   92.55   94.31   80.98\n",
              "2          2.12    0.86    2.38    2.96  ...    1.74    1.04    1.03    1.82\n",
              "3          8.00    6.40    9.27   10.20  ...    4.70    2.44    1.65    7.24\n",
              "All      100.00  100.00  100.00  100.00  ...  100.00  100.00  100.00  100.00\n",
              "\n",
              "[5 rows x 12 columns]"
            ]
          },
          "metadata": {
            "tags": []
          },
          "execution_count": 6
        }
      ]
    },
    {
      "cell_type": "code",
      "metadata": {
        "id": "_r3orXAFX2be",
        "colab": {
          "base_uri": "https://localhost:8080/",
          "height": 142
        },
        "outputId": "03d9c82c-4251-4166-ed0b-3c8d84c24a17"
      },
      "source": [
        "sigtab"
      ],
      "execution_count": null,
      "outputs": [
        {
          "output_type": "execute_result",
          "data": {
            "text/html": [
              "<div>\n",
              "<style scoped>\n",
              "    .dataframe tbody tr th:only-of-type {\n",
              "        vertical-align: middle;\n",
              "    }\n",
              "\n",
              "    .dataframe tbody tr th {\n",
              "        vertical-align: top;\n",
              "    }\n",
              "\n",
              "    .dataframe thead th {\n",
              "        text-align: right;\n",
              "    }\n",
              "</style>\n",
              "<table border=\"1\" class=\"dataframe\">\n",
              "  <thead>\n",
              "    <tr style=\"text-align: right;\">\n",
              "      <th></th>\n",
              "      <th>Chi-square test</th>\n",
              "      <th>results</th>\n",
              "    </tr>\n",
              "  </thead>\n",
              "  <tbody>\n",
              "    <tr>\n",
              "      <th>0</th>\n",
              "      <td>Pearson Chi-square ( 30.0) =</td>\n",
              "      <td>677.9369</td>\n",
              "    </tr>\n",
              "    <tr>\n",
              "      <th>1</th>\n",
              "      <td>p-value =</td>\n",
              "      <td>0.0000</td>\n",
              "    </tr>\n",
              "    <tr>\n",
              "      <th>2</th>\n",
              "      <td>Cramer's V =</td>\n",
              "      <td>0.1380</td>\n",
              "    </tr>\n",
              "  </tbody>\n",
              "</table>\n",
              "</div>"
            ],
            "text/plain": [
              "                 Chi-square test   results\n",
              "0  Pearson Chi-square ( 30.0) =   677.9369\n",
              "1                     p-value =     0.0000\n",
              "2                  Cramer's V =     0.1380"
            ]
          },
          "metadata": {
            "tags": []
          },
          "execution_count": 7
        }
      ]
    },
    {
      "cell_type": "code",
      "metadata": {
        "id": "AsT44p2MnLxd",
        "colab": {
          "base_uri": "https://localhost:8080/",
          "height": 266
        },
        "outputId": "626deb24-fa4f-4971-8a59-085d207f6a4e"
      },
      "source": [
        "crosstab, sigtab = rp.crosstab(IPUMS_df.CINETHH, IPUMS_df.RACE, prop='col', test='chi-square')\n",
        "crosstab"
      ],
      "execution_count": null,
      "outputs": [
        {
          "output_type": "execute_result",
          "data": {
            "text/html": [
              "<div>\n",
              "<style scoped>\n",
              "    .dataframe tbody tr th:only-of-type {\n",
              "        vertical-align: middle;\n",
              "    }\n",
              "\n",
              "    .dataframe tbody tr th {\n",
              "        vertical-align: top;\n",
              "    }\n",
              "\n",
              "    .dataframe thead tr th {\n",
              "        text-align: left;\n",
              "    }\n",
              "\n",
              "    .dataframe thead tr:last-of-type th {\n",
              "        text-align: right;\n",
              "    }\n",
              "</style>\n",
              "<table border=\"1\" class=\"dataframe\">\n",
              "  <thead>\n",
              "    <tr>\n",
              "      <th></th>\n",
              "      <th colspan=\"10\" halign=\"left\">RACE</th>\n",
              "    </tr>\n",
              "    <tr>\n",
              "      <th>RACE</th>\n",
              "      <th>1</th>\n",
              "      <th>2</th>\n",
              "      <th>3</th>\n",
              "      <th>4</th>\n",
              "      <th>5</th>\n",
              "      <th>6</th>\n",
              "      <th>7</th>\n",
              "      <th>8</th>\n",
              "      <th>9</th>\n",
              "      <th>All</th>\n",
              "    </tr>\n",
              "    <tr>\n",
              "      <th>CINETHH</th>\n",
              "      <th></th>\n",
              "      <th></th>\n",
              "      <th></th>\n",
              "      <th></th>\n",
              "      <th></th>\n",
              "      <th></th>\n",
              "      <th></th>\n",
              "      <th></th>\n",
              "      <th></th>\n",
              "      <th></th>\n",
              "    </tr>\n",
              "  </thead>\n",
              "  <tbody>\n",
              "    <tr>\n",
              "      <th>0</th>\n",
              "      <td>7.91</td>\n",
              "      <td>18.34</td>\n",
              "      <td>8.15</td>\n",
              "      <td>12.72</td>\n",
              "      <td>22.86</td>\n",
              "      <td>14.37</td>\n",
              "      <td>16.32</td>\n",
              "      <td>12.40</td>\n",
              "      <td>21.05</td>\n",
              "      <td>9.96</td>\n",
              "    </tr>\n",
              "    <tr>\n",
              "      <th>1</th>\n",
              "      <td>83.55</td>\n",
              "      <td>66.98</td>\n",
              "      <td>70.79</td>\n",
              "      <td>83.77</td>\n",
              "      <td>74.29</td>\n",
              "      <td>82.09</td>\n",
              "      <td>75.11</td>\n",
              "      <td>80.88</td>\n",
              "      <td>76.32</td>\n",
              "      <td>80.98</td>\n",
              "    </tr>\n",
              "    <tr>\n",
              "      <th>2</th>\n",
              "      <td>1.87</td>\n",
              "      <td>2.26</td>\n",
              "      <td>2.25</td>\n",
              "      <td>1.32</td>\n",
              "      <td>0.00</td>\n",
              "      <td>0.98</td>\n",
              "      <td>1.27</td>\n",
              "      <td>1.81</td>\n",
              "      <td>0.00</td>\n",
              "      <td>1.82</td>\n",
              "    </tr>\n",
              "    <tr>\n",
              "      <th>3</th>\n",
              "      <td>6.66</td>\n",
              "      <td>12.42</td>\n",
              "      <td>18.82</td>\n",
              "      <td>2.19</td>\n",
              "      <td>2.86</td>\n",
              "      <td>2.56</td>\n",
              "      <td>7.31</td>\n",
              "      <td>4.91</td>\n",
              "      <td>2.63</td>\n",
              "      <td>7.24</td>\n",
              "    </tr>\n",
              "    <tr>\n",
              "      <th>All</th>\n",
              "      <td>100.00</td>\n",
              "      <td>100.00</td>\n",
              "      <td>100.00</td>\n",
              "      <td>100.00</td>\n",
              "      <td>100.00</td>\n",
              "      <td>100.00</td>\n",
              "      <td>100.00</td>\n",
              "      <td>100.00</td>\n",
              "      <td>100.00</td>\n",
              "      <td>100.00</td>\n",
              "    </tr>\n",
              "  </tbody>\n",
              "</table>\n",
              "</div>"
            ],
            "text/plain": [
              "           RACE                          ...                                \n",
              "RACE          1       2       3       4  ...       7       8       9     All\n",
              "CINETHH                                  ...                                \n",
              "0          7.91   18.34    8.15   12.72  ...   16.32   12.40   21.05    9.96\n",
              "1         83.55   66.98   70.79   83.77  ...   75.11   80.88   76.32   80.98\n",
              "2          1.87    2.26    2.25    1.32  ...    1.27    1.81    0.00    1.82\n",
              "3          6.66   12.42   18.82    2.19  ...    7.31    4.91    2.63    7.24\n",
              "All      100.00  100.00  100.00  100.00  ...  100.00  100.00  100.00  100.00\n",
              "\n",
              "[5 rows x 10 columns]"
            ]
          },
          "metadata": {
            "tags": []
          },
          "execution_count": 8
        }
      ]
    },
    {
      "cell_type": "code",
      "metadata": {
        "id": "zycNM27JpDCv",
        "colab": {
          "base_uri": "https://localhost:8080/",
          "height": 142
        },
        "outputId": "343680d4-e75f-4815-fdfa-94a5e9198962"
      },
      "source": [
        "sigtab"
      ],
      "execution_count": null,
      "outputs": [
        {
          "output_type": "execute_result",
          "data": {
            "text/html": [
              "<div>\n",
              "<style scoped>\n",
              "    .dataframe tbody tr th:only-of-type {\n",
              "        vertical-align: middle;\n",
              "    }\n",
              "\n",
              "    .dataframe tbody tr th {\n",
              "        vertical-align: top;\n",
              "    }\n",
              "\n",
              "    .dataframe thead th {\n",
              "        text-align: right;\n",
              "    }\n",
              "</style>\n",
              "<table border=\"1\" class=\"dataframe\">\n",
              "  <thead>\n",
              "    <tr style=\"text-align: right;\">\n",
              "      <th></th>\n",
              "      <th>Chi-square test</th>\n",
              "      <th>results</th>\n",
              "    </tr>\n",
              "  </thead>\n",
              "  <tbody>\n",
              "    <tr>\n",
              "      <th>0</th>\n",
              "      <td>Pearson Chi-square ( 24.0) =</td>\n",
              "      <td>350.4059</td>\n",
              "    </tr>\n",
              "    <tr>\n",
              "      <th>1</th>\n",
              "      <td>p-value =</td>\n",
              "      <td>0.0000</td>\n",
              "    </tr>\n",
              "    <tr>\n",
              "      <th>2</th>\n",
              "      <td>Cramer's V =</td>\n",
              "      <td>0.0992</td>\n",
              "    </tr>\n",
              "  </tbody>\n",
              "</table>\n",
              "</div>"
            ],
            "text/plain": [
              "                 Chi-square test   results\n",
              "0  Pearson Chi-square ( 24.0) =   350.4059\n",
              "1                     p-value =     0.0000\n",
              "2                  Cramer's V =     0.0992"
            ]
          },
          "metadata": {
            "tags": []
          },
          "execution_count": 9
        }
      ]
    },
    {
      "cell_type": "code",
      "metadata": {
        "colab": {
          "base_uri": "https://localhost:8080/",
          "height": 266
        },
        "id": "m3ufVKSa5TMQ",
        "outputId": "e9e121fe-1e7e-4261-a90c-91d37848ec09"
      },
      "source": [
        "crosstab, sigtab = rp.crosstab(IPUMS_df.CINETHH, IPUMS_df.HISPAN, prop='col', test='chi-square')\n",
        "crosstab"
      ],
      "execution_count": null,
      "outputs": [
        {
          "output_type": "execute_result",
          "data": {
            "text/html": [
              "<div>\n",
              "<style scoped>\n",
              "    .dataframe tbody tr th:only-of-type {\n",
              "        vertical-align: middle;\n",
              "    }\n",
              "\n",
              "    .dataframe tbody tr th {\n",
              "        vertical-align: top;\n",
              "    }\n",
              "\n",
              "    .dataframe thead tr th {\n",
              "        text-align: left;\n",
              "    }\n",
              "\n",
              "    .dataframe thead tr:last-of-type th {\n",
              "        text-align: right;\n",
              "    }\n",
              "</style>\n",
              "<table border=\"1\" class=\"dataframe\">\n",
              "  <thead>\n",
              "    <tr>\n",
              "      <th></th>\n",
              "      <th colspan=\"6\" halign=\"left\">HISPAN</th>\n",
              "    </tr>\n",
              "    <tr>\n",
              "      <th>HISPAN</th>\n",
              "      <th>0</th>\n",
              "      <th>1</th>\n",
              "      <th>2</th>\n",
              "      <th>3</th>\n",
              "      <th>4</th>\n",
              "      <th>All</th>\n",
              "    </tr>\n",
              "    <tr>\n",
              "      <th>CINETHH</th>\n",
              "      <th></th>\n",
              "      <th></th>\n",
              "      <th></th>\n",
              "      <th></th>\n",
              "      <th></th>\n",
              "      <th></th>\n",
              "    </tr>\n",
              "  </thead>\n",
              "  <tbody>\n",
              "    <tr>\n",
              "      <th>0</th>\n",
              "      <td>9.18</td>\n",
              "      <td>11.96</td>\n",
              "      <td>14.06</td>\n",
              "      <td>8.70</td>\n",
              "      <td>18.11</td>\n",
              "      <td>9.96</td>\n",
              "    </tr>\n",
              "    <tr>\n",
              "      <th>1</th>\n",
              "      <td>81.91</td>\n",
              "      <td>77.77</td>\n",
              "      <td>73.44</td>\n",
              "      <td>82.61</td>\n",
              "      <td>76.22</td>\n",
              "      <td>80.98</td>\n",
              "    </tr>\n",
              "    <tr>\n",
              "      <th>2</th>\n",
              "      <td>1.81</td>\n",
              "      <td>1.98</td>\n",
              "      <td>1.56</td>\n",
              "      <td>0.00</td>\n",
              "      <td>1.35</td>\n",
              "      <td>1.82</td>\n",
              "    </tr>\n",
              "    <tr>\n",
              "      <th>3</th>\n",
              "      <td>7.09</td>\n",
              "      <td>8.30</td>\n",
              "      <td>10.94</td>\n",
              "      <td>8.70</td>\n",
              "      <td>4.32</td>\n",
              "      <td>7.24</td>\n",
              "    </tr>\n",
              "    <tr>\n",
              "      <th>All</th>\n",
              "      <td>100.00</td>\n",
              "      <td>100.00</td>\n",
              "      <td>100.00</td>\n",
              "      <td>100.00</td>\n",
              "      <td>100.00</td>\n",
              "      <td>100.00</td>\n",
              "    </tr>\n",
              "  </tbody>\n",
              "</table>\n",
              "</div>"
            ],
            "text/plain": [
              "         HISPAN                                        \n",
              "HISPAN        0       1       2       3       4     All\n",
              "CINETHH                                                \n",
              "0          9.18   11.96   14.06    8.70   18.11    9.96\n",
              "1         81.91   77.77   73.44   82.61   76.22   80.98\n",
              "2          1.81    1.98    1.56    0.00    1.35    1.82\n",
              "3          7.09    8.30   10.94    8.70    4.32    7.24\n",
              "All      100.00  100.00  100.00  100.00  100.00  100.00"
            ]
          },
          "metadata": {
            "tags": []
          },
          "execution_count": 10
        }
      ]
    },
    {
      "cell_type": "code",
      "metadata": {
        "id": "THCpHOAl5YQu",
        "colab": {
          "base_uri": "https://localhost:8080/",
          "height": 142
        },
        "outputId": "7126ea6f-fd32-4170-f230-69ab7845a613"
      },
      "source": [
        "sigtab"
      ],
      "execution_count": null,
      "outputs": [
        {
          "output_type": "execute_result",
          "data": {
            "text/html": [
              "<div>\n",
              "<style scoped>\n",
              "    .dataframe tbody tr th:only-of-type {\n",
              "        vertical-align: middle;\n",
              "    }\n",
              "\n",
              "    .dataframe tbody tr th {\n",
              "        vertical-align: top;\n",
              "    }\n",
              "\n",
              "    .dataframe thead th {\n",
              "        text-align: right;\n",
              "    }\n",
              "</style>\n",
              "<table border=\"1\" class=\"dataframe\">\n",
              "  <thead>\n",
              "    <tr style=\"text-align: right;\">\n",
              "      <th></th>\n",
              "      <th>Chi-square test</th>\n",
              "      <th>results</th>\n",
              "    </tr>\n",
              "  </thead>\n",
              "  <tbody>\n",
              "    <tr>\n",
              "      <th>0</th>\n",
              "      <td>Pearson Chi-square ( 12.0) =</td>\n",
              "      <td>54.8581</td>\n",
              "    </tr>\n",
              "    <tr>\n",
              "      <th>1</th>\n",
              "      <td>p-value =</td>\n",
              "      <td>0.0000</td>\n",
              "    </tr>\n",
              "    <tr>\n",
              "      <th>2</th>\n",
              "      <td>Cramer's V =</td>\n",
              "      <td>0.0393</td>\n",
              "    </tr>\n",
              "  </tbody>\n",
              "</table>\n",
              "</div>"
            ],
            "text/plain": [
              "                 Chi-square test  results\n",
              "0  Pearson Chi-square ( 12.0) =   54.8581\n",
              "1                     p-value =    0.0000\n",
              "2                  Cramer's V =    0.0393"
            ]
          },
          "metadata": {
            "tags": []
          },
          "execution_count": 11
        }
      ]
    },
    {
      "cell_type": "code",
      "metadata": {
        "id": "yRzukfNxpiRK",
        "colab": {
          "base_uri": "https://localhost:8080/",
          "height": 235
        },
        "outputId": "8f4ce437-336d-4782-baa3-793aa6baad9f"
      },
      "source": [
        "crosstab, sigtab = rp.crosstab(IPUMS_df.CISMRTPHN, IPUMS_df.EDUC, prop='col', test='chi-square')\n",
        "crosstab"
      ],
      "execution_count": null,
      "outputs": [
        {
          "output_type": "execute_result",
          "data": {
            "text/html": [
              "<div>\n",
              "<style scoped>\n",
              "    .dataframe tbody tr th:only-of-type {\n",
              "        vertical-align: middle;\n",
              "    }\n",
              "\n",
              "    .dataframe tbody tr th {\n",
              "        vertical-align: top;\n",
              "    }\n",
              "\n",
              "    .dataframe thead tr th {\n",
              "        text-align: left;\n",
              "    }\n",
              "\n",
              "    .dataframe thead tr:last-of-type th {\n",
              "        text-align: right;\n",
              "    }\n",
              "</style>\n",
              "<table border=\"1\" class=\"dataframe\">\n",
              "  <thead>\n",
              "    <tr>\n",
              "      <th></th>\n",
              "      <th colspan=\"12\" halign=\"left\">EDUC</th>\n",
              "    </tr>\n",
              "    <tr>\n",
              "      <th>EDUC</th>\n",
              "      <th>0</th>\n",
              "      <th>1</th>\n",
              "      <th>2</th>\n",
              "      <th>3</th>\n",
              "      <th>4</th>\n",
              "      <th>5</th>\n",
              "      <th>6</th>\n",
              "      <th>7</th>\n",
              "      <th>8</th>\n",
              "      <th>10</th>\n",
              "      <th>11</th>\n",
              "      <th>All</th>\n",
              "    </tr>\n",
              "    <tr>\n",
              "      <th>CISMRTPHN</th>\n",
              "      <th></th>\n",
              "      <th></th>\n",
              "      <th></th>\n",
              "      <th></th>\n",
              "      <th></th>\n",
              "      <th></th>\n",
              "      <th></th>\n",
              "      <th></th>\n",
              "      <th></th>\n",
              "      <th></th>\n",
              "      <th></th>\n",
              "      <th></th>\n",
              "    </tr>\n",
              "  </thead>\n",
              "  <tbody>\n",
              "    <tr>\n",
              "      <th>0</th>\n",
              "      <td>5.38</td>\n",
              "      <td>2.21</td>\n",
              "      <td>7.14</td>\n",
              "      <td>13.16</td>\n",
              "      <td>17.92</td>\n",
              "      <td>16.85</td>\n",
              "      <td>13.91</td>\n",
              "      <td>17.23</td>\n",
              "      <td>6.58</td>\n",
              "      <td>3.97</td>\n",
              "      <td>3.00</td>\n",
              "      <td>9.96</td>\n",
              "    </tr>\n",
              "    <tr>\n",
              "      <th>1</th>\n",
              "      <td>87.75</td>\n",
              "      <td>93.60</td>\n",
              "      <td>86.84</td>\n",
              "      <td>76.64</td>\n",
              "      <td>70.03</td>\n",
              "      <td>73.91</td>\n",
              "      <td>73.42</td>\n",
              "      <td>75.15</td>\n",
              "      <td>87.11</td>\n",
              "      <td>91.33</td>\n",
              "      <td>92.24</td>\n",
              "      <td>81.77</td>\n",
              "    </tr>\n",
              "    <tr>\n",
              "      <th>2</th>\n",
              "      <td>6.88</td>\n",
              "      <td>4.18</td>\n",
              "      <td>6.02</td>\n",
              "      <td>10.20</td>\n",
              "      <td>12.05</td>\n",
              "      <td>9.24</td>\n",
              "      <td>12.67</td>\n",
              "      <td>7.63</td>\n",
              "      <td>6.31</td>\n",
              "      <td>4.70</td>\n",
              "      <td>4.76</td>\n",
              "      <td>8.27</td>\n",
              "    </tr>\n",
              "    <tr>\n",
              "      <th>All</th>\n",
              "      <td>100.00</td>\n",
              "      <td>100.00</td>\n",
              "      <td>100.00</td>\n",
              "      <td>100.00</td>\n",
              "      <td>100.00</td>\n",
              "      <td>100.00</td>\n",
              "      <td>100.00</td>\n",
              "      <td>100.00</td>\n",
              "      <td>100.00</td>\n",
              "      <td>100.00</td>\n",
              "      <td>100.00</td>\n",
              "      <td>100.00</td>\n",
              "    </tr>\n",
              "  </tbody>\n",
              "</table>\n",
              "</div>"
            ],
            "text/plain": [
              "             EDUC                          ...                                \n",
              "EDUC            0       1       2       3  ...       8      10      11     All\n",
              "CISMRTPHN                                  ...                                \n",
              "0            5.38    2.21    7.14   13.16  ...    6.58    3.97    3.00    9.96\n",
              "1           87.75   93.60   86.84   76.64  ...   87.11   91.33   92.24   81.77\n",
              "2            6.88    4.18    6.02   10.20  ...    6.31    4.70    4.76    8.27\n",
              "All        100.00  100.00  100.00  100.00  ...  100.00  100.00  100.00  100.00\n",
              "\n",
              "[4 rows x 12 columns]"
            ]
          },
          "metadata": {
            "tags": []
          },
          "execution_count": 12
        }
      ]
    },
    {
      "cell_type": "code",
      "metadata": {
        "id": "qh9PE0TGrQhS",
        "colab": {
          "base_uri": "https://localhost:8080/",
          "height": 142
        },
        "outputId": "724fc164-e0c5-4e7e-da2d-a81765562dc8"
      },
      "source": [
        "sigtab"
      ],
      "execution_count": null,
      "outputs": [
        {
          "output_type": "execute_result",
          "data": {
            "text/html": [
              "<div>\n",
              "<style scoped>\n",
              "    .dataframe tbody tr th:only-of-type {\n",
              "        vertical-align: middle;\n",
              "    }\n",
              "\n",
              "    .dataframe tbody tr th {\n",
              "        vertical-align: top;\n",
              "    }\n",
              "\n",
              "    .dataframe thead th {\n",
              "        text-align: right;\n",
              "    }\n",
              "</style>\n",
              "<table border=\"1\" class=\"dataframe\">\n",
              "  <thead>\n",
              "    <tr style=\"text-align: right;\">\n",
              "      <th></th>\n",
              "      <th>Chi-square test</th>\n",
              "      <th>results</th>\n",
              "    </tr>\n",
              "  </thead>\n",
              "  <tbody>\n",
              "    <tr>\n",
              "      <th>0</th>\n",
              "      <td>Pearson Chi-square ( 20.0) =</td>\n",
              "      <td>624.2106</td>\n",
              "    </tr>\n",
              "    <tr>\n",
              "      <th>1</th>\n",
              "      <td>p-value =</td>\n",
              "      <td>0.0000</td>\n",
              "    </tr>\n",
              "    <tr>\n",
              "      <th>2</th>\n",
              "      <td>Cramer's V =</td>\n",
              "      <td>0.1622</td>\n",
              "    </tr>\n",
              "  </tbody>\n",
              "</table>\n",
              "</div>"
            ],
            "text/plain": [
              "                 Chi-square test   results\n",
              "0  Pearson Chi-square ( 20.0) =   624.2106\n",
              "1                     p-value =     0.0000\n",
              "2                  Cramer's V =     0.1622"
            ]
          },
          "metadata": {
            "tags": []
          },
          "execution_count": 13
        }
      ]
    },
    {
      "cell_type": "code",
      "metadata": {
        "id": "wLFn7I0drVKn",
        "colab": {
          "base_uri": "https://localhost:8080/",
          "height": 235
        },
        "outputId": "82601210-adcf-42c4-c7b5-b0247d4a716a"
      },
      "source": [
        "crosstab, sigtab = rp.crosstab(IPUMS_df.CISMRTPHN, IPUMS_df.RACE, prop='col', test='chi-square')\n",
        "crosstab"
      ],
      "execution_count": null,
      "outputs": [
        {
          "output_type": "execute_result",
          "data": {
            "text/html": [
              "<div>\n",
              "<style scoped>\n",
              "    .dataframe tbody tr th:only-of-type {\n",
              "        vertical-align: middle;\n",
              "    }\n",
              "\n",
              "    .dataframe tbody tr th {\n",
              "        vertical-align: top;\n",
              "    }\n",
              "\n",
              "    .dataframe thead tr th {\n",
              "        text-align: left;\n",
              "    }\n",
              "\n",
              "    .dataframe thead tr:last-of-type th {\n",
              "        text-align: right;\n",
              "    }\n",
              "</style>\n",
              "<table border=\"1\" class=\"dataframe\">\n",
              "  <thead>\n",
              "    <tr>\n",
              "      <th></th>\n",
              "      <th colspan=\"10\" halign=\"left\">RACE</th>\n",
              "    </tr>\n",
              "    <tr>\n",
              "      <th>RACE</th>\n",
              "      <th>1</th>\n",
              "      <th>2</th>\n",
              "      <th>3</th>\n",
              "      <th>4</th>\n",
              "      <th>5</th>\n",
              "      <th>6</th>\n",
              "      <th>7</th>\n",
              "      <th>8</th>\n",
              "      <th>9</th>\n",
              "      <th>All</th>\n",
              "    </tr>\n",
              "    <tr>\n",
              "      <th>CISMRTPHN</th>\n",
              "      <th></th>\n",
              "      <th></th>\n",
              "      <th></th>\n",
              "      <th></th>\n",
              "      <th></th>\n",
              "      <th></th>\n",
              "      <th></th>\n",
              "      <th></th>\n",
              "      <th></th>\n",
              "      <th></th>\n",
              "    </tr>\n",
              "  </thead>\n",
              "  <tbody>\n",
              "    <tr>\n",
              "      <th>0</th>\n",
              "      <td>7.91</td>\n",
              "      <td>18.34</td>\n",
              "      <td>8.15</td>\n",
              "      <td>12.72</td>\n",
              "      <td>22.86</td>\n",
              "      <td>14.37</td>\n",
              "      <td>16.32</td>\n",
              "      <td>12.40</td>\n",
              "      <td>21.05</td>\n",
              "      <td>9.96</td>\n",
              "    </tr>\n",
              "    <tr>\n",
              "      <th>1</th>\n",
              "      <td>84.02</td>\n",
              "      <td>70.46</td>\n",
              "      <td>69.38</td>\n",
              "      <td>85.09</td>\n",
              "      <td>74.29</td>\n",
              "      <td>81.30</td>\n",
              "      <td>77.07</td>\n",
              "      <td>82.69</td>\n",
              "      <td>78.95</td>\n",
              "      <td>81.77</td>\n",
              "    </tr>\n",
              "    <tr>\n",
              "      <th>2</th>\n",
              "      <td>8.07</td>\n",
              "      <td>11.19</td>\n",
              "      <td>22.47</td>\n",
              "      <td>2.19</td>\n",
              "      <td>2.86</td>\n",
              "      <td>4.33</td>\n",
              "      <td>6.61</td>\n",
              "      <td>4.91</td>\n",
              "      <td>0.00</td>\n",
              "      <td>8.27</td>\n",
              "    </tr>\n",
              "    <tr>\n",
              "      <th>All</th>\n",
              "      <td>100.00</td>\n",
              "      <td>100.00</td>\n",
              "      <td>100.00</td>\n",
              "      <td>100.00</td>\n",
              "      <td>100.00</td>\n",
              "      <td>100.00</td>\n",
              "      <td>100.00</td>\n",
              "      <td>100.00</td>\n",
              "      <td>100.00</td>\n",
              "      <td>100.00</td>\n",
              "    </tr>\n",
              "  </tbody>\n",
              "</table>\n",
              "</div>"
            ],
            "text/plain": [
              "             RACE                          ...                                \n",
              "RACE            1       2       3       4  ...       7       8       9     All\n",
              "CISMRTPHN                                  ...                                \n",
              "0            7.91   18.34    8.15   12.72  ...   16.32   12.40   21.05    9.96\n",
              "1           84.02   70.46   69.38   85.09  ...   77.07   82.69   78.95   81.77\n",
              "2            8.07   11.19   22.47    2.19  ...    6.61    4.91    0.00    8.27\n",
              "All        100.00  100.00  100.00  100.00  ...  100.00  100.00  100.00  100.00\n",
              "\n",
              "[4 rows x 10 columns]"
            ]
          },
          "metadata": {
            "tags": []
          },
          "execution_count": 14
        }
      ]
    },
    {
      "cell_type": "code",
      "metadata": {
        "id": "n3E-RDwBrqNA",
        "colab": {
          "base_uri": "https://localhost:8080/",
          "height": 142
        },
        "outputId": "95062758-6d97-4a5f-a4bb-893765dde781"
      },
      "source": [
        "sigtab"
      ],
      "execution_count": null,
      "outputs": [
        {
          "output_type": "execute_result",
          "data": {
            "text/html": [
              "<div>\n",
              "<style scoped>\n",
              "    .dataframe tbody tr th:only-of-type {\n",
              "        vertical-align: middle;\n",
              "    }\n",
              "\n",
              "    .dataframe tbody tr th {\n",
              "        vertical-align: top;\n",
              "    }\n",
              "\n",
              "    .dataframe thead th {\n",
              "        text-align: right;\n",
              "    }\n",
              "</style>\n",
              "<table border=\"1\" class=\"dataframe\">\n",
              "  <thead>\n",
              "    <tr style=\"text-align: right;\">\n",
              "      <th></th>\n",
              "      <th>Chi-square test</th>\n",
              "      <th>results</th>\n",
              "    </tr>\n",
              "  </thead>\n",
              "  <tbody>\n",
              "    <tr>\n",
              "      <th>0</th>\n",
              "      <td>Pearson Chi-square ( 16.0) =</td>\n",
              "      <td>326.5484</td>\n",
              "    </tr>\n",
              "    <tr>\n",
              "      <th>1</th>\n",
              "      <td>p-value =</td>\n",
              "      <td>0.0000</td>\n",
              "    </tr>\n",
              "    <tr>\n",
              "      <th>2</th>\n",
              "      <td>Cramer's V =</td>\n",
              "      <td>0.1173</td>\n",
              "    </tr>\n",
              "  </tbody>\n",
              "</table>\n",
              "</div>"
            ],
            "text/plain": [
              "                 Chi-square test   results\n",
              "0  Pearson Chi-square ( 16.0) =   326.5484\n",
              "1                     p-value =     0.0000\n",
              "2                  Cramer's V =     0.1173"
            ]
          },
          "metadata": {
            "tags": []
          },
          "execution_count": 15
        }
      ]
    },
    {
      "cell_type": "code",
      "metadata": {
        "colab": {
          "base_uri": "https://localhost:8080/",
          "height": 235
        },
        "id": "r1xyVdhS5bhL",
        "outputId": "a05049f3-d859-4186-abfa-31033d0cef34"
      },
      "source": [
        "crosstab, sigtab = rp.crosstab(IPUMS_df.CISMRTPHN, IPUMS_df.HISPAN, prop='col', test='chi-square')\n",
        "crosstab"
      ],
      "execution_count": null,
      "outputs": [
        {
          "output_type": "execute_result",
          "data": {
            "text/html": [
              "<div>\n",
              "<style scoped>\n",
              "    .dataframe tbody tr th:only-of-type {\n",
              "        vertical-align: middle;\n",
              "    }\n",
              "\n",
              "    .dataframe tbody tr th {\n",
              "        vertical-align: top;\n",
              "    }\n",
              "\n",
              "    .dataframe thead tr th {\n",
              "        text-align: left;\n",
              "    }\n",
              "\n",
              "    .dataframe thead tr:last-of-type th {\n",
              "        text-align: right;\n",
              "    }\n",
              "</style>\n",
              "<table border=\"1\" class=\"dataframe\">\n",
              "  <thead>\n",
              "    <tr>\n",
              "      <th></th>\n",
              "      <th colspan=\"6\" halign=\"left\">HISPAN</th>\n",
              "    </tr>\n",
              "    <tr>\n",
              "      <th>HISPAN</th>\n",
              "      <th>0</th>\n",
              "      <th>1</th>\n",
              "      <th>2</th>\n",
              "      <th>3</th>\n",
              "      <th>4</th>\n",
              "      <th>All</th>\n",
              "    </tr>\n",
              "    <tr>\n",
              "      <th>CISMRTPHN</th>\n",
              "      <th></th>\n",
              "      <th></th>\n",
              "      <th></th>\n",
              "      <th></th>\n",
              "      <th></th>\n",
              "      <th></th>\n",
              "    </tr>\n",
              "  </thead>\n",
              "  <tbody>\n",
              "    <tr>\n",
              "      <th>0</th>\n",
              "      <td>9.18</td>\n",
              "      <td>11.96</td>\n",
              "      <td>14.06</td>\n",
              "      <td>8.70</td>\n",
              "      <td>18.11</td>\n",
              "      <td>9.96</td>\n",
              "    </tr>\n",
              "    <tr>\n",
              "      <th>1</th>\n",
              "      <td>81.61</td>\n",
              "      <td>83.50</td>\n",
              "      <td>84.38</td>\n",
              "      <td>86.96</td>\n",
              "      <td>75.41</td>\n",
              "      <td>81.77</td>\n",
              "    </tr>\n",
              "    <tr>\n",
              "      <th>2</th>\n",
              "      <td>9.20</td>\n",
              "      <td>4.55</td>\n",
              "      <td>1.56</td>\n",
              "      <td>4.35</td>\n",
              "      <td>6.49</td>\n",
              "      <td>8.27</td>\n",
              "    </tr>\n",
              "    <tr>\n",
              "      <th>All</th>\n",
              "      <td>100.00</td>\n",
              "      <td>100.00</td>\n",
              "      <td>100.00</td>\n",
              "      <td>100.00</td>\n",
              "      <td>100.00</td>\n",
              "      <td>100.00</td>\n",
              "    </tr>\n",
              "  </tbody>\n",
              "</table>\n",
              "</div>"
            ],
            "text/plain": [
              "           HISPAN                                        \n",
              "HISPAN          0       1       2       3       4     All\n",
              "CISMRTPHN                                                \n",
              "0            9.18   11.96   14.06    8.70   18.11    9.96\n",
              "1           81.61   83.50   84.38   86.96   75.41   81.77\n",
              "2            9.20    4.55    1.56    4.35    6.49    8.27\n",
              "All        100.00  100.00  100.00  100.00  100.00  100.00"
            ]
          },
          "metadata": {
            "tags": []
          },
          "execution_count": 16
        }
      ]
    },
    {
      "cell_type": "code",
      "metadata": {
        "id": "6nlXTxVY5eMy",
        "colab": {
          "base_uri": "https://localhost:8080/",
          "height": 142
        },
        "outputId": "b404e165-1959-461a-9d0c-0461225d2101"
      },
      "source": [
        "sigtab"
      ],
      "execution_count": null,
      "outputs": [
        {
          "output_type": "execute_result",
          "data": {
            "text/html": [
              "<div>\n",
              "<style scoped>\n",
              "    .dataframe tbody tr th:only-of-type {\n",
              "        vertical-align: middle;\n",
              "    }\n",
              "\n",
              "    .dataframe tbody tr th {\n",
              "        vertical-align: top;\n",
              "    }\n",
              "\n",
              "    .dataframe thead th {\n",
              "        text-align: right;\n",
              "    }\n",
              "</style>\n",
              "<table border=\"1\" class=\"dataframe\">\n",
              "  <thead>\n",
              "    <tr style=\"text-align: right;\">\n",
              "      <th></th>\n",
              "      <th>Chi-square test</th>\n",
              "      <th>results</th>\n",
              "    </tr>\n",
              "  </thead>\n",
              "  <tbody>\n",
              "    <tr>\n",
              "      <th>0</th>\n",
              "      <td>Pearson Chi-square ( 8.0) =</td>\n",
              "      <td>91.4685</td>\n",
              "    </tr>\n",
              "    <tr>\n",
              "      <th>1</th>\n",
              "      <td>p-value =</td>\n",
              "      <td>0.0000</td>\n",
              "    </tr>\n",
              "    <tr>\n",
              "      <th>2</th>\n",
              "      <td>Cramer's V =</td>\n",
              "      <td>0.0621</td>\n",
              "    </tr>\n",
              "  </tbody>\n",
              "</table>\n",
              "</div>"
            ],
            "text/plain": [
              "                Chi-square test  results\n",
              "0  Pearson Chi-square ( 8.0) =   91.4685\n",
              "1                    p-value =    0.0000\n",
              "2                 Cramer's V =    0.0621"
            ]
          },
          "metadata": {
            "tags": []
          },
          "execution_count": 17
        }
      ]
    },
    {
      "cell_type": "code",
      "metadata": {
        "id": "Um4pFzMGuUzR"
      },
      "source": [
        "# Code block 4a: Separate cases for plotting\n",
        "IPUMS2_df = IPUMS_df.loc[lambda IPUMS_df: IPUMS_df['RACE'] == 1, :] # Selecting cases: RACE == 1, White\n",
        "IPUMS3_df = IPUMS_df.loc[lambda IPUMS_df: IPUMS_df['RACE'] == 2, :] # Selecting cases: RACE == 2, Black\n",
        "IPUMS4a_df = IPUMS_df.loc[lambda IPUMS_df: IPUMS_df['RACE'] == 4 , :] # Selecting cases: RACE > 3 & < 7, Asian\n",
        "IPUMS4b_df = IPUMS_df.loc[lambda IPUMS_df: IPUMS_df['RACE'] == 5 , :] # Selecting cases: RACE > 3 & < 7, Asian\n",
        "IPUMS4c_df = IPUMS_df.loc[lambda IPUMS_df: IPUMS_df['RACE'] == 6, :] # Selecting cases: RACE > 3 & < 7, Asian\n",
        "IPUMS4_df = pd.concat([IPUMS4a_df, IPUMS4b_df, IPUMS4c_df], axis=0)\n"
      ],
      "execution_count": null,
      "outputs": []
    },
    {
      "cell_type": "code",
      "metadata": {
        "id": "JOuMSpRTzjuZ",
        "colab": {
          "base_uri": "https://localhost:8080/",
          "height": 1000
        },
        "outputId": "8aa3f73b-ab0a-4b57-8087-8f2bd1306472"
      },
      "source": [
        "# Code block 4b: Visualization\n",
        "sb.catplot(hue='CINETHH', y='RACE', kind='count', height=5, aspect=2.5, data=IPUMS2_df)\n",
        "plt.ylabel('Race = White')\n",
        "plt.title('Household Internet Access by Race')\n",
        "sb.catplot(hue='CINETHH', y='RACE', kind='count', height=5, aspect=2.5, data=IPUMS3_df)\n",
        "plt.ylabel('Race = Black')\n",
        "sb.catplot(hue='CINETHH', y='RACE', kind='count', height=5, aspect=2.5, data=IPUMS4_df)\n",
        "plt.ylabel('Race = Asian')\n",
        "plt.show()"
      ],
      "execution_count": null,
      "outputs": [
        {
          "output_type": "display_data",
          "data": {
            "image/png": "[encoded data removed]",
            "text/plain": [
              "<Figure size 952.5x360 with 1 Axes>"
            ]
          },
          "metadata": {
            "tags": [],
            "needs_background": "light"
          }
        },
        {
          "output_type": "display_data",
          "data": {
            "image/png": "[encoded data removed]",
            "text/plain": [
              "<Figure size 952.5x360 with 1 Axes>"
            ]
          },
          "metadata": {
            "tags": [],
            "needs_background": "light"
          }
        },
        {
          "output_type": "display_data",
          "data": {
            "image/png": "[encoded data removed]",
            "text/plain": [
              "<Figure size 952.5x360 with 1 Axes>"
            ]
          },
          "metadata": {
            "tags": [],
            "needs_background": "light"
          }
        }
      ]
    },
    {
      "cell_type": "code",
      "metadata": {
        "id": "twYIyT-F7GQy",
        "colab": {
          "base_uri": "https://localhost:8080/",
          "height": 1000
        },
        "outputId": "f724a00c-922f-47c3-f4a6-e524f5d0ba62"
      },
      "source": [
        "# Code block 4c: Visualization\n",
        "sb.catplot(hue='CISMRTPHN', y='RACE', kind='count', height=5, aspect=2.5, data=IPUMS2_df)\n",
        "plt.ylabel('Race = White')\n",
        "plt.title('Smartphone Ownership by Race')\n",
        "sb.catplot(hue='CISMRTPHN', y='RACE', kind='count', height=5, aspect=2.5, data=IPUMS3_df)\n",
        "plt.ylabel('Race = Black')\n",
        "sb.catplot(hue='CISMRTPHN', y='RACE', kind='count', height=5, aspect=2.5, data=IPUMS4_df)\n",
        "plt.ylabel('Race = Asian')\n",
        "plt.show()"
      ],
      "execution_count": null,
      "outputs": [
        {
          "output_type": "display_data",
          "data": {
            "image/png": "[encoded data removed]",
            "text/plain": [
              "<Figure size 965.75x360 with 1 Axes>"
            ]
          },
          "metadata": {
            "tags": [],
            "needs_background": "light"
          }
        },
        {
          "output_type": "display_data",
          "data": {
            "image/png": "[encoded data removed]",
            "text/plain": [
              "<Figure size 965.75x360 with 1 Axes>"
            ]
          },
          "metadata": {
            "tags": [],
            "needs_background": "light"
          }
        },
        {
          "output_type": "display_data",
          "data": {
            "image/png": "[encoded data removed]",
            "text/plain": [
              "<Figure size 965.75x360 with 1 Axes>"
            ]
          },
          "metadata": {
            "tags": [],
            "needs_background": "light"
          }
        }
      ]
    },
    {
      "cell_type": "code",
      "metadata": {
        "id": "nFM4TnJe8c2i"
      },
      "source": [
        "# Code block 4d: Separate cases for plotting\n",
        "IPUMS5_df = IPUMS_df.loc[lambda IPUMS_df: IPUMS_df['EDUC'] <= 6, :] # Selecting cases: EDUC < 6, HS or less\n",
        "IPUMS6_df = IPUMS_df.loc[lambda IPUMS_df: IPUMS_df['EDUC'] >= 7, :] # Selecting cases: EDUC > 7, College\n"
      ],
      "execution_count": null,
      "outputs": []
    },
    {
      "cell_type": "code",
      "metadata": {
        "id": "BttY7ihE8dK3",
        "colab": {
          "base_uri": "https://localhost:8080/",
          "height": 765
        },
        "outputId": "9705e91b-b6fc-40c4-bff2-1c4ac845f281"
      },
      "source": [
        "# Code block 4d: Visualization\n",
        "sb.catplot(hue='CINETHH', y='EDUC', kind='count', height=5, aspect=2.5, data=IPUMS5_df)\n",
        "plt.ylabel('Educ: HS or less')\n",
        "plt.title('Household Internet Access by Education')\n",
        "sb.catplot(hue='CINETHH', y='EDUC', kind='count', height=5, aspect=2.5, data=IPUMS6_df)\n",
        "plt.ylabel('Educ: College')\n",
        "plt.show()"
      ],
      "execution_count": null,
      "outputs": [
        {
          "output_type": "display_data",
          "data": {
            "image/png": "[encoded data removed]",
            "text/plain": [
              "<Figure size 952.5x360 with 1 Axes>"
            ]
          },
          "metadata": {
            "tags": [],
            "needs_background": "light"
          }
        },
        {
          "output_type": "display_data",
          "data": {
            "image/png": "[encoded data removed]",
            "text/plain": [
              "<Figure size 952.5x360 with 1 Axes>"
            ]
          },
          "metadata": {
            "tags": [],
            "needs_background": "light"
          }
        }
      ]
    },
    {
      "cell_type": "code",
      "metadata": {
        "id": "QxY1bEbK9t6r",
        "colab": {
          "base_uri": "https://localhost:8080/",
          "height": 765
        },
        "outputId": "6e070c70-895e-4d29-a13d-e32adde7fbfb"
      },
      "source": [
        "# Code block 4d: Visualization\n",
        "sb.catplot(hue='CISMRTPHN', y='EDUC', kind='count', height=5, aspect=2.5, data=IPUMS5_df)\n",
        "plt.ylabel('Educ: HS or less')\n",
        "plt.title('Smartphone Ownership by Education')\n",
        "sb.catplot(hue='CISMRTPHN', y='EDUC', kind='count', height=5, aspect=2.5, data=IPUMS6_df)\n",
        "plt.ylabel('Educ: College')\n",
        "plt.show()"
      ],
      "execution_count": null,
      "outputs": [
        {
          "output_type": "display_data",
          "data": {
            "image/png": "[encoded data removed]",
            "text/plain": [
              "<Figure size 965.75x360 with 1 Axes>"
            ]
          },
          "metadata": {
            "tags": [],
            "needs_background": "light"
          }
        },
        {
          "output_type": "display_data",
          "data": {
            "image/png": "[encoded data removed]",
            "text/plain": [
              "<Figure size 965.75x360 with 1 Axes>"
            ]
          },
          "metadata": {
            "tags": [],
            "needs_background": "light"
          }
        }
      ]
    },
    {
      "cell_type": "markdown",
      "metadata": {
        "id": "BVEW6zPO2j7A"
      },
      "source": [
        "## Activity\n",
        "1. Find an open data source related to a question about science or technology. (It could be one that we've used before, or one that you have found.) Read in the data into a DataFrame.\n",
        "\n",
        "2. Identify a question that you can answer with variables in the data.\n",
        "\n",
        "3. Produce tables or graphs that represent an attempt to answer the question with the data. As in the example above, you can mix tables and graphs. You should have at least two items of analysis.\n",
        "\n",
        "4. Tell a story with the data analysis you've constructed, keeping in mind the key ideas from *Data Feminism*. This may include telling a story about what is absent from the data since power is related to counting, and not everything important is counted."
      ]
    },
    {
      "cell_type": "code",
      "metadata": {
        "id": "wb3Y0WyJ3v64"
      },
      "source": [],
      "execution_count": null,
      "outputs": []
    }
  ]
}