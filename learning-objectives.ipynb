{
 "cells": [
  {
   "cell_type": "markdown",
   "metadata": {},
   "source": [
    "## Class Learning Goals\n",
    "\n",
    "1. understand the fundamental principles of ethical use of data;\n",
    "2. understand the benefits and limitations of some common types of publicly available data;\n",
    "3. master basic data acquisition and management skills;\n",
    "4. acquire familiarity with a data analysis tool such as Python or R, including basic data visualization techniques."
   ]
  },
  {
   "cell_type": "markdown",
   "metadata": {},
   "source": [
    "### My interpretation of learning goals and my learning goals\n",
    "\n",
    "1. It's quite early in my formal study of 'ethical uses of data' as contextualized in our first two chapters of 'Data Feminism.' I've been aware of data sources and how particular uses can be problematic. I appreciate the having a guiding set of principles to reference when interacting with data and I hope to be able to identify how these principles affect data sets I encounter, create, and/or analyze. \n",
    "2. I've had some awareness of how data sets can be problematic given who controls the creation of the data set, where data comes from, what is left out, what is left unexplained, and more. My hope is to be able to have a guiding approach to assess a data set's benefits and limitations.\n",
    "3. I have some rudimentary skills bootstrapping code to interact with publicly available data. I've dabbled with CSVs primarily, JSON to a lesser extent, a little of scraping data from Wikipedia pages, and even a little bit of accessing data via APIs. My prefered programming language is JavaScript, but am working to improve my Python skills. I do have long term goals of learning to manage data via creating a public API of my own to manage data set in a database, but I don't find that will be practical to necessarily tackle in this first course. So for this course I hope to improve my understanding of using various tools to access data and learn standards for sorting and managing data sets.\n",
    "4. As an extension of the above, I'm finding time to work on my foundational Python and Pandas skills. I have experience visualizing data with D3.js, but would rather spend time learning the basics of MathPlot and Seaborn. I hope to be able to create presentations with Jupyter notebooks at include data frame manipulation, textual analysis and descriptions, and Seaborn plots to support this analysis."
   ]
  }
 ],
 "metadata": {
  "kernelspec": {
   "display_name": "Python 3.10.2 ('venv': venv)",
   "language": "python",
   "name": "python3"
  },
  "language_info": {
   "name": "python",
   "version": "3.10.2"
  },
  "orig_nbformat": 4,
  "vscode": {
   "interpreter": {
    "hash": "505961dfe3c7c551445cfa740efd45172b3d6033123505556c8879f0c4d16ee3"
   }
  }
 },
 "nbformat": 4,
 "nbformat_minor": 2
}
