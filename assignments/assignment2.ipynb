{
 "cells": [
  {
   "cell_type": "markdown",
   "metadata": {},
   "source": [
    "# Linear Model in Python\n",
    "\n",
    "## Activity\n",
    "\n",
    "1. Read in the Global Social Indicators data and create a DataFrame.\n",
    "2. Identify a numeric variable that you want to explain. This is your dependent variable (DV), usually named Y. Describe the variable.\n",
    "3. Identify a numeric variable that you think might partially explain your DV. This is your independent variable (IV), usually named X. Describe this variable.\n",
    "4. Compute the linear model (using OLS), using the code in block 3 as a guide.\n",
    "5. Visualize the linear model, using code in block 4 as a model.\n",
    "6. Interpret the results. "
   ]
  },
  {
   "cell_type": "code",
   "execution_count": 2,
   "metadata": {},
   "outputs": [],
   "source": [
    "import numpy as np\n",
    "import pandas as pd\n",
    "import statsmodels.api as sm\n",
    "import seaborn as sb\n",
    "import matplotlib.pyplot as plt \n",
    "import scipy.stats as scp"
   ]
  },
  {
   "cell_type": "markdown",
   "metadata": {},
   "source": [
    "### Global Social Indicators\n"
   ]
  },
  {
   "cell_type": "code",
   "execution_count": 4,
   "metadata": {},
   "outputs": [
    {
     "data": {
      "text/plain": [
       "Index(['HDI Rank', 'Human Development Index (HDI)', 'Life Expectancy at Birth',\n",
       "       'Expected Years of Education', 'Mean Years of Education',\n",
       "       'Gross National Income (GNI) per Capita',\n",
       "       'GNI per Capita Rank Minus HDI Rank'],\n",
       "      dtype='object')"
      ]
     },
     "execution_count": 4,
     "metadata": {},
     "output_type": "execute_result"
    }
   ],
   "source": [
    "GlobalSocialIndicators = pd.read_excel('data/HumanDevelopment.xlsx', index_col='Country', na_values=['NA'])\n",
    "GlobalSocialIndicators.columns"
   ]
  },
  {
   "cell_type": "code",
   "execution_count": 5,
   "metadata": {},
   "outputs": [
    {
     "data": {
      "text/html": [
       "<div>\n",
       "<style scoped>\n",
       "    .dataframe tbody tr th:only-of-type {\n",
       "        vertical-align: middle;\n",
       "    }\n",
       "\n",
       "    .dataframe tbody tr th {\n",
       "        vertical-align: top;\n",
       "    }\n",
       "\n",
       "    .dataframe thead th {\n",
       "        text-align: right;\n",
       "    }\n",
       "</style>\n",
       "<table border=\"1\" class=\"dataframe\">\n",
       "  <thead>\n",
       "    <tr style=\"text-align: right;\">\n",
       "      <th></th>\n",
       "      <th>HDI Rank</th>\n",
       "      <th>Mean Years of Education</th>\n",
       "    </tr>\n",
       "  </thead>\n",
       "  <tbody>\n",
       "    <tr>\n",
       "      <th>count</th>\n",
       "      <td>188.000000</td>\n",
       "      <td>188.000000</td>\n",
       "    </tr>\n",
       "    <tr>\n",
       "      <th>mean</th>\n",
       "      <td>94.313830</td>\n",
       "      <td>8.110106</td>\n",
       "    </tr>\n",
       "    <tr>\n",
       "      <th>std</th>\n",
       "      <td>54.431652</td>\n",
       "      <td>3.092782</td>\n",
       "    </tr>\n",
       "    <tr>\n",
       "      <th>min</th>\n",
       "      <td>1.000000</td>\n",
       "      <td>1.400000</td>\n",
       "    </tr>\n",
       "    <tr>\n",
       "      <th>25%</th>\n",
       "      <td>47.750000</td>\n",
       "      <td>5.575000</td>\n",
       "    </tr>\n",
       "    <tr>\n",
       "      <th>50%</th>\n",
       "      <td>94.000000</td>\n",
       "      <td>8.500000</td>\n",
       "    </tr>\n",
       "    <tr>\n",
       "      <th>75%</th>\n",
       "      <td>141.250000</td>\n",
       "      <td>10.725000</td>\n",
       "    </tr>\n",
       "    <tr>\n",
       "      <th>max</th>\n",
       "      <td>188.000000</td>\n",
       "      <td>13.100000</td>\n",
       "    </tr>\n",
       "  </tbody>\n",
       "</table>\n",
       "</div>"
      ],
      "text/plain": [
       "         HDI Rank  Mean Years of Education\n",
       "count  188.000000               188.000000\n",
       "mean    94.313830                 8.110106\n",
       "std     54.431652                 3.092782\n",
       "min      1.000000                 1.400000\n",
       "25%     47.750000                 5.575000\n",
       "50%     94.000000                 8.500000\n",
       "75%    141.250000                10.725000\n",
       "max    188.000000                13.100000"
      ]
     },
     "execution_count": 5,
     "metadata": {},
     "output_type": "execute_result"
    }
   ],
   "source": [
    "GlobalSocialIndicators[['HDI Rank', 'Mean Years of Education']].describe()"
   ]
  },
  {
   "cell_type": "code",
   "execution_count": 6,
   "metadata": {},
   "outputs": [
    {
     "data": {
      "text/html": [
       "<div>\n",
       "<style scoped>\n",
       "    .dataframe tbody tr th:only-of-type {\n",
       "        vertical-align: middle;\n",
       "    }\n",
       "\n",
       "    .dataframe tbody tr th {\n",
       "        vertical-align: top;\n",
       "    }\n",
       "\n",
       "    .dataframe thead th {\n",
       "        text-align: right;\n",
       "    }\n",
       "</style>\n",
       "<table border=\"1\" class=\"dataframe\">\n",
       "  <thead>\n",
       "    <tr style=\"text-align: right;\">\n",
       "      <th></th>\n",
       "      <th>HDI Rank</th>\n",
       "      <th>Human Development Index (HDI)</th>\n",
       "      <th>Life Expectancy at Birth</th>\n",
       "      <th>Expected Years of Education</th>\n",
       "      <th>Mean Years of Education</th>\n",
       "      <th>Gross National Income (GNI) per Capita</th>\n",
       "      <th>GNI per Capita Rank Minus HDI Rank</th>\n",
       "    </tr>\n",
       "  </thead>\n",
       "  <tbody>\n",
       "    <tr>\n",
       "      <th>count</th>\n",
       "      <td>188.000000</td>\n",
       "      <td>188.000000</td>\n",
       "      <td>188.000000</td>\n",
       "      <td>188.00000</td>\n",
       "      <td>188.000000</td>\n",
       "      <td>188.000000</td>\n",
       "      <td>188.000000</td>\n",
       "    </tr>\n",
       "    <tr>\n",
       "      <th>mean</th>\n",
       "      <td>94.313830</td>\n",
       "      <td>0.692457</td>\n",
       "      <td>71.105319</td>\n",
       "      <td>12.88617</td>\n",
       "      <td>8.110106</td>\n",
       "      <td>17014.808511</td>\n",
       "      <td>0.186170</td>\n",
       "    </tr>\n",
       "    <tr>\n",
       "      <th>std</th>\n",
       "      <td>54.431652</td>\n",
       "      <td>0.154701</td>\n",
       "      <td>8.383277</td>\n",
       "      <td>2.86827</td>\n",
       "      <td>3.092782</td>\n",
       "      <td>18793.634361</td>\n",
       "      <td>17.326139</td>\n",
       "    </tr>\n",
       "    <tr>\n",
       "      <th>min</th>\n",
       "      <td>1.000000</td>\n",
       "      <td>0.348000</td>\n",
       "      <td>49.000000</td>\n",
       "      <td>4.10000</td>\n",
       "      <td>1.400000</td>\n",
       "      <td>581.000000</td>\n",
       "      <td>-84.000000</td>\n",
       "    </tr>\n",
       "    <tr>\n",
       "      <th>25%</th>\n",
       "      <td>47.750000</td>\n",
       "      <td>0.573750</td>\n",
       "      <td>65.475000</td>\n",
       "      <td>11.10000</td>\n",
       "      <td>5.575000</td>\n",
       "      <td>3690.500000</td>\n",
       "      <td>-9.000000</td>\n",
       "    </tr>\n",
       "    <tr>\n",
       "      <th>50%</th>\n",
       "      <td>94.000000</td>\n",
       "      <td>0.724000</td>\n",
       "      <td>73.200000</td>\n",
       "      <td>13.10000</td>\n",
       "      <td>8.500000</td>\n",
       "      <td>10667.000000</td>\n",
       "      <td>1.500000</td>\n",
       "    </tr>\n",
       "    <tr>\n",
       "      <th>75%</th>\n",
       "      <td>141.250000</td>\n",
       "      <td>0.816500</td>\n",
       "      <td>76.800000</td>\n",
       "      <td>15.02500</td>\n",
       "      <td>10.725000</td>\n",
       "      <td>22800.500000</td>\n",
       "      <td>11.000000</td>\n",
       "    </tr>\n",
       "    <tr>\n",
       "      <th>max</th>\n",
       "      <td>188.000000</td>\n",
       "      <td>0.944000</td>\n",
       "      <td>84.000000</td>\n",
       "      <td>20.20000</td>\n",
       "      <td>13.100000</td>\n",
       "      <td>123124.000000</td>\n",
       "      <td>47.000000</td>\n",
       "    </tr>\n",
       "  </tbody>\n",
       "</table>\n",
       "</div>"
      ],
      "text/plain": [
       "         HDI Rank  Human Development Index (HDI)  Life Expectancy at Birth  \\\n",
       "count  188.000000                     188.000000                188.000000   \n",
       "mean    94.313830                       0.692457                 71.105319   \n",
       "std     54.431652                       0.154701                  8.383277   \n",
       "min      1.000000                       0.348000                 49.000000   \n",
       "25%     47.750000                       0.573750                 65.475000   \n",
       "50%     94.000000                       0.724000                 73.200000   \n",
       "75%    141.250000                       0.816500                 76.800000   \n",
       "max    188.000000                       0.944000                 84.000000   \n",
       "\n",
       "       Expected Years of Education  Mean Years of Education  \\\n",
       "count                    188.00000               188.000000   \n",
       "mean                      12.88617                 8.110106   \n",
       "std                        2.86827                 3.092782   \n",
       "min                        4.10000                 1.400000   \n",
       "25%                       11.10000                 5.575000   \n",
       "50%                       13.10000                 8.500000   \n",
       "75%                       15.02500                10.725000   \n",
       "max                       20.20000                13.100000   \n",
       "\n",
       "       Gross National Income (GNI) per Capita  \\\n",
       "count                              188.000000   \n",
       "mean                             17014.808511   \n",
       "std                              18793.634361   \n",
       "min                                581.000000   \n",
       "25%                               3690.500000   \n",
       "50%                              10667.000000   \n",
       "75%                              22800.500000   \n",
       "max                             123124.000000   \n",
       "\n",
       "       GNI per Capita Rank Minus HDI Rank  \n",
       "count                          188.000000  \n",
       "mean                             0.186170  \n",
       "std                             17.326139  \n",
       "min                            -84.000000  \n",
       "25%                             -9.000000  \n",
       "50%                              1.500000  \n",
       "75%                             11.000000  \n",
       "max                             47.000000  "
      ]
     },
     "execution_count": 6,
     "metadata": {},
     "output_type": "execute_result"
    }
   ],
   "source": [
    "GlobalSocialIndicators.describe()"
   ]
  },
  {
   "cell_type": "markdown",
   "metadata": {},
   "source": [
    "Explaining the variation in Mean Years of Education using Gross National Income (GNI) per Capita as a causal factor.\n",
    "\n",
    "The model appears to be reliable with an F-test well below 5% at 1.35e-17. The model also appears to be a reasonably good fit with 32% of the variation in mean years of education explained by a country's GNI.\n",
    "\n",
    "For every $100,000 additional in GNI we expect an additional .9 mean years of education."
   ]
  },
  {
   "cell_type": "code",
   "execution_count": 11,
   "metadata": {},
   "outputs": [
    {
     "name": "stdout",
     "output_type": "stream",
     "text": [
      "                               OLS Regression Results                              \n",
      "===================================================================================\n",
      "Dep. Variable:     Mean Years of Education   R-squared:                       0.325\n",
      "Model:                                 OLS   Adj. R-squared:                  0.321\n",
      "Method:                      Least Squares   F-statistic:                     89.56\n",
      "Date:                     Wed, 19 Oct 2022   Prob (F-statistic):           1.35e-17\n",
      "Time:                             15:00:56   Log-Likelihood:                -441.58\n",
      "No. Observations:                      188   AIC:                             887.2\n",
      "Df Residuals:                          186   BIC:                             893.6\n",
      "Df Model:                                1                                         \n",
      "Covariance Type:                 nonrobust                                         \n",
      "==========================================================================================================\n",
      "                                             coef    std err          t      P>|t|      [0.025      0.975]\n",
      "----------------------------------------------------------------------------------------------------------\n",
      "const                                      6.5138      0.251     25.956      0.000       6.019       7.009\n",
      "Gross National Income (GNI) per Capita  9.382e-05   9.91e-06      9.464      0.000    7.43e-05       0.000\n",
      "==============================================================================\n",
      "Omnibus:                        5.450   Durbin-Watson:                   1.219\n",
      "Prob(Omnibus):                  0.066   Jarque-Bera (JB):                5.545\n",
      "Skew:                          -0.416   Prob(JB):                       0.0625\n",
      "Kurtosis:                       2.880   Cond. No.                     3.42e+04\n",
      "==============================================================================\n",
      "\n",
      "Notes:\n",
      "[1] Standard Errors assume that the covariance matrix of the errors is correctly specified.\n",
      "[2] The condition number is large, 3.42e+04. This might indicate that there are\n",
      "strong multicollinearity or other numerical problems.\n"
     ]
    },
    {
     "name": "stderr",
     "output_type": "stream",
     "text": [
      "/Users/michaelsmith/opt/anaconda3/lib/python3.9/site-packages/statsmodels/tsa/tsatools.py:142: FutureWarning: In a future version of pandas all arguments of concat except for the argument 'objs' will be keyword-only\n",
      "  x = pd.concat(x[::order], 1)\n"
     ]
    }
   ],
   "source": [
    "Y = GlobalSocialIndicators['Mean Years of Education']\n",
    "X = GlobalSocialIndicators['Gross National Income (GNI) per Capita']\n",
    "X = sm.add_constant(X)\n",
    "model0 = sm.OLS(Y, X, missing='drop').fit()\n",
    "print(model0.summary())"
   ]
  },
  {
   "cell_type": "code",
   "execution_count": 12,
   "metadata": {},
   "outputs": [
    {
     "name": "stderr",
     "output_type": "stream",
     "text": [
      "/Users/michaelsmith/opt/anaconda3/lib/python3.9/site-packages/seaborn/_decorators.py:36: FutureWarning: Pass the following variables as keyword args: x, y. From version 0.12, the only valid positional argument will be `data`, and passing other arguments without an explicit keyword will result in an error or misinterpretation.\n",
      "  warnings.warn(\n"
     ]
    },
    {
     "data": {
      "image/png": "[encoded data removed]",
      "text/plain": [
       "<Figure size 1440x864 with 1 Axes>"
      ]
     },
     "metadata": {
      "needs_background": "light"
     },
     "output_type": "display_data"
    }
   ],
   "source": [
    "p = sb.lmplot('Gross National Income (GNI) per Capita', 'Mean Years of Education', data=GlobalSocialIndicators)\n",
    "p.fig.set_figwidth(20)\n",
    "p.fig.set_figheight(12)\n",
    "plt.show()"
   ]
  }
 ],
 "metadata": {
  "kernelspec": {
   "display_name": "Python 3.9.7 ('base')",
   "language": "python",
   "name": "python3"
  },
  "language_info": {
   "codemirror_mode": {
    "name": "ipython",
    "version": 3
   },
   "file_extension": ".py",
   "mimetype": "text/x-python",
   "name": "python",
   "nbconvert_exporter": "python",
   "pygments_lexer": "ipython3",
   "version": "3.9.7"
  },
  "orig_nbformat": 4,
  "vscode": {
   "interpreter": {
    "hash": "bffae61b4a647f5c3a2b9689cc2bbc523f2c1227093a073b0d809d31c71c3583"
   }
  }
 },
 "nbformat": 4,
 "nbformat_minor": 2
}
