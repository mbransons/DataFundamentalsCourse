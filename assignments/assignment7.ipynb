{
  "cells": [
    {
      "attachments": {},
      "cell_type": "markdown",
      "metadata": {
        "id": "ofk4ZGMKqxO6"
      },
      "source": [
        "# Doing Text Analysis\n",
        "\n",
        "[Hacker News](https://news.ycombinator.com/) is a popular link sharing site for individuals working in the technology community, particularly technology startups given the sponsoring organization YCombinator funds such ventures. The keyword 'women' is searched in their [newsfeed](https://hnrss.org/newest?q=women&count=500) of the 500 most recent posts with a goal of looking at issues women face in the technology workplace. Of the 500 links 96 articles' texts were returned.\n",
        "\n",
        "Using the WordNet library synonyms and antonyms keyword lists were generated from a set of themes: harassment, bias, mentor, equity, earnings, and sexism. These keywords were counted among the lemmatized article texts.\n",
        "\n",
        "When looking at synonyms alone, the theme of 'sexism' was most prevalent in articles at twice the rate of the next most prevalent theme of 'earnings.' Given there are so many synonyms combined with antonyms for the keyword 'earnings' (there are 21), the occurances rate of this theme increases dramatically compared to other keyword lists having few to no additional keywords – 'sexism' has no assigned synonyms or antonyms in the Wordnet library.\n",
        "\n",
        "On the whole, I expected the issues of sexism, bias, and pay equity to be frequent topics posted to the Hacker News community. It's good to see that this online technology community often associated with 'bro culture' is engaging with this topic. It would be interesting to see if there's been a measurable change in this engagement over the lifetime of the site which according to the WayBack Machine started in 2007."
      ]
    },
    {
      "cell_type": "code",
      "execution_count": 1,
      "metadata": {
        "colab": {
          "base_uri": "https://localhost:8080/"
        },
        "id": "WOLX5AHoFSNX",
        "outputId": "6bdf4174-71ef-49c1-e8d0-0ce97e1681a8"
      },
      "outputs": [
        {
          "name": "stderr",
          "output_type": "stream",
          "text": [
            "/Users/michaelsmith/opt/anaconda3/lib/python3.9/site-packages/statsmodels/tsa/base/tsa_model.py:7: FutureWarning: pandas.Int64Index is deprecated and will be removed from pandas in a future version. Use pandas.Index with the appropriate dtype instead.\n",
            "  from pandas import (to_datetime, Int64Index, DatetimeIndex, Period,\n",
            "/Users/michaelsmith/opt/anaconda3/lib/python3.9/site-packages/statsmodels/tsa/base/tsa_model.py:7: FutureWarning: pandas.Float64Index is deprecated and will be removed from pandas in a future version. Use pandas.Index with the appropriate dtype instead.\n",
            "  from pandas import (to_datetime, Int64Index, DatetimeIndex, Period,\n"
          ]
        }
      ],
      "source": [
        "import pandas as pd\n",
        "import numpy as np\n",
        "import seaborn as sb\n",
        "import matplotlib.pyplot as plt\n",
        "import statsmodels.api as sm\n",
        "from sklearn.discriminant_analysis import LinearDiscriminantAnalysis as lda\n",
        "import requests\n",
        "from boilerpy3 import extractors\n",
        "\n",
        "import feedparser as fp"
      ]
    },
    {
      "cell_type": "code",
      "execution_count": 2,
      "metadata": {
        "colab": {
          "base_uri": "https://localhost:8080/"
        },
        "id": "gMA07HsftySV",
        "outputId": "52105467-e71b-4650-97be-3c8c48b89706"
      },
      "outputs": [
        {
          "name": "stderr",
          "output_type": "stream",
          "text": [
            "[nltk_data] Downloading package punkt to\n",
            "[nltk_data]     /Users/michaelsmith/nltk_data...\n",
            "[nltk_data]   Package punkt is already up-to-date!\n",
            "[nltk_data] Downloading package averaged_perceptron_tagger to\n",
            "[nltk_data]     /Users/michaelsmith/nltk_data...\n",
            "[nltk_data]   Package averaged_perceptron_tagger is already up-to-\n",
            "[nltk_data]       date!\n",
            "[nltk_data] Downloading package maxent_ne_chunker to\n",
            "[nltk_data]     /Users/michaelsmith/nltk_data...\n",
            "[nltk_data]   Package maxent_ne_chunker is already up-to-date!\n",
            "[nltk_data] Downloading package words to\n",
            "[nltk_data]     /Users/michaelsmith/nltk_data...\n",
            "[nltk_data]   Package words is already up-to-date!\n",
            "[nltk_data] Downloading package wordnet to\n",
            "[nltk_data]     /Users/michaelsmith/nltk_data...\n",
            "[nltk_data]   Package wordnet is already up-to-date!\n",
            "[nltk_data] Downloading package omw-1.4 to\n",
            "[nltk_data]     /Users/michaelsmith/nltk_data...\n",
            "[nltk_data]   Package omw-1.4 is already up-to-date!\n"
          ]
        },
        {
          "data": {
            "text/plain": [
              "True"
            ]
          },
          "execution_count": 2,
          "metadata": {},
          "output_type": "execute_result"
        }
      ],
      "source": [
        "import nltk\n",
        "nltk.download('punkt')\n",
        "nltk.download('averaged_perceptron_tagger')\n",
        "nltk.download('maxent_ne_chunker')\n",
        "nltk.download('words')\n",
        "nltk.download('wordnet')\n",
        "nltk.download('omw-1.4')"
      ]
    },
    {
      "cell_type": "code",
      "execution_count": 3,
      "metadata": {
        "colab": {
          "base_uri": "https://localhost:8080/"
        },
        "id": "3YjD3TBBuMWL",
        "outputId": "7a91ecdf-a1c0-4e6b-df65-f4b48b6c4913"
      },
      "outputs": [
        {
          "name": "stderr",
          "output_type": "stream",
          "text": [
            "[nltk_data] Downloading package stopwords to\n",
            "[nltk_data]     /Users/michaelsmith/nltk_data...\n",
            "[nltk_data]   Package stopwords is already up-to-date!\n"
          ]
        }
      ],
      "source": [
        "wnl = nltk.WordNetLemmatizer()\n",
        "nltk.download('stopwords')\n",
        "en_stop_words = set(nltk.corpus.stopwords.words('english'))\n"
      ]
    },
    {
      "attachments": {},
      "cell_type": "markdown",
      "metadata": {
        "id": "W06pEvyOuO8F"
      },
      "source": [
        "Hacker News is a popular link sharing site for individuals working in the technology sexism. The keyword 'women' is searched in their newsfeed of the 200 most recent posts with a goal of looking at issues women face in the technology sexism."
      ]
    },
    {
      "cell_type": "code",
      "execution_count": 4,
      "metadata": {
        "colab": {
          "base_uri": "https://localhost:8080/"
        },
        "id": "DzhIjO4_hyCI",
        "outputId": "a72f05f5-a1b6-4e9c-9102-6d61e6af6636"
      },
      "outputs": [
        {
          "name": "stdout",
          "output_type": "stream",
          "text": [
            "Download error: https://www.scripps.edu/news-and-events/press-room/2022/20221214-lipton-alzheimers.html\n"
          ]
        },
        {
          "name": "stderr",
          "output_type": "stream",
          "text": [
            "Error parsing HTML\n",
            "Traceback (most recent call last):\n",
            "  File \"/Users/michaelsmith/opt/anaconda3/lib/python3.9/site-packages/boilerpy3/extractors.py\", line 108, in parse_doc\n",
            "    bp_parser.feed(input_str)\n",
            "  File \"/Users/michaelsmith/opt/anaconda3/lib/python3.9/site-packages/boilerpy3/parser.py\", line 658, in feed\n",
            "    self.end_document()\n",
            "  File \"/Users/michaelsmith/opt/anaconda3/lib/python3.9/site-packages/boilerpy3/parser.py\", line 461, in end_document\n",
            "    self.flush_block()\n",
            "  File \"/Users/michaelsmith/opt/anaconda3/lib/python3.9/site-packages/boilerpy3/parser.py\", line 540, in flush_block\n",
            "    if self.last_start_tag.lower() == \"title\":\n",
            "AttributeError: 'NoneType' object has no attribute 'lower'\n",
            "\n",
            "During handling of the above exception, another exception occurred:\n",
            "\n",
            "Traceback (most recent call last):\n",
            "  File \"/Users/michaelsmith/opt/anaconda3/lib/python3.9/site-packages/boilerpy3/extractors.py\", line 114, in parse_doc\n",
            "    bp_parser.feed(input_str)\n",
            "  File \"/Users/michaelsmith/opt/anaconda3/lib/python3.9/site-packages/boilerpy3/parser.py\", line 658, in feed\n",
            "    self.end_document()\n",
            "  File \"/Users/michaelsmith/opt/anaconda3/lib/python3.9/site-packages/boilerpy3/parser.py\", line 461, in end_document\n",
            "    self.flush_block()\n",
            "  File \"/Users/michaelsmith/opt/anaconda3/lib/python3.9/site-packages/boilerpy3/parser.py\", line 540, in flush_block\n",
            "    if self.last_start_tag.lower() == \"title\":\n",
            "AttributeError: 'NoneType' object has no attribute 'lower'\n"
          ]
        },
        {
          "name": "stdout",
          "output_type": "stream",
          "text": [
            "Download error: https://www.theregister.com/2022/10/04/infosys_recruiter_lawsuit/\n"
          ]
        },
        {
          "name": "stderr",
          "output_type": "stream",
          "text": [
            "Error parsing HTML\n",
            "Traceback (most recent call last):\n",
            "  File \"/Users/michaelsmith/opt/anaconda3/lib/python3.9/site-packages/boilerpy3/extractors.py\", line 108, in parse_doc\n",
            "    bp_parser.feed(input_str)\n",
            "  File \"/Users/michaelsmith/opt/anaconda3/lib/python3.9/site-packages/boilerpy3/parser.py\", line 657, in feed\n",
            "    HTMLParser.feed(self, data)\n",
            "  File \"/Users/michaelsmith/opt/anaconda3/lib/python3.9/html/parser.py\", line 110, in feed\n",
            "    self.goahead(0)\n",
            "  File \"/Users/michaelsmith/opt/anaconda3/lib/python3.9/html/parser.py\", line 172, in goahead\n",
            "    k = self.parse_endtag(i)\n",
            "  File \"/Users/michaelsmith/opt/anaconda3/lib/python3.9/html/parser.py\", line 420, in parse_endtag\n",
            "    self.handle_endtag(elem)\n",
            "  File \"/Users/michaelsmith/opt/anaconda3/lib/python3.9/site-packages/boilerpy3/parser.py\", line 667, in handle_endtag\n",
            "    self.end_element(tag)\n",
            "  File \"/Users/michaelsmith/opt/anaconda3/lib/python3.9/site-packages/boilerpy3/parser.py\", line 495, in end_element\n",
            "    self.label_stacks.pop()\n",
            "IndexError: pop from empty list\n",
            "\n",
            "During handling of the above exception, another exception occurred:\n",
            "\n",
            "Traceback (most recent call last):\n",
            "  File \"/Users/michaelsmith/opt/anaconda3/lib/python3.9/site-packages/boilerpy3/extractors.py\", line 114, in parse_doc\n",
            "    bp_parser.feed(input_str)\n",
            "  File \"/Users/michaelsmith/opt/anaconda3/lib/python3.9/site-packages/boilerpy3/parser.py\", line 657, in feed\n",
            "    HTMLParser.feed(self, data)\n",
            "  File \"/Users/michaelsmith/opt/anaconda3/lib/python3.9/html/parser.py\", line 110, in feed\n",
            "    self.goahead(0)\n",
            "  File \"/Users/michaelsmith/opt/anaconda3/lib/python3.9/html/parser.py\", line 172, in goahead\n",
            "    k = self.parse_endtag(i)\n",
            "  File \"/Users/michaelsmith/opt/anaconda3/lib/python3.9/html/parser.py\", line 420, in parse_endtag\n",
            "    self.handle_endtag(elem)\n",
            "  File \"/Users/michaelsmith/opt/anaconda3/lib/python3.9/site-packages/boilerpy3/parser.py\", line 667, in handle_endtag\n",
            "    self.end_element(tag)\n",
            "  File \"/Users/michaelsmith/opt/anaconda3/lib/python3.9/site-packages/boilerpy3/parser.py\", line 495, in end_element\n",
            "    self.label_stacks.pop()\n",
            "IndexError: pop from empty list\n"
          ]
        },
        {
          "name": "stdout",
          "output_type": "stream",
          "text": [
            "Download error: https://9to5mac.com/2022/09/27/tim-cook-interview-women-tech-ar-earpods/\n"
          ]
        },
        {
          "name": "stderr",
          "output_type": "stream",
          "text": [
            "Error parsing HTML\n",
            "Traceback (most recent call last):\n",
            "  File \"/Users/michaelsmith/opt/anaconda3/lib/python3.9/site-packages/boilerpy3/extractors.py\", line 108, in parse_doc\n",
            "    bp_parser.feed(input_str)\n",
            "  File \"/Users/michaelsmith/opt/anaconda3/lib/python3.9/site-packages/boilerpy3/parser.py\", line 658, in feed\n",
            "    self.end_document()\n",
            "  File \"/Users/michaelsmith/opt/anaconda3/lib/python3.9/site-packages/boilerpy3/parser.py\", line 461, in end_document\n",
            "    self.flush_block()\n",
            "  File \"/Users/michaelsmith/opt/anaconda3/lib/python3.9/site-packages/boilerpy3/parser.py\", line 540, in flush_block\n",
            "    if self.last_start_tag.lower() == \"title\":\n",
            "AttributeError: 'NoneType' object has no attribute 'lower'\n",
            "\n",
            "During handling of the above exception, another exception occurred:\n",
            "\n",
            "Traceback (most recent call last):\n",
            "  File \"/Users/michaelsmith/opt/anaconda3/lib/python3.9/site-packages/boilerpy3/extractors.py\", line 114, in parse_doc\n",
            "    bp_parser.feed(input_str)\n",
            "  File \"/Users/michaelsmith/opt/anaconda3/lib/python3.9/site-packages/boilerpy3/parser.py\", line 658, in feed\n",
            "    self.end_document()\n",
            "  File \"/Users/michaelsmith/opt/anaconda3/lib/python3.9/site-packages/boilerpy3/parser.py\", line 461, in end_document\n",
            "    self.flush_block()\n",
            "  File \"/Users/michaelsmith/opt/anaconda3/lib/python3.9/site-packages/boilerpy3/parser.py\", line 540, in flush_block\n",
            "    if self.last_start_tag.lower() == \"title\":\n",
            "AttributeError: 'NoneType' object has no attribute 'lower'\n"
          ]
        },
        {
          "name": "stdout",
          "output_type": "stream",
          "text": [
            "Download error: https://retractionwatch.com/2022/09/15/how-journal-editors-kept-questionable-data-about-womens-health-out-of-the-literature-years-before-retractions/\n",
            "96\n"
          ]
        }
      ],
      "source": [
        "news_feed_links = []\n",
        "news_news = []\n",
        "\n",
        "FEED_URL = 'https://hnrss.org/newest?q=women&count=500'\n",
        "news_feed = fp.parse(FEED_URL)\n",
        "\n",
        "for item in news_feed.entries:\n",
        "    news_feed_links.append(item.link)\n",
        "\n",
        "extractor = extractors.ArticleExtractor()\n",
        "for page in news_feed_links:\n",
        "    try:\n",
        "        # Make request to URL\n",
        "        resp = requests.get(page)\n",
        "        news_news.append(extractor.get_content(resp.text))\n",
        "    except:\n",
        "        print('Download error: ' + page)\n",
        "\n",
        "print(len(news_news))\n"
      ]
    },
    {
      "cell_type": "code",
      "execution_count": 5,
      "metadata": {},
      "outputs": [
        {
          "data": {
            "text/plain": [
              "96"
            ]
          },
          "execution_count": 5,
          "metadata": {},
          "output_type": "execute_result"
        }
      ],
      "source": [
        "len(news_news)"
      ]
    },
    {
      "cell_type": "code",
      "execution_count": 6,
      "metadata": {
        "id": "Bu2JOUc_tzR_"
      },
      "outputs": [],
      "source": [
        "data = news_news"
      ]
    },
    {
      "cell_type": "code",
      "execution_count": 8,
      "metadata": {
        "colab": {
          "base_uri": "https://localhost:8080/"
        },
        "id": "Oi4Fgni2WUjQ",
        "outputId": "9277cfab-6462-4828-da7a-03c6d70b78d8"
      },
      "outputs": [
        {
          "name": "stdout",
          "output_type": "stream",
          "text": [
            "2433\n",
            "106196\n"
          ]
        }
      ],
      "source": [
        "sentences = nltk.sent_tokenize(str(data))\n",
        "tokens = nltk.word_tokenize(str(data))\n",
        "print(len(sentences))\n",
        "print(len(tokens))\n",
        "# print(sentences)\n",
        "# print(sorted(tokens))"
      ]
    },
    {
      "cell_type": "code",
      "execution_count": 19,
      "metadata": {
        "id": "9CFu4rqWWw5g"
      },
      "outputs": [
        {
          "data": {
            "image/png": "[encoded data removed]",
            "text/plain": [
              "<Figure size 1152x720 with 1 Axes>"
            ]
          },
          "metadata": {
            "needs_background": "light"
          },
          "output_type": "display_data"
        }
      ],
      "source": [
        "wnl = nltk.WordNetLemmatizer()\n",
        "tokens2 = [t.lower() for t in tokens if len(t) > 2 and t not in en_stop_words] # Create a new list of words in the tweets by excluding the small words, which tend to be function words\n",
        "lemma = [wnl.lemmatize(t) for t in tokens2]\n",
        "words = lemma\n",
        "words_lemma_freq = nltk.FreqDist(words)\n",
        "plt.figure(figsize=(16,10))\n",
        "words_lemma_freq.plot(75, cumulative=False)\n",
        "plt.show()"
      ]
    },
    {
      "cell_type": "markdown",
      "metadata": {
        "id": "O-JHJ3gIuCXw"
      },
      "source": [
        "Develop a set of keywords that reflect what you expect would be interesting content to code for in the news feed you identify."
      ]
    },
    {
      "cell_type": "code",
      "execution_count": 11,
      "metadata": {
        "id": "Se9z-AJwimWh"
      },
      "outputs": [],
      "source": [
        "from nltk.corpus import wordnet as wn\n"
      ]
    },
    {
      "attachments": {},
      "cell_type": "markdown",
      "metadata": {},
      "source": [
        "Wordnet synonym counts"
      ]
    },
    {
      "cell_type": "code",
      "execution_count": 27,
      "metadata": {
        "id": "cmjX6h2FcWsT"
      },
      "outputs": [
        {
          "name": "stdout",
          "output_type": "stream",
          "text": [
            "{'earnings': 78, 'bias': 36, 'harassment': 42, 'sexism': 157, 'equity': 38, 'mentor': 16}\n"
          ]
        }
      ],
      "source": [
        "\n",
        "data_keywords = set(['harassment', 'bias', 'mentor', 'equity', 'earnings', 'sexism'])\n",
        "data_labels = list(data_keywords)\n",
        "keywords = {}\n",
        "\n",
        "for term in data_keywords:\n",
        "    for synset in wn.synsets(term):\n",
        "        keywords[term] = synset.lemma_names()\n",
        "\n",
        "keywords_keys = list(keywords.keys())\n",
        "keyword_counts = {}\n",
        "\n",
        "def wn_keyword_count(words):\n",
        "    for key in keywords_keys:\n",
        "        keyword_counts[key] = 0\n",
        "    \n",
        "    for word in words:\n",
        "        for key in keywords_keys:\n",
        "            for term in keywords[key]:\n",
        "                if word.find(term) != -1:\n",
        "                    keyword_counts[key] += 1\n",
        "\n",
        "    return keyword_counts       \n",
        "\n",
        "print(wn_keyword_count(words))"
      ]
    },
    {
      "attachments": {},
      "cell_type": "markdown",
      "metadata": {},
      "source": [
        "Wordnet synonyms + antonyms count"
      ]
    },
    {
      "cell_type": "code",
      "execution_count": 29,
      "metadata": {
        "colab": {
          "base_uri": "https://localhost:8080/"
        },
        "id": "54FV-cvNsp9T",
        "outputId": "2945ec07-8482-4c55-c157-2e86e19e53b8"
      },
      "outputs": [
        {
          "name": "stdout",
          "output_type": "stream",
          "text": [
            "{'torment', 'harassment', 'molestation'}\n",
            "{'diagonal', 'preconception', 'bias', 'prejudice', 'predetermine'}\n",
            "{'wise_man', 'mentor'}\n",
            "{'inequity', 'fairness', 'unfairness', 'equity'}\n",
            "{'earnings', 'net', 'bring_in', 'remuneration', 'wage', 'make', 'pay', 'net_profit', 'clear', 'lucre', 'pull_in', 'garner', 'net_income', 'gain', 'salary', 'realise', 'profits', 'profit', 'take_in', 'earn', 'realize'}\n",
            "{'sexism'}\n",
            "[475, 50, 42, 157, 46, 16]\n"
          ]
        }
      ],
      "source": [
        "data_keywords = set(['harassment', 'bias', 'mentor', 'equity', 'earnings', 'sexism'])\n",
        "data_labels = list(data_keywords)\n",
        "\n",
        "harassment_synonyms = []\n",
        "harassment_antonyms = []\n",
        "\n",
        "for syn in wn.synsets('harassment'):\n",
        "    for l in syn.lemmas():\n",
        "        harassment_synonyms.append(l.name())\n",
        "        if l.antonyms():\n",
        "            harassment_antonyms.append(l.antonyms()[0].name())\n",
        "\n",
        "if len(harassment_synonyms) > 0:\n",
        "    if len(harassment_antonyms) > 0:\n",
        "        harassment_terms = harassment_synonyms + harassment_antonyms\n",
        "    elif len(harassment_antonyms) == 0: \n",
        "        harassment_terms = harassment_synonyms\n",
        "else: harassment_terms = ['harassment']\n",
        "\n",
        "bias_synonyms = []\n",
        "bias_antonyms = []\n",
        "\n",
        "for syn in wn.synsets('bias'):\n",
        "    for l in syn.lemmas():\n",
        "        bias_synonyms.append(l.name())\n",
        "        if l.antonyms():\n",
        "            bias_antonyms.append(l.antonyms()[0].name())\n",
        "\n",
        "if len(bias_synonyms) > 0:\n",
        "    if len(bias_antonyms) > 0:\n",
        "        bias_terms = bias_synonyms + bias_antonyms\n",
        "    elif len(bias_antonyms) == 0: \n",
        "        bias_terms = bias_synonyms\n",
        "else: bias_terms = ['bias']\n",
        "\n",
        "mentor_synonyms = []\n",
        "mentor_antonyms = []\n",
        "\n",
        "for syn in wn.synsets('mentor'):\n",
        "    for l in syn.lemmas():\n",
        "        mentor_synonyms.append(l.name())\n",
        "        if l.antonyms():\n",
        "            mentor_antonyms.append(l.antonyms()[0].name())\n",
        "\n",
        "if len(mentor_synonyms) > 0:\n",
        "    if len(mentor_antonyms) > 0:\n",
        "        mentor_terms = mentor_synonyms + mentor_antonyms\n",
        "    elif len(mentor_antonyms) == 0: \n",
        "        mentor_terms = mentor_synonyms\n",
        "else: mentor_terms = ['mentor']\n",
        "\n",
        "equity_synonyms = []\n",
        "equity_antonyms = []\n",
        "\n",
        "for syn in wn.synsets('equity'):\n",
        "    for l in syn.lemmas():\n",
        "        equity_synonyms.append(l.name())\n",
        "        if l.antonyms():\n",
        "            equity_antonyms.append(l.antonyms()[0].name())\n",
        "\n",
        "if len(equity_synonyms) > 0:\n",
        "    if len(equity_antonyms) > 0:\n",
        "        equity_terms = equity_synonyms + equity_antonyms\n",
        "    elif len(equity_antonyms) == 0: \n",
        "        equity_terms = equity_synonyms\n",
        "else: equity_terms = ['equity']\n",
        "\n",
        "earnings_synonyms = []\n",
        "earnings_antonyms = []\n",
        "\n",
        "for syn in wn.synsets('earnings'):\n",
        "    for l in syn.lemmas():\n",
        "        earnings_synonyms.append(l.name())\n",
        "        if l.antonyms():\n",
        "            earnings_antonyms.append(l.antonyms()[0].name())\n",
        "\n",
        "if len(earnings_synonyms) > 0:\n",
        "    if len(earnings_antonyms) > 0:\n",
        "        earnings_terms = earnings_synonyms + earnings_antonyms\n",
        "    elif len(earnings_antonyms) == 0: \n",
        "        earnings_terms = earnings_synonyms\n",
        "else: earnings_terms = ['earnings']\n",
        "\n",
        "sexism_synonyms = []\n",
        "sexism_antonyms = []\n",
        "\n",
        "for syn in wn.synsets('sexism'):\n",
        "    for l in syn.lemmas():\n",
        "        sexism_synonyms.append(l.name())\n",
        "        if l.antonyms():\n",
        "            sexism_antonyms.append(l.antonyms()[0].name())\n",
        "\n",
        "if len(sexism_synonyms) > 0:\n",
        "    if len(sexism_antonyms) > 0:\n",
        "        sexism_terms = sexism_synonyms + sexism_antonyms\n",
        "    elif len(sexism_antonyms) == 0: \n",
        "        sexism_terms = sexism_synonyms\n",
        "else: sexism_terms = ['sexism']\n",
        "\n",
        "harassment_terms = set(harassment_terms)\n",
        "bias_terms = set(bias_terms)\n",
        "mentor_terms = set(mentor_terms)\n",
        "equity_terms = set(equity_terms)\n",
        "earnings_terms = set(earnings_terms)\n",
        "sexism_terms = set(sexism_terms)\n",
        "\n",
        "print(harassment_terms)\n",
        "print(bias_terms)\n",
        "print(mentor_terms)\n",
        "print(equity_terms)\n",
        "print(earnings_terms)\n",
        "print(sexism_terms)\n",
        "\n",
        "def wn_keyword_count2(words):\n",
        "    harassment_freq = bias_freq = mentor_freq = equity_freq = earnings_freq = sexism_freq = 0\n",
        "\n",
        "    for word in words:\n",
        "        for term in harassment_terms:\n",
        "            if word.find(term) != -1:\n",
        "                harassment_freq += 1\n",
        "\n",
        "        for term in bias_terms:\n",
        "            if word.find(term) != -1:\n",
        "                bias_freq += 1\n",
        "\n",
        "        for term in mentor_terms:\n",
        "            if word.find(term) != -1:\n",
        "                mentor_freq += 1\n",
        "\n",
        "        for term in equity_terms:\n",
        "            if word.find(term) != -1:\n",
        "                equity_freq += 1\n",
        "\n",
        "        for term in earnings_terms:\n",
        "            if word.find(term) != -1:\n",
        "                earnings_freq += 1\n",
        "\n",
        "        for term in sexism_terms:\n",
        "            if word.find(term) != -1:\n",
        "                sexism_freq += 1\n",
        "\n",
        "    theme_freqs = [earnings_freq, bias_freq, harassment_freq, sexism_freq, equity_freq, mentor_freq]\n",
        "\n",
        "    return theme_freqs   \n",
        "print(wn_keyword_count2(words))     "
      ]
    },
    {
      "cell_type": "code",
      "execution_count": 30,
      "metadata": {
        "colab": {
          "base_uri": "https://localhost:8080/"
        },
        "id": "Vrl2Ccp9gv-j",
        "outputId": "5dab1410-c2b8-4b91-aa48-7a898b7609b8"
      },
      "outputs": [
        {
          "name": "stdout",
          "output_type": "stream",
          "text": [
            "54367\n",
            "earnings       78\n",
            "bias           36\n",
            "harassment     42\n",
            "sexism        157\n",
            "equity         38\n",
            "mentor         16\n",
            "dtype: int64\n",
            "earnings      475\n",
            "bias           50\n",
            "harassment     42\n",
            "sexism        157\n",
            "equity         46\n",
            "mentor         16\n",
            "dtype: int64\n"
          ]
        }
      ],
      "source": [
        "print(len(words))\n",
        "# print(words)\n",
        "\n",
        "results3 = pd.Series(wn_keyword_count(words), index=data_labels)\n",
        "results4 = pd.Series(wn_keyword_count2(words), index=data_labels)\n",
        "\n",
        "print(results3)\n",
        "print(results4)"
      ]
    },
    {
      "cell_type": "code",
      "execution_count": 32,
      "metadata": {},
      "outputs": [
        {
          "data": {
            "image/png": "[encoded data removed]",
            "text/plain": [
              "<Figure size 864x432 with 1 Axes>"
            ]
          },
          "metadata": {
            "needs_background": "light"
          },
          "output_type": "display_data"
        }
      ],
      "source": [
        "plt.figure(figsize=(12,6)) # These measurements are in inches.\n",
        "plt.xlabel('Themes')\n",
        "plt.title('Frequency of Selected Themes (syn) related to Women in Hacker News Articles')\n",
        "sb.barplot(x=data_labels, y=results3)\n",
        "plt.show()"
      ]
    },
    {
      "cell_type": "code",
      "execution_count": 33,
      "metadata": {},
      "outputs": [
        {
          "data": {
            "image/png": "[encoded data removed]",
            "text/plain": [
              "<Figure size 864x432 with 1 Axes>"
            ]
          },
          "metadata": {
            "needs_background": "light"
          },
          "output_type": "display_data"
        }
      ],
      "source": [
        "plt.figure(figsize=(12,6)) # These measurements are in inches.\n",
        "plt.xlabel('Themes')\n",
        "plt.title('Frequency of Selected Themes (syn + ant) related to Women in Hacker News Articles')\n",
        "sb.barplot(x=data_labels, y=results4)\n",
        "plt.show()"
      ]
    }
  ],
  "metadata": {
    "colab": {
      "provenance": []
    },
    "kernelspec": {
      "display_name": "base",
      "language": "python",
      "name": "python3"
    },
    "language_info": {
      "codemirror_mode": {
        "name": "ipython",
        "version": 3
      },
      "file_extension": ".py",
      "mimetype": "text/x-python",
      "name": "python",
      "nbconvert_exporter": "python",
      "pygments_lexer": "ipython3",
      "version": "3.9.7"
    },
    "vscode": {
      "interpreter": {
        "hash": "bffae61b4a647f5c3a2b9689cc2bbc523f2c1227093a073b0d809d31c71c3583"
      }
    }
  },
  "nbformat": 4,
  "nbformat_minor": 0
}
