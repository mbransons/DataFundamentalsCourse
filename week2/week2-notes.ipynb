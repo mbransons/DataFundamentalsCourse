{
 "cells": [
  {
   "cell_type": "markdown",
   "metadata": {},
   "source": [
    "# Week 2\n",
    "\n",
    "## Data Feminism Introduction and Chapter 1\n",
    "\n",
    "* What is Data Feminism?\n",
    "* Intersectionality is the acknowledgement that everyone has their own unique experiences of discrimination and oppression and we must consider everything and anything that can marginalise people – gender, race, class, sexual orientation, physical ability, geographic locality, etc.\n",
    "* Data are implicated in systems of power, and can be used to sustain or challenge those forms of power.\n",
    "Analysis has to be connected to activism."
   ]
  },
  {
   "cell_type": "markdown",
   "metadata": {},
   "source": [
    "## Seven Principles of Data Feminism\n",
    "\n",
    "* Examine power. Data feminism begins by analyzing how power operates in the world.\n",
    "* Challenge power. Data feminism commits to challenging unequal power structures and working toward justice.\n",
    "* Elevate emotion & embodiment. Data feminism teaches us to value multiple forms of knowledge, including the knowledge that comes from people as living, feeling bodies in the world.\n",
    "* Rethink binaries & hierarchies. Data feminism requires us to challenge the gender binary, along with other systems of counting and classification that perpetuate opression.\n",
    "* Embrace pluralism. Data feminism insists that the most complete knowledge comes from synthesizing multiple perspectives, with priority given to local, Indigenous, and experiential ways of knowing.\n",
    "* Consider context. Data feminism asserts that data are not neutral of objective. They are products of unequal social relations, and this context is essential for conducting accurate, ethical analysis.\n",
    "* Make labor visible. The work of data science, like all work in the world, is the work of many hands. Data feminism makes this labor visible so that it can be recognized and valued."
   ]
  },
  {
   "cell_type": "markdown",
   "metadata": {},
   "source": [
    "## Questions for Discussion\n",
    "### Why do the authors begin with Christine Darden’s biography? How does that help us understand data feminism?\n",
    "\n",
    "Darden modeled data feminism by her way of thinking about data, both it's uses and limits – informed by personal experience, commitment to action, and intersectional thought. \n",
    "\n",
    "Assumptions about her gender and race precluded NASA administrators from identifying her for the engineering track. A more prestigous and better paying track. When she asked, engineers responded by saying 'no one ever complained.'\n",
    "\n",
    "Feminism begins with the belief in the 'political, social, and economic equality of the sexes.' And must include activist work to make this a reality. And is expanded to describe a need to overcome all systems of oppression and the efforts to overcome it.\n",
    "\n",
    "Data Feminism is data practices informed by feminist activism and critical thought.\n",
    "\n",
    "Darden worked with Champine to compile data and visualize how men were promoted at a greater rate than women despite having similar records and experience in their fields. Now believe me? I got a bar chart!\n",
    "\n",
    "As data always reduces complex experiences into chosen values to analyze and present, data feminism requires we remember that the presentation of data is always an incomplete description of the full experience and we must continue to look at the process.\n",
    "\n",
    "### What is a privilege hazard? What role do data play in this?\n",
    "\n",
    "Privilege hazard occurs when one doesn't recognize a system of oppression that benefits them. Where as individuals that experience oppression do not need 'data' to help them recognize their lack of power, but aggregating these experiences can be used to challenge systems of oppression.\n",
    "\n",
    "A dominant group is the builder of the data set and unwittingly that data represents their narrow view, and this view is exerted upon everyone.\n",
    "\n",
    "How the white man can glide through almost every system because it was basically designed by and for them. And this experience limits their ability to see what is truly the 'lived' experience of how things truly are and therefore limits their ability to imagine, define, and solve problems.\n",
    "\n",
    "The term 'data' itself and how it anoints sets of information with debatable value as useful for basis of fact and sound decision making.\n",
    "\n",
    "Datasets are built by the priviledged. Or some datasets are never collected at all. The complications of pregenancies dataset being week is a prime example and starts the chapter.\n",
    "\n",
    "### What do the authors mean by co-liberation? How does this relate to data feminism?\n",
    "\n",
    "The idea that oppressive systems of power harm all of us, that they undermine the quality and validity of our work, and that they hinder us from creating true and lasting social impact with data science.\n",
    "\n",
    "Data Feminism asks to work to change these systems of power.\n",
    "\n",
    "Science in the public interest could be directed and steering this could a good idea. Scientists should be thinking about how the science could be actually used for good, but this call was limited to scientists, excluding a call for all those that wished to help. Rather we might ask anyone could do science, bring science into their personal practices.\n",
    "\n",
    "### How data practices (datafication) implicated in systems of power? Explain an example.\n",
    "\n",
    "Feedback loop of using past policing data to steer policing in the present. \n",
    "\n",
    "Amazon uses prior successful resumes, mostly white and male, for building an AI to read resumes. Unsurprisingly the model prefered male candidates and eliminated ones that represented women and colleges of women.\n",
    "\n",
    "Search algorithms built on limited data sets or designed by small groups that are then used by everyone to represent everyone.\n",
    "Facial recognition software trained on 78 percent male faces and 84 percent white faces. Only four percent were women and dark-skinned.\n",
    "\n",
    "Weird subjects of psychologial research – White, educated, from industrialized, rich, and democratic countries.\n",
    "\n",
    "Crash test dummies shaped like men.\n",
    "\n",
    "Overrepresentation of data of poor families vs. wealthy families. The poor families are already 'in the system' for using a variety of public services, while wealthy families data is clostiered away in the private databases of the entities they use. So when a tool built from this dataset is used to rate whether foster children are likely to be abused, this over emphasizes poor households as being poorly suited; it 'confuses parenting while poor with poor parenting.'\n",
    "\n",
    "The three S's that have the power and resources to create and use data for their goals: science (universities), surveillance (governments), and selling (corporations). They have their particular priorities which are not necessarily in line with the people. \n",
    "\n",
    "Love the quote 'data are both extracted from people and sold back to them' DATA ARE PEOPLE! DATA is the new Soylent Green.\n",
    "\n",
    "\n",
    "### What is the connection between data feminism and activism? Explain an example.\n",
    "\n",
    "Activism is implicitly included in definitions of feminism is it is both about indentifying sources of oppression as well as actively working to affect change. \n",
    "\n",
    "'Counterdata' the act of collecting data that should already haven been collected by those in power and with the resources to collect. Femicide data project of Maria Saguero. "
   ]
  },
  {
   "cell_type": "markdown",
   "metadata": {},
   "source": [
    "## The Power Chapter\n",
    "* Structural domains of power. Oppression that is specifically written into the rules. Eg: voting only for landowners. For men only.\n",
    "\n",
    "* Disciplinary domains of power. Oppression that is enforced through bureaucracy and hierarchy, it's not the 'rule' that we can exclude, but we find ways to make it really hard to be part of the system. Eg: ID requirements for voting, limiting early voting, purging voter rolls.\n",
    "\n",
    "* Hegemic domains of power. Oppression that is communicated through culture, media, and ideas. defining who gets to have power and who does not. Eg: Blue Lives Matter related writing, imagery, memes, etc...\n",
    "\n",
    "* Interpersonal domains of power. How oppression is literally felt by the individual being oppressed. Eg: What does it feel like to be the one forced to take time off work, hourly work that matters, only to have to stand in miles long line. Or women's lines for bathrooms at public venues when they don't exist at similar lengths for men.\n",
    "\n",
    "### The facial recognition example\n",
    "* Disciplinary – Buolamwini quantified the disparity in the dataset;\n",
    "\n",
    "* Hegemonic – built and org and TED talks that communicate about the data;\n",
    "\n",
    "* Structural – called for moratorium on using of facial recognition AIs for policing;\n",
    "\n",
    "* Interpersonal – working directly with researchers to influence their data building practices.\n"
   ]
  },
  {
   "cell_type": "markdown",
   "metadata": {},
   "source": [
    "## Homework for next week\n",
    "\n",
    "* Send your learning objectives\n",
    "\n",
    "* Create a Jupyter Notebook that does the following:\n",
    "\n",
    "    * Use a data search tool to find an interesting, publicly available data source. Identify the format of the data from the API.\n",
    "    * Read in the data into a new DataFrame object.\n",
    "    * Create a visualization of at least one variable from the DataFrame using the Seaborn library.\n",
    "    * Briefly interpret the visualization.\n"
   ]
  }
 ],
 "metadata": {
  "kernelspec": {
   "display_name": "Python 3.9.7 ('base')",
   "language": "python",
   "name": "python3"
  },
  "language_info": {
   "name": "python",
   "version": "3.9.7"
  },
  "orig_nbformat": 4,
  "vscode": {
   "interpreter": {
    "hash": "bffae61b4a647f5c3a2b9689cc2bbc523f2c1227093a073b0d809d31c71c3583"
   }
  }
 },
 "nbformat": 4,
 "nbformat_minor": 2
}
