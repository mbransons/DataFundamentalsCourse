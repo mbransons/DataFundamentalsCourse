{
 "cells": [
  {
   "cell_type": "markdown",
   "metadata": {},
   "source": [
    "### Text Analysis with Machine Learning\n",
    "\n",
    "#### Reviewing the notebook on pitchfork record reviews\n",
    "\n",
    "* lexical diversity, most common word, average word length\n",
    "* many more features can actually be extracted from a text to improve the quality of the model\n",
    "* \n",
    "\n",
    "#### Analyzing Web Pages Exercise"
   ]
  }
 ],
 "metadata": {
  "language_info": {
   "name": "python"
  },
  "orig_nbformat": 4
 },
 "nbformat": 4,
 "nbformat_minor": 2
}
