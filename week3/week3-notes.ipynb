{
 "cells": [
  {
   "cell_type": "markdown",
   "metadata": {},
   "source": [
    "# Week 3\n",
    "\n",
    "## Data Feminism, Chapters 2 & 3\n",
    "\n",
    "* Historical data, upon which algorithms are modeled, encode inequality.\n",
    "* Obscures responsibility for perpetuating inequality\n",
    "* Collect, analyze, imagine, teach\n",
    "* “New Jim Code”\n",
    "* Deficit narratives and “data for good”\n",
    "* Data ethics\n",
    "* “Man Factory”\n",
    "* Visualization as rhetoric\n",
    "\n",
    "## Questions\n",
    "\n",
    "1. What do the authors mean by “proximity to the subject” and why is this significant?\n",
    "\n",
    "2. How do risk assessment algorithms reinforce privilege hazard?\n",
    "\n",
    "3. What do the authors mean when they say “data are never raw”?\n",
    "\n",
    "4. How is an algorithm audited? Why is this important?\n",
    "\n",
    "5. What is feminist objectivity and how is it created?\n",
    "\n"
   ]
  },
  {
   "cell_type": "markdown",
   "metadata": {},
   "source": [
    "### What do the authors mean by “proximity to the subject” and why is this significant?\n",
    "\n"
   ]
  },
  {
   "cell_type": "markdown",
   "metadata": {},
   "source": [
    "### How do risk assessment algorithms reinforce privilege hazard?\n",
    "\n",
    "Redlining"
   ]
  },
  {
   "cell_type": "markdown",
   "metadata": {},
   "source": [
    "### What do the authors mean when they say “data are never raw”?"
   ]
  },
  {
   "cell_type": "markdown",
   "metadata": {},
   "source": [
    "### How is an algorithm audited? Why is this important?"
   ]
  },
  {
   "cell_type": "markdown",
   "metadata": {},
   "source": [
    "### What is feminist objectivity and how is it created?"
   ]
  }
 ],
 "metadata": {
  "kernelspec": {
   "display_name": "Python 3.9.7 ('base')",
   "language": "python",
   "name": "python3"
  },
  "language_info": {
   "name": "python",
   "version": "3.9.7"
  },
  "orig_nbformat": 4,
  "vscode": {
   "interpreter": {
    "hash": "bffae61b4a647f5c3a2b9689cc2bbc523f2c1227093a073b0d809d31c71c3583"
   }
  }
 },
 "nbformat": 4,
 "nbformat_minor": 2
}
