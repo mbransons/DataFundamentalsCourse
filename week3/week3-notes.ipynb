{
 "cells": [
  {
   "cell_type": "markdown",
   "metadata": {},
   "source": [
    "# Week 3\n",
    "\n",
    "## Data Feminism, Chapters 2 & 3\n",
    "\n",
    "* Historical data, upon which algorithms are modeled, encode inequality.\n",
    "* Obscures responsibility for perpetuating inequality\n",
    "* Collect, analyze, imagine, teach\n",
    "* “New Jim Code”\n",
    "* Deficit narratives and “data for good”\n",
    "* Data ethics\n",
    "* “Man Factory”\n",
    "* Visualization as rhetoric\n",
    "\n",
    "## Questions\n",
    "\n",
    "1. What do the authors mean by “proximity to the subject” and why is this significant?\n",
    "\n",
    "2. How do risk assessment algorithms reinforce privilege hazard?\n",
    "\n",
    "3. What do the authors mean when they say “data are never raw”?\n",
    "\n",
    "4. How is an algorithm audited? Why is this important?\n",
    "\n",
    "5. What is feminist objectivity and how is it created?\n",
    "\n"
   ]
  },
  {
   "cell_type": "markdown",
   "metadata": {},
   "source": [
    "### What do the authors mean by “proximity to the subject” and why is this significant?\n",
    "\n",
    "DGEI map of children deaths by hit-and-runs was built as a collaboration between young Black people that live in the community to collect data, working under the leadership of a Black woman who wa a community organizer, with support provided by the academic geographers.\n",
    "\n",
    "There proximity to the subject matters as this process pushes against unequal power structures and works toward a more just and equitable future.\n",
    "\n",
    "Also showcases the limitations of trying to 'do good' without involving those that have lived experience since your perspective is limited by your own personal experience."
   ]
  },
  {
   "cell_type": "markdown",
   "metadata": {},
   "source": [
    "### How do risk assessment algorithms reinforce privilege hazard?\n",
    "\n",
    "Redlining\n",
    "Insurance\n",
    "prison sentence guidelines\n",
    "bail\n",
    "\n",
    "Equivant's risk assessment questionaire that have questions that serve as proxies for racial profiling – raised by a single mom, school suspension, friends/family arrested, and more.\n",
    "\n",
    "Aggregated data about social groups to make descisions about individuals."
   ]
  },
  {
   "cell_type": "markdown",
   "metadata": {},
   "source": [
    "### What do the authors mean when they say “data are never raw”?\n",
    "\n",
    "'Raw' data is considered to be data that is objectively gathered from the field and placed into the data set without any additional context or consideration. But this is not possible given that the data is the product of unequal social situations. It cannot be objective. It comes with bias of the context the individual is in. Using past experience to predict the future creates a reinforcement loop.\n",
    "\n",
    "Sociologist Ruha Benjamin named this effect the 'New Jim Code'\n",
    "\n",
    "Another example is the incorrect scaling of 'high-risk' across genders. A women's high-risk is at best a man's medium risk, but is not seen this way.\n",
    "\n",
    "Think about data as cultural objects rather than natural objects. The data are not just reflections of what were studying, they are created by choices we make – selecting points where to enter into our study."
   ]
  },
  {
   "cell_type": "markdown",
   "metadata": {},
   "source": [
    "### How is an algorithm audited? Why is this important?\n",
    "\n",
    "Propublica reporters audited the Equivant risk algorithm by gathering their own data, comparing their discoveries to the risk assessments assigned by the Equivant alorithm. They in effect were reverse engineering their algorithm so they might assess it. Led to a discovery the algorithm under estimated the recidivism rate of white people.\n",
    "\n",
    "Lead to NYC council member to propose an equity in algorithms bill. Enacted in 2018 created a task force to asssess equity and fairness in city algorithms.\n",
    "\n",
    "Algorithms are audited primarily by those that are in power and they select the goals that algorithm should emphasize. If other perspectives are not included in this audit we cannot see the biases these algorithms have baked into them.\n",
    "\n",
    "Data practitioners need to build feedback loops that allow those that are affected negatively by a practice to communicate this and those practiceners define how they can and will improve the algorithm."
   ]
  },
  {
   "cell_type": "markdown",
   "metadata": {},
   "source": [
    "### What is feminist objectivity and how is it created?\n",
    "\n",
    "Evidence of people in power accepting anecdotal evidence from those like themselves, and demanding endless statistics from minoritized groups.\n",
    "\n",
    "Data and the corresponding analysis is produced in context – 'by specific people in specific cicumstances – cultural, historical, and geographic.' The goal is to bring together multiple, 'partial' perspectives. 'Lived experience' is a good reference to how your contribution can be valued.\n",
    "\n",
    "These can be framed as 'persectives,' 'standpoints,' and/or 'positionalities.' Revealing one's positionality in the framing of the work presented is considered a positive contribution to the 'objectivity' of the project by revealing that there are necessary limitations to such objectivity given the source of the information.\n",
    "\n",
    "There is the need to recognize the need to identify questions you wouldn't know to ask due to one's positionality. So from a privileged postion you must work to find other's to include and make sure they are part of the process.\n",
    "\n",
    "There is no neutral voice, data is always speaking from a perspective. Acknowledging the perspective is conditional, and actually working to create a reaction to this perspective is important so that it's clearly showcased."
   ]
  },
  {
   "cell_type": "markdown",
   "metadata": {},
   "source": [
    "### Notes\n",
    "\n",
    "#### DGEI map of children killed in hit-and-runs\n",
    "\n",
    "Taking action in four ways:\n",
    "1. collecting and compiling counterdata.\n",
    "2. Analyzing to demonstrate the inequity.\n",
    "3. Imagine an end point that is co-liberation (working with the community to be part of the solution)\n",
    "4. Teach newcomers how to engage this process of data feminism\n",
    "\n",
    "#### Data Ethics becomes Data Justice\n",
    "Focusing not simply on the inequalities in data, but actually designing justice into the data and the algorithm to push for equity. \n",
    "\n",
    "#### Co-liberation\n",
    "1970s aboriginal activists from Queensland, Austrailia – \"If you have come here to help me, you are wasting your time. But if you have come because your liberation is bound up with mine, then let us work together.\"\n",
    "\n",
    "#### Laurie Rubel (Math Department of Brooklyn College) and Local Lotto\n",
    "\n",
    "#### Flawed thinking of 'Quantification is a technology of distance' or 'Clarity without persuasion'\n",
    "'The more plain, the more neutral; the more neutral, teh more objective; and the more objective, the more true – or so this line of thinking goes.'\n",
    "\n",
    "Rather data visualization should, 'embrace emotion and embodiment,' as a principle of data feminism.\n",
    "\n",
    "And a recognition that it's impossible to create a visualization without interpretation.\n",
    "\n",
    "Feeling the differences in gender representation in the MoMA collection through performance in 'A Sort of Joy.'\n",
    "\n",
    "Difficulty of visualizing uncertainty. How the 'jittery guage' of the Trump vs. Clinton election probabilities was successful in large part do to the emotional response it created. It's constant movement evoked actual stress in the uncertainty it reprented. An actual quote from a reader of the guage – \"the most stressful thing I've ever looked at online and I've seen a lot of stressful shit.\""
   ]
  },
  {
   "cell_type": "markdown",
   "metadata": {},
   "source": [
    "### Assignment #2 Notes\n",
    "\n",
    "Y variable is the thing we're trying to predict\n",
    "X variable is the value that we're trying to use for our prediction\n",
    "\n",
    "for a $1 change in GNI per capita we would expect a .0003 years increase in life expectancy."
   ]
  }
 ],
 "metadata": {
  "kernelspec": {
   "display_name": "Python 3.9.7 ('base')",
   "language": "python",
   "name": "python3"
  },
  "language_info": {
   "name": "python",
   "version": "3.9.7"
  },
  "orig_nbformat": 4,
  "vscode": {
   "interpreter": {
    "hash": "bffae61b4a647f5c3a2b9689cc2bbc523f2c1227093a073b0d809d31c71c3583"
   }
  }
 },
 "nbformat": 4,
 "nbformat_minor": 2
}
