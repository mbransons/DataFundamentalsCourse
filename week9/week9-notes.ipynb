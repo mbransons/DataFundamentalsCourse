{
 "cells": [
  {
   "cell_type": "markdown",
   "metadata": {},
   "source": [
    "Identify three words or phrases that you think make fundamental connections between the two books. They don’t have to be words or phrases from the books themselves, but rather, concepts that could create a dialogue between the authors’ perspectives.\n",
    "\n",
    "Lack of consent in data practices. Strangers in the data as well as 'invasion of basic space of the self on behalf of an external power.'"
   ]
  },
  {
   "cell_type": "markdown",
   "metadata": {},
   "source": [
    "Data is rooted in institutions. There are historical backgrounds that are rooted in systems of power that need to be recognized. \n",
    "\n",
    "Data is never raw – it has context, it is positional.\n",
    "\n",
    "The collectors of data do not have the individuals from whom it's collected nessarily in mind. They have their goals that supersede all others.\n",
    "\n",
    "Both books are grounded in a humanist vision. In data feminism that the people that are part of the data are part of the data practice, emphasizing their voices are real and part of a contribution to the dataset. Both books are critiques of capitalism as dehumanizing. \n",
    "\n",
    "Consent of the quantified - data feminism \n",
    "\n",
    "Costs of Connection would argue that there is no longer an option to opt out. The space "
   ]
  }
 ],
 "metadata": {
  "kernelspec": {
   "display_name": "Python 3.10.2 64-bit",
   "language": "python",
   "name": "python3"
  },
  "language_info": {
   "name": "python",
   "version": "3.10.2"
  },
  "orig_nbformat": 4,
  "vscode": {
   "interpreter": {
    "hash": "aee8b7b246df8f9039afb4144a1f6fd8d2ca17a180786b69acc140d282b71a49"
   }
  }
 },
 "nbformat": 4,
 "nbformat_minor": 2
}
