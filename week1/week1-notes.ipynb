{
 "cells": [
  {
   "cell_type": "markdown",
   "metadata": {},
   "source": [
    "# Week 1\n",
    "* need to have an analytical plan that speaks to feminism \n",
    "* by end of week two what are you own learning goals in the context of the four learning goals of the class\n",
    "\n"
   ]
  },
  {
   "cell_type": "markdown",
   "metadata": {},
   "source": [
    "## Class Learning Goals\n",
    "\n",
    "1. understand the fundamental principles of ethical use of data;\n",
    "2. understand the benefits and limitations of some common types of publicly available data;\n",
    "3. master basic data acquisition and management skills;\n",
    "4. acquire familiarity with a data analysis tool such as Python or R, including basic data visualization techniques."
   ]
  },
  {
   "cell_type": "markdown",
   "metadata": {},
   "source": [
    "### Questions for discussion\n",
    "\n",
    "We want to cultivate a critical view of data, in order to see how data analysis can create benefits and harms.\n",
    "\n",
    "The central goal of a critical view of data analytics is to cultivate data acumen or data discernment, the ability to make creative and sound judgements and decisions with data. Data acumen is a perspective based on the logic of inquiry, a way of seeing and understanding practices and processes in a multitude of contexts and professions. There is much talk these days of “data-driven decision-making” in organizations across a variety of institutional settings. Data acumen is a capacity to make good data-driven decisions.\n",
    "\n",
    "\n",
    "1. How does data inform the public sphere?\n",
    "2. What is ‘data literacy’?\n",
    "3. What is ‘data democracy’?\n",
    "4. How is data analysis about power?\n",
    "\n",
    "### The Public Sphere\n",
    "\n",
    "The 'public sphere' is the place of discussion and debate in a culture and society. What matters, what people are talking about... And the accessibility to this information... Who is the message and media for?\n",
    "\n",
    "The sphere can be a place we might encounter one another and what does that space include, not include. What do we want as a group of individuals and where do we gather to discuss it. \n",
    "\n",
    "How does mass media function as the public sphere – debate of politics through the press and now social media spaces. Or podcasts... \n",
    "\n",
    "Where are the data practices – in the public sphere or in the private sphere? The individuals contribute, but organizations are massaging the data into a particular presentation.\n",
    "\n",
    "Should data scientists take a hypocratic oath? What might that look like?\n",
    "\n",
    "Domain of One's Own – a way of managing your own space.\n",
    "\n",
    "### Data for public good\n",
    "\n",
    "Data that is working toward a positive goal. A public good that uses data to help support responses to that problem. Data feminism critiques this and is redefined in \"data democracy.\" We all get to decide what makes good data practices and this includes data ethics.\n",
    "\n",
    "Building an algorithm on past practices is guaranteed to be prejudicial. Reputation algorithms for example to determine credit worthiness. Historical data and proxy variables are used to replace individual decisions. Better algorithms that are not based on proxies do exist. We can build a better algorithm! Machine learning training sets are often the source of the problem and overemphasize past practices. \n",
    "\n",
    "So how do we incorporate feedback? This is a good ways to make changes to the algorithms that respond to feedback loops where errors are discovered and the algorithms are modified. Sports data scientists do this well. \n",
    "\n",
    "It's important that data scientists describe what's left out and what's included. Reminds me of the weighted scoring of pollsters by fivethirtyeight based on a pollsters' propensity to publish the algorithms used to \n",
    "weight poll data.\n",
    "\n",
    "### data analysis and power\n",
    "\n",
    "Being able to answer why should/should not present a particular bit of data or an analysis of data. Create a profile of data practitioners to trust. "
   ]
  },
  {
   "cell_type": "markdown",
   "metadata": {},
   "source": [
    "### Communities of interest that are part of discussion\n",
    "\n",
    "* Wikipedians that cover film topics\n",
    "* Particular groups in reddit\n",
    "* the srt development communities and the movie database communities\n",
    "* SubReddit rules of conduct and moderation\n",
    "* The AI personal assistant and how we need to make sure the data set it is built upon allows for constant review and evaluation by everyone. Not just a bunch of bros looking to max perform.\n",
    "* Reducing language into data via NLP is totally crazy how this is possible.\n",
    "* Films that break down power and privilege – and shocked the priviledged at the disparity... 'Do the Right Thing'\n",
    "* Data is the new Soylent Green – data is being extracted from people and sold back to them."
   ]
  },
  {
   "cell_type": "markdown",
   "metadata": {},
   "source": [
    " "
   ]
  }
 ],
 "metadata": {
  "kernelspec": {
   "display_name": "Python 3.9.7 ('base')",
   "language": "python",
   "name": "python3"
  },
  "language_info": {
   "name": "python",
   "version": "3.9.7"
  },
  "orig_nbformat": 4,
  "vscode": {
   "interpreter": {
    "hash": "bffae61b4a647f5c3a2b9689cc2bbc523f2c1227093a073b0d809d31c71c3583"
   }
  }
 },
 "nbformat": 4,
 "nbformat_minor": 2
}
